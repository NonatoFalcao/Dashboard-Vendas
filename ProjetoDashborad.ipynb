{
  "cells": [
    {
      "cell_type": "code",
      "execution_count": 63,
      "metadata": {
        "colab": {
          "base_uri": "https://localhost:8080/"
        },
        "id": "Mlef-yq8g5Xw",
        "outputId": "15be05b8-ea24-41da-c3f6-90623b5a8d35"
      },
      "outputs": [
        {
          "name": "stdout",
          "output_type": "stream",
          "text": [
            "Note: you may need to restart the kernel to use updated packages.Requirement already satisfied: kagglehub[pandas-datasets] in c:\\users\\--\\appdata\\local\\programs\\python\\python313\\lib\\site-packages (0.3.13)\n",
            "Requirement already satisfied: packaging in c:\\users\\--\\appdata\\roaming\\python\\python313\\site-packages (from kagglehub[pandas-datasets]) (24.1)\n",
            "Requirement already satisfied: pyyaml in c:\\users\\--\\appdata\\local\\programs\\python\\python313\\lib\\site-packages (from kagglehub[pandas-datasets]) (6.0.3)\n",
            "Requirement already satisfied: requests in c:\\users\\--\\appdata\\local\\programs\\python\\python313\\lib\\site-packages (from kagglehub[pandas-datasets]) (2.32.3)\n",
            "Requirement already satisfied: tqdm in c:\\users\\--\\appdata\\local\\programs\\python\\python313\\lib\\site-packages (from kagglehub[pandas-datasets]) (4.67.1)\n",
            "Requirement already satisfied: pandas in c:\\users\\--\\appdata\\local\\programs\\python\\python313\\lib\\site-packages (from kagglehub[pandas-datasets]) (2.2.3)\n",
            "Requirement already satisfied: numpy>=1.26.0 in c:\\users\\--\\appdata\\local\\programs\\python\\python313\\lib\\site-packages (from pandas->kagglehub[pandas-datasets]) (2.2.4)\n",
            "Requirement already satisfied: python-dateutil>=2.8.2 in c:\\users\\--\\appdata\\roaming\\python\\python313\\site-packages (from pandas->kagglehub[pandas-datasets]) (2.9.0.post0)\n",
            "Requirement already satisfied: pytz>=2020.1 in c:\\users\\--\\appdata\\local\\programs\\python\\python313\\lib\\site-packages (from pandas->kagglehub[pandas-datasets]) (2025.2)\n",
            "Requirement already satisfied: tzdata>=2022.7 in c:\\users\\--\\appdata\\local\\programs\\python\\python313\\lib\\site-packages (from pandas->kagglehub[pandas-datasets]) (2025.1)\n",
            "Requirement already satisfied: six>=1.5 in c:\\users\\--\\appdata\\roaming\\python\\python313\\site-packages (from python-dateutil>=2.8.2->pandas->kagglehub[pandas-datasets]) (1.16.0)\n",
            "Requirement already satisfied: charset-normalizer<4,>=2 in c:\\users\\--\\appdata\\local\\programs\\python\\python313\\lib\\site-packages (from requests->kagglehub[pandas-datasets]) (3.4.0)\n",
            "Requirement already satisfied: idna<4,>=2.5 in c:\\users\\--\\appdata\\local\\programs\\python\\python313\\lib\\site-packages (from requests->kagglehub[pandas-datasets]) (2.10)\n",
            "Requirement already satisfied: urllib3<3,>=1.21.1 in c:\\users\\--\\appdata\\local\\programs\\python\\python313\\lib\\site-packages (from requests->kagglehub[pandas-datasets]) (2.2.3)\n",
            "Requirement already satisfied: certifi>=2017.4.17 in c:\\users\\--\\appdata\\local\\programs\\python\\python313\\lib\\site-packages (from requests->kagglehub[pandas-datasets]) (2024.8.30)\n",
            "Requirement already satisfied: colorama in c:\\users\\--\\appdata\\roaming\\python\\python313\\site-packages (from tqdm->kagglehub[pandas-datasets]) (0.4.6)\n",
            "\n"
          ]
        }
      ],
      "source": [
        "pip install kagglehub[pandas-datasets]"
      ]
    },
    {
      "cell_type": "code",
      "execution_count": 64,
      "metadata": {},
      "outputs": [
        {
          "name": "stdout",
          "output_type": "stream",
          "text": [
            "Requirement already satisfied: scipy in c:\\users\\--\\appdata\\local\\programs\\python\\python313\\lib\\site-packages (1.16.2)Note: you may need to restart the kernel to use updated packages.\n",
            "\n",
            "Requirement already satisfied: numpy<2.6,>=1.25.2 in c:\\users\\--\\appdata\\local\\programs\\python\\python313\\lib\\site-packages (from scipy) (2.2.4)\n"
          ]
        }
      ],
      "source": [
        "pip install scipy"
      ]
    },
    {
      "cell_type": "code",
      "execution_count": 65,
      "metadata": {},
      "outputs": [
        {
          "name": "stdout",
          "output_type": "stream",
          "text": [
            "Requirement already satisfied: plotly in c:\\users\\--\\appdata\\local\\programs\\python\\python313\\lib\\site-packages (6.3.0)\n",
            "Requirement already satisfied: narwhals>=1.15.1 in c:\\users\\--\\appdata\\local\\programs\\python\\python313\\lib\\site-packages (from plotly) (2.5.0)\n",
            "Requirement already satisfied: packaging in c:\\users\\--\\appdata\\roaming\\python\\python313\\site-packages (from plotly) (24.1)\n",
            "Note: you may need to restart the kernel to use updated packages.\n"
          ]
        }
      ],
      "source": [
        "pip install plotly"
      ]
    },
    {
      "cell_type": "code",
      "execution_count": 66,
      "metadata": {},
      "outputs": [
        {
          "name": "stdout",
          "output_type": "stream",
          "text": [
            "Note: you may need to restart the kernel to use updated packages.\n"
          ]
        }
      ],
      "source": [
        "pip install statsmodels --quiet"
      ]
    },
    {
      "cell_type": "code",
      "execution_count": 67,
      "metadata": {},
      "outputs": [
        {
          "name": "stdout",
          "output_type": "stream",
          "text": [
            "Requirement already satisfied: seaborn in c:\\users\\--\\appdata\\local\\programs\\python\\python313\\lib\\site-packages (0.13.2)Note: you may need to restart the kernel to use updated packages.\n",
            "\n",
            "Requirement already satisfied: numpy!=1.24.0,>=1.20 in c:\\users\\--\\appdata\\local\\programs\\python\\python313\\lib\\site-packages (from seaborn) (2.2.4)\n",
            "Requirement already satisfied: pandas>=1.2 in c:\\users\\--\\appdata\\local\\programs\\python\\python313\\lib\\site-packages (from seaborn) (2.2.3)\n",
            "Requirement already satisfied: matplotlib!=3.6.1,>=3.4 in c:\\users\\--\\appdata\\local\\programs\\python\\python313\\lib\\site-packages (from seaborn) (3.10.1)\n",
            "Requirement already satisfied: contourpy>=1.0.1 in c:\\users\\--\\appdata\\local\\programs\\python\\python313\\lib\\site-packages (from matplotlib!=3.6.1,>=3.4->seaborn) (1.3.1)\n",
            "Requirement already satisfied: cycler>=0.10 in c:\\users\\--\\appdata\\local\\programs\\python\\python313\\lib\\site-packages (from matplotlib!=3.6.1,>=3.4->seaborn) (0.12.1)\n",
            "Requirement already satisfied: fonttools>=4.22.0 in c:\\users\\--\\appdata\\local\\programs\\python\\python313\\lib\\site-packages (from matplotlib!=3.6.1,>=3.4->seaborn) (4.57.0)\n",
            "Requirement already satisfied: kiwisolver>=1.3.1 in c:\\users\\--\\appdata\\local\\programs\\python\\python313\\lib\\site-packages (from matplotlib!=3.6.1,>=3.4->seaborn) (1.4.8)\n",
            "Requirement already satisfied: packaging>=20.0 in c:\\users\\--\\appdata\\roaming\\python\\python313\\site-packages (from matplotlib!=3.6.1,>=3.4->seaborn) (24.1)\n",
            "Requirement already satisfied: pillow>=8 in c:\\users\\--\\appdata\\local\\programs\\python\\python313\\lib\\site-packages (from matplotlib!=3.6.1,>=3.4->seaborn) (11.2.1)\n",
            "Requirement already satisfied: pyparsing>=2.3.1 in c:\\users\\--\\appdata\\local\\programs\\python\\python313\\lib\\site-packages (from matplotlib!=3.6.1,>=3.4->seaborn) (3.2.3)\n",
            "Requirement already satisfied: python-dateutil>=2.7 in c:\\users\\--\\appdata\\roaming\\python\\python313\\site-packages (from matplotlib!=3.6.1,>=3.4->seaborn) (2.9.0.post0)\n",
            "Requirement already satisfied: pytz>=2020.1 in c:\\users\\--\\appdata\\local\\programs\\python\\python313\\lib\\site-packages (from pandas>=1.2->seaborn) (2025.2)\n",
            "Requirement already satisfied: tzdata>=2022.7 in c:\\users\\--\\appdata\\local\\programs\\python\\python313\\lib\\site-packages (from pandas>=1.2->seaborn) (2025.1)\n",
            "Requirement already satisfied: six>=1.5 in c:\\users\\--\\appdata\\roaming\\python\\python313\\site-packages (from python-dateutil>=2.7->matplotlib!=3.6.1,>=3.4->seaborn) (1.16.0)\n"
          ]
        }
      ],
      "source": [
        "pip install seaborn"
      ]
    },
    {
      "cell_type": "code",
      "execution_count": 68,
      "metadata": {
        "id": "X6YApn-Ibndy"
      },
      "outputs": [],
      "source": [
        "import kagglehub\n",
        "from kagglehub import KaggleDatasetAdapter\n",
        "import pandas as pd\n",
        "import seaborn as sns\n",
        "import matplotlib.pyplot as plt\n",
        "from scipy.stats import pearsonr\n",
        "import plotly.express as px\n",
        "import plotly.io as pio"
      ]
    },
    {
      "cell_type": "code",
      "execution_count": 69,
      "metadata": {
        "colab": {
          "base_uri": "https://localhost:8080/"
        },
        "id": "9QJNE0gqVPJK",
        "outputId": "435ec5ca-3c32-4d84-b613-6cb9b2936959"
      },
      "outputs": [
        {
          "name": "stderr",
          "output_type": "stream",
          "text": [
            "C:\\Users\\--\\AppData\\Local\\Temp\\ipykernel_10624\\416376811.py:5: DeprecationWarning:\n",
            "\n",
            "Use dataset_load() instead of load_dataset(). load_dataset() will be removed in a future version.\n",
            "\n"
          ]
        }
      ],
      "source": [
        "# Set the path to the file you'd like to load\n",
        "file_path = \"vgsales.csv\"\n",
        "\n",
        "# Load the latest version\n",
        "df = kagglehub.load_dataset(  KaggleDatasetAdapter.PANDAS,\n",
        "  \"anandshaw2001/video-game-sales\",\n",
        "  file_path,\n",
        "  # Provide any additional arguments like\n",
        "  # sql_query or pandas_kwargs. See the\n",
        "  # documenation for more information:\n",
        "  # https://github.com/Kaggle/kagglehub/blob/main/README.md#kaggledatasetadapterpandas\n",
        ")\n",
        "\n"
      ]
    },
    {
      "cell_type": "markdown",
      "metadata": {
        "id": "acs7M0CTd3cI"
      },
      "source": [
        "# Análise Exploratória"
      ]
    },
    {
      "cell_type": "code",
      "execution_count": 70,
      "metadata": {
        "colab": {
          "base_uri": "https://localhost:8080/"
        },
        "id": "6uTBh4O3iKgu",
        "outputId": "670d5925-a061-4bd5-ad16-2e0e4707dbe0"
      },
      "outputs": [
        {
          "name": "stdout",
          "output_type": "stream",
          "text": [
            "(16598, 11)\n"
          ]
        }
      ],
      "source": [
        "print(df.shape)"
      ]
    },
    {
      "cell_type": "code",
      "execution_count": 71,
      "metadata": {
        "colab": {
          "base_uri": "https://localhost:8080/",
          "height": 206
        },
        "id": "ogq3k8k4iLr-",
        "outputId": "be94bfd2-4ee6-4174-af6e-c3f9f61a48b4"
      },
      "outputs": [
        {
          "data": {
            "text/html": [
              "<div>\n",
              "<style scoped>\n",
              "    .dataframe tbody tr th:only-of-type {\n",
              "        vertical-align: middle;\n",
              "    }\n",
              "\n",
              "    .dataframe tbody tr th {\n",
              "        vertical-align: top;\n",
              "    }\n",
              "\n",
              "    .dataframe thead th {\n",
              "        text-align: right;\n",
              "    }\n",
              "</style>\n",
              "<table border=\"1\" class=\"dataframe\">\n",
              "  <thead>\n",
              "    <tr style=\"text-align: right;\">\n",
              "      <th></th>\n",
              "      <th>Rank</th>\n",
              "      <th>Name</th>\n",
              "      <th>Platform</th>\n",
              "      <th>Year</th>\n",
              "      <th>Genre</th>\n",
              "      <th>Publisher</th>\n",
              "      <th>NA_Sales</th>\n",
              "      <th>EU_Sales</th>\n",
              "      <th>JP_Sales</th>\n",
              "      <th>Other_Sales</th>\n",
              "      <th>Global_Sales</th>\n",
              "    </tr>\n",
              "  </thead>\n",
              "  <tbody>\n",
              "    <tr>\n",
              "      <th>0</th>\n",
              "      <td>1</td>\n",
              "      <td>Wii Sports</td>\n",
              "      <td>Wii</td>\n",
              "      <td>2006.0</td>\n",
              "      <td>Sports</td>\n",
              "      <td>Nintendo</td>\n",
              "      <td>41.49</td>\n",
              "      <td>29.02</td>\n",
              "      <td>3.77</td>\n",
              "      <td>8.46</td>\n",
              "      <td>82.74</td>\n",
              "    </tr>\n",
              "    <tr>\n",
              "      <th>1</th>\n",
              "      <td>2</td>\n",
              "      <td>Super Mario Bros.</td>\n",
              "      <td>NES</td>\n",
              "      <td>1985.0</td>\n",
              "      <td>Platform</td>\n",
              "      <td>Nintendo</td>\n",
              "      <td>29.08</td>\n",
              "      <td>3.58</td>\n",
              "      <td>6.81</td>\n",
              "      <td>0.77</td>\n",
              "      <td>40.24</td>\n",
              "    </tr>\n",
              "    <tr>\n",
              "      <th>2</th>\n",
              "      <td>3</td>\n",
              "      <td>Mario Kart Wii</td>\n",
              "      <td>Wii</td>\n",
              "      <td>2008.0</td>\n",
              "      <td>Racing</td>\n",
              "      <td>Nintendo</td>\n",
              "      <td>15.85</td>\n",
              "      <td>12.88</td>\n",
              "      <td>3.79</td>\n",
              "      <td>3.31</td>\n",
              "      <td>35.82</td>\n",
              "    </tr>\n",
              "    <tr>\n",
              "      <th>3</th>\n",
              "      <td>4</td>\n",
              "      <td>Wii Sports Resort</td>\n",
              "      <td>Wii</td>\n",
              "      <td>2009.0</td>\n",
              "      <td>Sports</td>\n",
              "      <td>Nintendo</td>\n",
              "      <td>15.75</td>\n",
              "      <td>11.01</td>\n",
              "      <td>3.28</td>\n",
              "      <td>2.96</td>\n",
              "      <td>33.00</td>\n",
              "    </tr>\n",
              "    <tr>\n",
              "      <th>4</th>\n",
              "      <td>5</td>\n",
              "      <td>Pokemon Red/Pokemon Blue</td>\n",
              "      <td>GB</td>\n",
              "      <td>1996.0</td>\n",
              "      <td>Role-Playing</td>\n",
              "      <td>Nintendo</td>\n",
              "      <td>11.27</td>\n",
              "      <td>8.89</td>\n",
              "      <td>10.22</td>\n",
              "      <td>1.00</td>\n",
              "      <td>31.37</td>\n",
              "    </tr>\n",
              "  </tbody>\n",
              "</table>\n",
              "</div>"
            ],
            "text/plain": [
              "   Rank                      Name Platform    Year         Genre Publisher  \\\n",
              "0     1                Wii Sports      Wii  2006.0        Sports  Nintendo   \n",
              "1     2         Super Mario Bros.      NES  1985.0      Platform  Nintendo   \n",
              "2     3            Mario Kart Wii      Wii  2008.0        Racing  Nintendo   \n",
              "3     4         Wii Sports Resort      Wii  2009.0        Sports  Nintendo   \n",
              "4     5  Pokemon Red/Pokemon Blue       GB  1996.0  Role-Playing  Nintendo   \n",
              "\n",
              "   NA_Sales  EU_Sales  JP_Sales  Other_Sales  Global_Sales  \n",
              "0     41.49     29.02      3.77         8.46         82.74  \n",
              "1     29.08      3.58      6.81         0.77         40.24  \n",
              "2     15.85     12.88      3.79         3.31         35.82  \n",
              "3     15.75     11.01      3.28         2.96         33.00  \n",
              "4     11.27      8.89     10.22         1.00         31.37  "
            ]
          },
          "execution_count": 71,
          "metadata": {},
          "output_type": "execute_result"
        }
      ],
      "source": [
        "df.head()"
      ]
    },
    {
      "cell_type": "code",
      "execution_count": 72,
      "metadata": {
        "colab": {
          "base_uri": "https://localhost:8080/"
        },
        "id": "Vj6fdMx9sAib",
        "outputId": "14baad93-f0d2-412c-a941-046ee8a1dcf6"
      },
      "outputs": [
        {
          "data": {
            "text/plain": [
              "array(['Nintendo', 'Microsoft Game Studios', 'Take-Two Interactive',\n",
              "       'Sony Computer Entertainment', 'Activision', 'Ubisoft',\n",
              "       'Bethesda Softworks', 'Electronic Arts', 'Sega', 'SquareSoft',\n",
              "       'Atari', '505 Games', 'Capcom', 'GT Interactive',\n",
              "       'Konami Digital Entertainment',\n",
              "       'Sony Computer Entertainment Europe', 'Square Enix', 'LucasArts',\n",
              "       'Virgin Interactive', 'Warner Bros. Interactive Entertainment',\n",
              "       'Universal Interactive', 'Eidos Interactive', 'RedOctane',\n",
              "       'Vivendi Games', 'Enix Corporation', 'Namco Bandai Games',\n",
              "       'Palcom', 'Hasbro Interactive', 'THQ', 'Fox Interactive',\n",
              "       'Acclaim Entertainment', 'MTV Games', 'Disney Interactive Studios',\n",
              "       nan, 'Majesco Entertainment', 'Codemasters', 'Red Orb', 'Level 5',\n",
              "       'Arena Entertainment', 'Midway Games', 'JVC', 'Deep Silver',\n",
              "       '989 Studios', 'NCSoft', 'UEP Systems', 'Parker Bros.', 'Maxis',\n",
              "       'Imagic', 'Tecmo Koei', 'Valve Software', 'ASCII Entertainment',\n",
              "       'Mindscape', 'Infogrames', 'Unknown', 'Square', 'Valve',\n",
              "       'Activision Value', 'Banpresto', 'D3Publisher',\n",
              "       'Oxygen Interactive', 'Red Storm Entertainment', 'Video System',\n",
              "       'Hello Games', 'Global Star', 'Gotham Games', 'Westwood Studios',\n",
              "       'GungHo', 'Crave Entertainment', 'Hudson Soft', 'Coleco',\n",
              "       'Rising Star Games', 'Atlus', 'TDK Mediactive', 'ASC Games',\n",
              "       'Zoo Games', 'Accolade', 'Sony Online Entertainment', '3DO', 'RTL',\n",
              "       'Natsume', 'Focus Home Interactive', 'Alchemist',\n",
              "       'Black Label Games', 'SouthPeak Games', 'Mastertronic', 'Ocean',\n",
              "       'Zoo Digital Publishing', 'Psygnosis', 'City Interactive',\n",
              "       'Empire Interactive', 'Success', 'Compile', 'Russel', 'Taito',\n",
              "       'Agetec', 'GSP', 'Microprose', 'Play It', 'Slightly Mad Studios',\n",
              "       'Tomy Corporation', 'Sammy Corporation', 'Koch Media',\n",
              "       'Game Factory', 'Titus', 'Marvelous Entertainment', 'Genki',\n",
              "       'Mojang', 'Pinnacle', 'CTO SpA', 'TalonSoft', 'Crystal Dynamics',\n",
              "       'SCi', 'Quelle', 'mixi, Inc', 'Rage Software', 'Ubisoft Annecy',\n",
              "       'Scholastic Inc.', 'Interplay', 'Mystique', 'ChunSoft',\n",
              "       'Square EA', '20th Century Fox Video Games', 'Avanquest Software',\n",
              "       'Hudson Entertainment', 'Nordic Games', 'Men-A-Vision', 'Nobilis',\n",
              "       'Big Ben Interactive', 'Touchstone', 'Spike', 'Jester Interactive',\n",
              "       'Nippon Ichi Software', 'LEGO Media', 'Quest',\n",
              "       'Illusion Softworks', 'Tigervision', 'Funbox Media',\n",
              "       'Rocket Company', 'Metro 3D', 'Mattel Interactive', 'IE Institute',\n",
              "       'Rondomedia', 'Sony Computer Entertainment America',\n",
              "       'Universal Gamex', 'Ghostlight', 'Wizard Video Games',\n",
              "       'BMG Interactive Entertainment', 'PQube', 'Trion Worlds', 'Laguna',\n",
              "       'Ignition Entertainment', 'Takara', 'Kadokawa Shoten', 'Destineer',\n",
              "       'Enterbrain', 'Xseed Games', 'Imagineer',\n",
              "       'System 3 Arcade Software', 'CPG Products', 'Aruze Corp',\n",
              "       'Gamebridge', 'Midas Interactive Entertainment', 'Jaleco',\n",
              "       'Answer Software', 'XS Games', 'Activision Blizzard',\n",
              "       'Pack In Soft', 'Rebellion', 'Xplosiv', 'Ultravision',\n",
              "       'GameMill Entertainment', 'Wanadoo', 'NovaLogic', 'Telltale Games',\n",
              "       'Epoch', 'BAM! Entertainment', 'Knowledge Adventure', 'Mastiff',\n",
              "       'Tetris Online', 'Harmonix Music Systems', 'ESP', 'TYO',\n",
              "       'Telegames', 'Mud Duck Productions', 'Screenlife', 'Pioneer LDC',\n",
              "       'Magical Company', 'Mentor Interactive', 'Kemco',\n",
              "       'Human Entertainment', 'Avanquest', 'Data Age',\n",
              "       'Electronic Arts Victor', 'Black Bean Games', 'Jack of All Games',\n",
              "       '989 Sports', 'Takara Tomy', 'Media Rings', 'Elf', 'Kalypso Media',\n",
              "       'Starfish', 'Zushi Games', 'Jorudan', 'Destination Software, Inc',\n",
              "       'New', 'Brash Entertainment', 'ITT Family Games', 'PopCap Games',\n",
              "       'Home Entertainment Suppliers', 'Ackkstudios', 'Starpath Corp.',\n",
              "       'P2 Games', 'BPS', 'Gathering of Developers', 'NewKidCo',\n",
              "       'Storm City Games', 'CokeM Interactive', 'CBS Electronics',\n",
              "       'Magix', 'Marvelous Interactive', 'Nihon Falcom Corporation',\n",
              "       'Wargaming.net', 'Angel Studios', 'Arc System Works', 'Playmates',\n",
              "       'SNK Playmore', 'Hamster Corporation', 'From Software',\n",
              "       'Nippon Columbia', 'Nichibutsu', 'Little Orbit',\n",
              "       'Conspiracy Entertainment', 'DTP Entertainment', 'Hect',\n",
              "       'Mumbo Jumbo', 'Pacific Century Cyber Works', 'Indie Games',\n",
              "       'Liquid Games', 'NEC', 'Axela', 'ArtDink', 'Sunsoft', 'Gust',\n",
              "       'SNK', 'NEC Interchannel', 'FuRyu', 'Xing Entertainment',\n",
              "       'ValuSoft', 'Victor Interactive', 'Detn8 Games',\n",
              "       'American Softworks', 'Nordcurrent', 'Bomb', 'Falcom Corporation',\n",
              "       'AQ Interactive', 'CCP', 'Milestone S.r.l.', 'Sears',\n",
              "       'JoWood Productions', 'Seta Corporation', 'On Demand', 'NCS',\n",
              "       'Aspyr', 'Gremlin Interactive Ltd', 'Agatsuma Entertainment',\n",
              "       'Compile Heart', 'Culture Brain', 'Mad Catz', 'Shogakukan',\n",
              "       'Merscom LLC', 'Rebellion Developments', 'Nippon Telenet',\n",
              "       'TDK Core', 'bitComposer Games', 'Foreign Media Games', 'Astragon',\n",
              "       'SSI', 'Kadokawa Games', 'Idea Factory',\n",
              "       'Performance Designed Products', 'Asylum Entertainment',\n",
              "       'Core Design Ltd.', 'PlayV', 'UFO Interactive',\n",
              "       'Idea Factory International', 'Playlogic Game Factory',\n",
              "       'Essential Games', 'Adeline Software', 'Funcom',\n",
              "       'Panther Software', 'Blast! Entertainment Ltd', 'Game Life',\n",
              "       'DSI Games', 'Avalon Interactive', 'Popcorn Arcade',\n",
              "       'Neko Entertainment', 'Vir2L Studios', 'Aques', 'Syscom',\n",
              "       'White Park Bay Software', 'System 3', 'Vatical Entertainment',\n",
              "       'Daedalic', 'EA Games', 'Media Factory', 'Vic Tokai',\n",
              "       'The Adventure Company', 'Game Arts', 'Broccoli', 'Acquire',\n",
              "       'General Entertainment', 'Excalibur Publishing', 'Imadio',\n",
              "       'Swing! Entertainment', 'Sony Music Entertainment', 'Aqua Plus',\n",
              "       'Paradox Interactive', 'Hip Interactive',\n",
              "       'DreamCatcher Interactive', 'Tripwire Interactive', 'Sting',\n",
              "       'Yacht Club Games', 'SCS Software', 'Bigben Interactive',\n",
              "       'Havas Interactive', 'Slitherine Software', 'Graffiti', 'Funsta',\n",
              "       'Telstar', 'U.S. Gold', 'DreamWorks Interactive',\n",
              "       'Data Design Interactive', 'MTO', 'DHM Interactive', 'FunSoft',\n",
              "       'SPS', 'Bohemia Interactive', 'Reef Entertainment',\n",
              "       'Tru Blu Entertainment', 'Moss', 'T&E Soft', 'O-Games',\n",
              "       'Aksys Games', 'NDA Productions', 'Data East',\n",
              "       'Time Warner Interactive', 'Gainax Network Systems', 'Daito',\n",
              "       'O3 Entertainment', 'Gameloft', 'Xicat Interactive',\n",
              "       'Simon & Schuster Interactive', 'Valcon Games', 'PopTop Software',\n",
              "       'TOHO', 'HMH Interactive', '5pb', 'Cave',\n",
              "       'CDV Software Entertainment', 'Microids', 'PM Studios', 'Paon',\n",
              "       'Micro Cabin', 'GameTek', 'Benesse', 'Type-Moon',\n",
              "       'Enjoy Gaming ltd.', 'Asmik Corp', 'Interplay Productions',\n",
              "       'Asmik Ace Entertainment', 'inXile Entertainment', 'Image Epoch',\n",
              "       'Phantom EFX', 'Evolved Games', 'responDESIGN',\n",
              "       'Culture Publishers', 'Griffin International', 'Hackberry',\n",
              "       'Hearty Robin', 'Nippon Amuse', 'Origin Systems', 'Seventh Chord',\n",
              "       'Mitsui', 'Milestone', 'Abylight', 'Flight-Plan', 'Glams', 'Locus',\n",
              "       'Warp', 'Daedalic Entertainment', 'Alternative Software',\n",
              "       'Myelin Media', 'Mercury Games', 'Irem Software Engineering',\n",
              "       'Sunrise Interactive', 'Elite', 'Evolution Games', 'Tivola',\n",
              "       'Global A Entertainment', 'Edia', 'Athena', 'Aria', 'Gamecock',\n",
              "       'Tommo', 'Altron', 'Happinet', 'iWin', 'Media Works', 'Fortyfive',\n",
              "       'Revolution Software', 'Imax', 'Crimson Cow', '10TACLE Studios',\n",
              "       'Groove Games', 'Pack-In-Video', 'Insomniac Games',\n",
              "       'Ascaron Entertainment GmbH', 'Asgard', 'Ecole', 'Yumedia',\n",
              "       'Phenomedia', 'HAL Laboratory', 'Grand Prix Games', 'DigiCube',\n",
              "       'Creative Core', 'Kaga Create', 'WayForward Technologies',\n",
              "       'LSP Games', 'ASCII Media Works', 'Coconuts Japan', 'Arika',\n",
              "       'Ertain', 'Marvel Entertainment', 'Prototype',\n",
              "       'TopWare Interactive', 'Phantagram', '1C Company',\n",
              "       'The Learning Company', 'TechnoSoft', 'Vap', 'Misawa', 'Tradewest',\n",
              "       'Team17 Software', 'Yeti', 'Pow', 'Navarre Corp', 'MediaQuest',\n",
              "       'Max Five', 'Comfort', 'Monte Christo Multimedia', 'Pony Canyon',\n",
              "       'Riverhillsoft', 'Summitsoft', 'Milestone S.r.l', 'Playmore',\n",
              "       'MLB.com', 'Kool Kizz', 'Flashpoint Games', '49Games',\n",
              "       'Legacy Interactive', 'Alawar Entertainment', 'CyberFront',\n",
              "       'Cloud Imperium Games Corporation', 'Societa',\n",
              "       'Virtual Play Games', 'Interchannel', 'Sonnet', 'Experience Inc.',\n",
              "       'Zenrin', 'Iceberg Interactive', 'Ivolgamus', '2D Boy',\n",
              "       'MC2 Entertainment', 'Kando Games', 'Just Flight', 'Office Create',\n",
              "       'Mamba Games', 'Fields', 'Princess Soft', 'Maximum Family Games',\n",
              "       'Berkeley', 'Fuji', 'Dusenberry Martin Racing', 'imageepoch Inc.',\n",
              "       'Big Fish Games', 'Her Interactive', 'Kamui', 'ASK',\n",
              "       'Headup Games', 'KSS', 'Cygames', 'KID', 'Quinrose', 'Sunflowers',\n",
              "       'dramatic create', 'TGL', 'Encore', 'Extreme Entertainment Group',\n",
              "       'Intergrow', 'G.Rev', 'Sweets', 'Kokopeli Digital Studios',\n",
              "       'Number None', 'Nexon', 'id Software', 'BushiRoad', 'Tryfirst',\n",
              "       'Strategy First', '7G//AMES', 'GN Software', \"Yuke's\",\n",
              "       'Easy Interactive', 'Licensed 4U', 'FuRyu Corporation',\n",
              "       'Lexicon Entertainment', 'Paon Corporation', 'Kids Station', 'GOA',\n",
              "       'Graphsim Entertainment', 'King Records', 'Introversion Software',\n",
              "       'Minato Station', 'Devolver Digital', 'Blue Byte', 'Gaga',\n",
              "       'Yamasa Entertainment', 'Plenty', 'Views', 'fonfun', 'NetRevo',\n",
              "       'Codemasters Online', 'Quintet', 'Phoenix Games', 'Dorart',\n",
              "       'Marvelous Games', 'Focus Multimedia', 'Imageworks',\n",
              "       'Karin Entertainment', 'Aerosoft', 'Technos Japan Corporation',\n",
              "       'Gakken', 'Mirai Shounen', 'Datam Polystar', 'Saurus', 'HuneX',\n",
              "       'Revolution (Japan)', 'Giza10', 'Visco', 'Alvion', 'Mycom', 'Giga',\n",
              "       'Warashi', 'System Soft', 'Sold Out', 'Lighthouse Interactive',\n",
              "       'Masque Publishing', 'RED Entertainment', 'Michaelsoft',\n",
              "       'Media Entertainment', 'New World Computing', 'Genterprise',\n",
              "       'Interworks Unlimited, Inc.', 'Boost On', 'Stainless Games',\n",
              "       'EON Digital Entertainment', 'Epic Games', 'Naxat Soft',\n",
              "       'Ascaron Entertainment', 'Piacci', 'Nitroplus',\n",
              "       'Paradox Development', 'Otomate', 'Ongakukan', 'Commseed',\n",
              "       'Inti Creates', 'Takuyo', 'Interchannel-Holon', 'Rain Games',\n",
              "       'UIG Entertainment'], dtype=object)"
            ]
          },
          "execution_count": 72,
          "metadata": {},
          "output_type": "execute_result"
        }
      ],
      "source": [
        "df['Publisher'].unique()"
      ]
    },
    {
      "cell_type": "code",
      "execution_count": 73,
      "metadata": {
        "colab": {
          "base_uri": "https://localhost:8080/"
        },
        "id": "iv0qysiyauMV",
        "outputId": "e7399602-33eb-4df2-9707-fda6a543d44a"
      },
      "outputs": [
        {
          "name": "stdout",
          "output_type": "stream",
          "text": [
            "Index(['Rank', 'Name', 'Platform', 'Year', 'Genre', 'Publisher', 'NA_Sales',\n",
            "       'EU_Sales', 'JP_Sales', 'Other_Sales', 'Global_Sales'],\n",
            "      dtype='object')\n"
          ]
        }
      ],
      "source": [
        "print(df.columns)"
      ]
    },
    {
      "cell_type": "code",
      "execution_count": 74,
      "metadata": {
        "colab": {
          "base_uri": "https://localhost:8080/"
        },
        "id": "nqq43qsmavjy",
        "outputId": "547abfdd-9e71-4267-a31f-01e1711518f3"
      },
      "outputs": [
        {
          "name": "stdout",
          "output_type": "stream",
          "text": [
            "<class 'pandas.core.frame.DataFrame'>\n",
            "RangeIndex: 16598 entries, 0 to 16597\n",
            "Data columns (total 11 columns):\n",
            " #   Column        Non-Null Count  Dtype  \n",
            "---  ------        --------------  -----  \n",
            " 0   Rank          16598 non-null  int64  \n",
            " 1   Name          16598 non-null  object \n",
            " 2   Platform      16598 non-null  object \n",
            " 3   Year          16327 non-null  float64\n",
            " 4   Genre         16598 non-null  object \n",
            " 5   Publisher     16540 non-null  object \n",
            " 6   NA_Sales      16598 non-null  float64\n",
            " 7   EU_Sales      16598 non-null  float64\n",
            " 8   JP_Sales      16598 non-null  float64\n",
            " 9   Other_Sales   16598 non-null  float64\n",
            " 10  Global_Sales  16598 non-null  float64\n",
            "dtypes: float64(6), int64(1), object(4)\n",
            "memory usage: 1.4+ MB\n",
            "None\n"
          ]
        }
      ],
      "source": [
        "print(df.info())"
      ]
    },
    {
      "cell_type": "code",
      "execution_count": 75,
      "metadata": {
        "colab": {
          "base_uri": "https://localhost:8080/",
          "height": 300
        },
        "id": "Pp8a8TQ6bPXE",
        "outputId": "3f915b8b-14c5-4d3e-f362-7e471090e2e6"
      },
      "outputs": [
        {
          "data": {
            "text/html": [
              "<div>\n",
              "<style scoped>\n",
              "    .dataframe tbody tr th:only-of-type {\n",
              "        vertical-align: middle;\n",
              "    }\n",
              "\n",
              "    .dataframe tbody tr th {\n",
              "        vertical-align: top;\n",
              "    }\n",
              "\n",
              "    .dataframe thead th {\n",
              "        text-align: right;\n",
              "    }\n",
              "</style>\n",
              "<table border=\"1\" class=\"dataframe\">\n",
              "  <thead>\n",
              "    <tr style=\"text-align: right;\">\n",
              "      <th></th>\n",
              "      <th>Rank</th>\n",
              "      <th>Year</th>\n",
              "      <th>NA_Sales</th>\n",
              "      <th>EU_Sales</th>\n",
              "      <th>JP_Sales</th>\n",
              "      <th>Other_Sales</th>\n",
              "      <th>Global_Sales</th>\n",
              "    </tr>\n",
              "  </thead>\n",
              "  <tbody>\n",
              "    <tr>\n",
              "      <th>count</th>\n",
              "      <td>16598.000000</td>\n",
              "      <td>16327.000000</td>\n",
              "      <td>16598.000000</td>\n",
              "      <td>16598.000000</td>\n",
              "      <td>16598.000000</td>\n",
              "      <td>16598.000000</td>\n",
              "      <td>16598.000000</td>\n",
              "    </tr>\n",
              "    <tr>\n",
              "      <th>mean</th>\n",
              "      <td>8300.605254</td>\n",
              "      <td>2006.406443</td>\n",
              "      <td>0.264667</td>\n",
              "      <td>0.146652</td>\n",
              "      <td>0.077782</td>\n",
              "      <td>0.048063</td>\n",
              "      <td>0.537441</td>\n",
              "    </tr>\n",
              "    <tr>\n",
              "      <th>std</th>\n",
              "      <td>4791.853933</td>\n",
              "      <td>5.828981</td>\n",
              "      <td>0.816683</td>\n",
              "      <td>0.505351</td>\n",
              "      <td>0.309291</td>\n",
              "      <td>0.188588</td>\n",
              "      <td>1.555028</td>\n",
              "    </tr>\n",
              "    <tr>\n",
              "      <th>min</th>\n",
              "      <td>1.000000</td>\n",
              "      <td>1980.000000</td>\n",
              "      <td>0.000000</td>\n",
              "      <td>0.000000</td>\n",
              "      <td>0.000000</td>\n",
              "      <td>0.000000</td>\n",
              "      <td>0.010000</td>\n",
              "    </tr>\n",
              "    <tr>\n",
              "      <th>25%</th>\n",
              "      <td>4151.250000</td>\n",
              "      <td>2003.000000</td>\n",
              "      <td>0.000000</td>\n",
              "      <td>0.000000</td>\n",
              "      <td>0.000000</td>\n",
              "      <td>0.000000</td>\n",
              "      <td>0.060000</td>\n",
              "    </tr>\n",
              "    <tr>\n",
              "      <th>50%</th>\n",
              "      <td>8300.500000</td>\n",
              "      <td>2007.000000</td>\n",
              "      <td>0.080000</td>\n",
              "      <td>0.020000</td>\n",
              "      <td>0.000000</td>\n",
              "      <td>0.010000</td>\n",
              "      <td>0.170000</td>\n",
              "    </tr>\n",
              "    <tr>\n",
              "      <th>75%</th>\n",
              "      <td>12449.750000</td>\n",
              "      <td>2010.000000</td>\n",
              "      <td>0.240000</td>\n",
              "      <td>0.110000</td>\n",
              "      <td>0.040000</td>\n",
              "      <td>0.040000</td>\n",
              "      <td>0.470000</td>\n",
              "    </tr>\n",
              "    <tr>\n",
              "      <th>max</th>\n",
              "      <td>16600.000000</td>\n",
              "      <td>2020.000000</td>\n",
              "      <td>41.490000</td>\n",
              "      <td>29.020000</td>\n",
              "      <td>10.220000</td>\n",
              "      <td>10.570000</td>\n",
              "      <td>82.740000</td>\n",
              "    </tr>\n",
              "  </tbody>\n",
              "</table>\n",
              "</div>"
            ],
            "text/plain": [
              "               Rank          Year      NA_Sales      EU_Sales      JP_Sales  \\\n",
              "count  16598.000000  16327.000000  16598.000000  16598.000000  16598.000000   \n",
              "mean    8300.605254   2006.406443      0.264667      0.146652      0.077782   \n",
              "std     4791.853933      5.828981      0.816683      0.505351      0.309291   \n",
              "min        1.000000   1980.000000      0.000000      0.000000      0.000000   \n",
              "25%     4151.250000   2003.000000      0.000000      0.000000      0.000000   \n",
              "50%     8300.500000   2007.000000      0.080000      0.020000      0.000000   \n",
              "75%    12449.750000   2010.000000      0.240000      0.110000      0.040000   \n",
              "max    16600.000000   2020.000000     41.490000     29.020000     10.220000   \n",
              "\n",
              "        Other_Sales  Global_Sales  \n",
              "count  16598.000000  16598.000000  \n",
              "mean       0.048063      0.537441  \n",
              "std        0.188588      1.555028  \n",
              "min        0.000000      0.010000  \n",
              "25%        0.000000      0.060000  \n",
              "50%        0.010000      0.170000  \n",
              "75%        0.040000      0.470000  \n",
              "max       10.570000     82.740000  "
            ]
          },
          "execution_count": 75,
          "metadata": {},
          "output_type": "execute_result"
        }
      ],
      "source": [
        "df.describe()"
      ]
    },
    {
      "cell_type": "markdown",
      "metadata": {
        "id": "q1TAWCl-eF8j"
      },
      "source": [
        "--------------------------------------------------------------------------------"
      ]
    },
    {
      "cell_type": "code",
      "execution_count": 76,
      "metadata": {},
      "outputs": [
        {
          "data": {
            "text/plain": [
              "Rank              0\n",
              "Name              0\n",
              "Platform          0\n",
              "Year            271\n",
              "Genre             0\n",
              "Publisher        58\n",
              "NA_Sales          0\n",
              "EU_Sales          0\n",
              "JP_Sales          0\n",
              "Other_Sales       0\n",
              "Global_Sales      0\n",
              "dtype: int64"
            ]
          },
          "execution_count": 76,
          "metadata": {},
          "output_type": "execute_result"
        }
      ],
      "source": [
        "df.isna().sum()"
      ]
    },
    {
      "cell_type": "code",
      "execution_count": 77,
      "metadata": {},
      "outputs": [
        {
          "data": {
            "text/plain": [
              "Year\n",
              "2009.0    1431\n",
              "2008.0    1428\n",
              "2010.0    1259\n",
              "2007.0    1202\n",
              "2011.0    1139\n",
              "Name: count, dtype: int64"
            ]
          },
          "execution_count": 77,
          "metadata": {},
          "output_type": "execute_result"
        }
      ],
      "source": [
        "df['Year'].value_counts().head()"
      ]
    },
    {
      "cell_type": "code",
      "execution_count": 78,
      "metadata": {},
      "outputs": [
        {
          "data": {
            "text/plain": [
              "np.float64(2009.0)"
            ]
          },
          "execution_count": 78,
          "metadata": {},
          "output_type": "execute_result"
        }
      ],
      "source": [
        "df['Year'].mode()[0]"
      ]
    },
    {
      "cell_type": "code",
      "execution_count": 79,
      "metadata": {},
      "outputs": [
        {
          "data": {
            "text/plain": [
              "Publisher\n",
              "Electronic Arts                 1351\n",
              "Activision                       975\n",
              "Namco Bandai Games               932\n",
              "Ubisoft                          921\n",
              "Konami Digital Entertainment     832\n",
              "Name: count, dtype: int64"
            ]
          },
          "execution_count": 79,
          "metadata": {},
          "output_type": "execute_result"
        }
      ],
      "source": [
        "df['Publisher'].value_counts().head()"
      ]
    },
    {
      "cell_type": "markdown",
      "metadata": {
        "id": "NYtkNAuOeX7d"
      },
      "source": [
        "# Tratamento"
      ]
    },
    {
      "cell_type": "code",
      "execution_count": 80,
      "metadata": {
        "id": "zcV-Gn-WeZxy"
      },
      "outputs": [],
      "source": [
        "df['Year'] = df['Year'].fillna(df['Year'].mode()[0])"
      ]
    },
    {
      "cell_type": "code",
      "execution_count": 81,
      "metadata": {
        "colab": {
          "base_uri": "https://localhost:8080/"
        },
        "id": "UPtUwAcxesC-",
        "outputId": "fb4dff36-14ec-47e3-f8d6-21226ae14888"
      },
      "outputs": [],
      "source": [
        "df['Publisher'] = df['Publisher'].fillna(df['Publisher'].mode()[0])"
      ]
    },
    {
      "cell_type": "markdown",
      "metadata": {
        "id": "ttUsM9c1eJ0h"
      },
      "source": [
        "# Insights"
      ]
    },
    {
      "cell_type": "markdown",
      "metadata": {
        "id": "uq4UCkjfeO31"
      },
      "source": [
        "## Evolução das Vendas Globais por Ano"
      ]
    },
    {
      "cell_type": "code",
      "execution_count": 82,
      "metadata": {
        "colab": {
          "base_uri": "https://localhost:8080/",
          "height": 206
        },
        "id": "C4HUDjQ6bYY0",
        "outputId": "2ceecad5-29c2-4e34-90ef-ee937990f703"
      },
      "outputs": [
        {
          "data": {
            "text/html": [
              "<div>\n",
              "<style scoped>\n",
              "    .dataframe tbody tr th:only-of-type {\n",
              "        vertical-align: middle;\n",
              "    }\n",
              "\n",
              "    .dataframe tbody tr th {\n",
              "        vertical-align: top;\n",
              "    }\n",
              "\n",
              "    .dataframe thead th {\n",
              "        text-align: right;\n",
              "    }\n",
              "</style>\n",
              "<table border=\"1\" class=\"dataframe\">\n",
              "  <thead>\n",
              "    <tr style=\"text-align: right;\">\n",
              "      <th></th>\n",
              "      <th>Year</th>\n",
              "      <th>Global_Sales</th>\n",
              "    </tr>\n",
              "  </thead>\n",
              "  <tbody>\n",
              "    <tr>\n",
              "      <th>0</th>\n",
              "      <td>1980.0</td>\n",
              "      <td>11.38</td>\n",
              "    </tr>\n",
              "    <tr>\n",
              "      <th>1</th>\n",
              "      <td>1981.0</td>\n",
              "      <td>35.77</td>\n",
              "    </tr>\n",
              "    <tr>\n",
              "      <th>2</th>\n",
              "      <td>1982.0</td>\n",
              "      <td>28.86</td>\n",
              "    </tr>\n",
              "    <tr>\n",
              "      <th>3</th>\n",
              "      <td>1983.0</td>\n",
              "      <td>16.79</td>\n",
              "    </tr>\n",
              "    <tr>\n",
              "      <th>4</th>\n",
              "      <td>1984.0</td>\n",
              "      <td>50.36</td>\n",
              "    </tr>\n",
              "  </tbody>\n",
              "</table>\n",
              "</div>"
            ],
            "text/plain": [
              "     Year  Global_Sales\n",
              "0  1980.0         11.38\n",
              "1  1981.0         35.77\n",
              "2  1982.0         28.86\n",
              "3  1983.0         16.79\n",
              "4  1984.0         50.36"
            ]
          },
          "execution_count": 82,
          "metadata": {},
          "output_type": "execute_result"
        }
      ],
      "source": [
        "df_ano = df.groupby('Year')['Global_Sales'].sum().reset_index()\n",
        "df_ano.head()"
      ]
    },
    {
      "cell_type": "code",
      "execution_count": 83,
      "metadata": {
        "colab": {
          "base_uri": "https://localhost:8080/",
          "height": 472
        },
        "id": "a-2hBoIxch-5",
        "outputId": "eec51037-19fa-43a7-baf2-aa63ff39f3ee"
      },
      "outputs": [
        {
          "data": {
            "image/png": "[encoded data removed]",
            "text/plain": [
              "<Figure size 640x480 with 1 Axes>"
            ]
          },
          "metadata": {},
          "output_type": "display_data"
        }
      ],
      "source": [
        "plt.plot(df_ano['Year'], df_ano['Global_Sales'])\n",
        "plt.xlabel('Ano')\n",
        "plt.ylabel('Vendas Globais')\n",
        "plt.title('Evolução das Vendas Globais por Ano')\n",
        "plt.show()"
      ]
    },
    {
      "cell_type": "code",
      "execution_count": 84,
      "metadata": {},
      "outputs": [],
      "source": [
        "fig_VendasAno = px.line(df_ano, x='Year', y='Global_Sales', title='Vendas Globais por Ano')\n",
        "pio.write_json(fig_VendasAno, \"Figuras/fig_VendasAno.json\")"
      ]
    },
    {
      "cell_type": "code",
      "execution_count": 85,
      "metadata": {
        "colab": {
          "base_uri": "https://localhost:8080/",
          "height": 530
        },
        "id": "GMuIusyi9oNj",
        "outputId": "0db28347-2a0a-4071-e219-f78f250c2ddf"
      },
      "outputs": [
        {
          "data": {
            "text/plain": [
              "<seaborn.axisgrid.PairGrid at 0x296af5587d0>"
            ]
          },
          "execution_count": 85,
          "metadata": {},
          "output_type": "execute_result"
        },
        {
          "data": {
            "image/png": "[encoded data removed]",
            "text/plain": [
              "<Figure size 250x500 with 3 Axes>"
            ]
          },
          "metadata": {},
          "output_type": "display_data"
        }
      ],
      "source": [
        "sns.pairplot(df_ano, diag_kind='kde', x_vars=['Year'])"
      ]
    },
    {
      "cell_type": "markdown",
      "metadata": {
        "id": "O0a2XsqObFZP"
      },
      "source": [
        "# Gêneros mais Comprados por Continente"
      ]
    },
    {
      "cell_type": "markdown",
      "metadata": {
        "id": "9DXzffFLs8fV"
      },
      "source": [
        "- Gêneros mais comprados na Europa"
      ]
    },
    {
      "cell_type": "code",
      "execution_count": 86,
      "metadata": {
        "colab": {
          "base_uri": "https://localhost:8080/",
          "height": 206
        },
        "id": "SH8gZX3JcOip",
        "outputId": "8789de58-bec6-48c1-f2d0-550266d9eb00"
      },
      "outputs": [
        {
          "data": {
            "text/html": [
              "<div>\n",
              "<style scoped>\n",
              "    .dataframe tbody tr th:only-of-type {\n",
              "        vertical-align: middle;\n",
              "    }\n",
              "\n",
              "    .dataframe tbody tr th {\n",
              "        vertical-align: top;\n",
              "    }\n",
              "\n",
              "    .dataframe thead th {\n",
              "        text-align: right;\n",
              "    }\n",
              "</style>\n",
              "<table border=\"1\" class=\"dataframe\">\n",
              "  <thead>\n",
              "    <tr style=\"text-align: right;\">\n",
              "      <th></th>\n",
              "      <th>Genre</th>\n",
              "      <th>EU_Sales</th>\n",
              "    </tr>\n",
              "  </thead>\n",
              "  <tbody>\n",
              "    <tr>\n",
              "      <th>0</th>\n",
              "      <td>Sports</td>\n",
              "      <td>29.02</td>\n",
              "    </tr>\n",
              "    <tr>\n",
              "      <th>1</th>\n",
              "      <td>Platform</td>\n",
              "      <td>3.58</td>\n",
              "    </tr>\n",
              "    <tr>\n",
              "      <th>2</th>\n",
              "      <td>Racing</td>\n",
              "      <td>12.88</td>\n",
              "    </tr>\n",
              "    <tr>\n",
              "      <th>3</th>\n",
              "      <td>Sports</td>\n",
              "      <td>11.01</td>\n",
              "    </tr>\n",
              "    <tr>\n",
              "      <th>4</th>\n",
              "      <td>Role-Playing</td>\n",
              "      <td>8.89</td>\n",
              "    </tr>\n",
              "  </tbody>\n",
              "</table>\n",
              "</div>"
            ],
            "text/plain": [
              "          Genre  EU_Sales\n",
              "0        Sports     29.02\n",
              "1      Platform      3.58\n",
              "2        Racing     12.88\n",
              "3        Sports     11.01\n",
              "4  Role-Playing      8.89"
            ]
          },
          "execution_count": 86,
          "metadata": {},
          "output_type": "execute_result"
        }
      ],
      "source": [
        "df_genEU = df[['Genre', 'EU_Sales']]\n",
        "df_genEU.head()"
      ]
    },
    {
      "cell_type": "code",
      "execution_count": 87,
      "metadata": {
        "colab": {
          "base_uri": "https://localhost:8080/",
          "height": 206
        },
        "id": "vZusw-RoiUKV",
        "outputId": "a973cb58-571a-4d53-d84f-157058ba8e54"
      },
      "outputs": [
        {
          "data": {
            "text/html": [
              "<div>\n",
              "<style scoped>\n",
              "    .dataframe tbody tr th:only-of-type {\n",
              "        vertical-align: middle;\n",
              "    }\n",
              "\n",
              "    .dataframe tbody tr th {\n",
              "        vertical-align: top;\n",
              "    }\n",
              "\n",
              "    .dataframe thead th {\n",
              "        text-align: right;\n",
              "    }\n",
              "</style>\n",
              "<table border=\"1\" class=\"dataframe\">\n",
              "  <thead>\n",
              "    <tr style=\"text-align: right;\">\n",
              "      <th></th>\n",
              "      <th>Genre</th>\n",
              "      <th>EU_Sales</th>\n",
              "    </tr>\n",
              "  </thead>\n",
              "  <tbody>\n",
              "    <tr>\n",
              "      <th>0</th>\n",
              "      <td>Action</td>\n",
              "      <td>525.00</td>\n",
              "    </tr>\n",
              "    <tr>\n",
              "      <th>10</th>\n",
              "      <td>Sports</td>\n",
              "      <td>376.85</td>\n",
              "    </tr>\n",
              "    <tr>\n",
              "      <th>8</th>\n",
              "      <td>Shooter</td>\n",
              "      <td>313.27</td>\n",
              "    </tr>\n",
              "    <tr>\n",
              "      <th>6</th>\n",
              "      <td>Racing</td>\n",
              "      <td>238.39</td>\n",
              "    </tr>\n",
              "    <tr>\n",
              "      <th>3</th>\n",
              "      <td>Misc</td>\n",
              "      <td>215.98</td>\n",
              "    </tr>\n",
              "  </tbody>\n",
              "</table>\n",
              "</div>"
            ],
            "text/plain": [
              "      Genre  EU_Sales\n",
              "0    Action    525.00\n",
              "10   Sports    376.85\n",
              "8   Shooter    313.27\n",
              "6    Racing    238.39\n",
              "3      Misc    215.98"
            ]
          },
          "execution_count": 87,
          "metadata": {},
          "output_type": "execute_result"
        }
      ],
      "source": [
        "df_genEU = df_genEU.groupby('Genre')['EU_Sales'].sum().reset_index()\n",
        "df_genEU = df_genEU.sort_values(by='EU_Sales', ascending=False).head()\n",
        "df_genEU.head()"
      ]
    },
    {
      "cell_type": "markdown",
      "metadata": {
        "id": "Wq0jqZ_Ov78f"
      },
      "source": [
        "- Gêneros mais Comprados na América do Norte"
      ]
    },
    {
      "cell_type": "code",
      "execution_count": 88,
      "metadata": {
        "colab": {
          "base_uri": "https://localhost:8080/",
          "height": 206
        },
        "id": "92w6Eb0NtX_T",
        "outputId": "cec82850-9de4-40eb-aa2e-935165506e9b"
      },
      "outputs": [
        {
          "data": {
            "text/html": [
              "<div>\n",
              "<style scoped>\n",
              "    .dataframe tbody tr th:only-of-type {\n",
              "        vertical-align: middle;\n",
              "    }\n",
              "\n",
              "    .dataframe tbody tr th {\n",
              "        vertical-align: top;\n",
              "    }\n",
              "\n",
              "    .dataframe thead th {\n",
              "        text-align: right;\n",
              "    }\n",
              "</style>\n",
              "<table border=\"1\" class=\"dataframe\">\n",
              "  <thead>\n",
              "    <tr style=\"text-align: right;\">\n",
              "      <th></th>\n",
              "      <th>Genre</th>\n",
              "      <th>NA_Sales</th>\n",
              "    </tr>\n",
              "  </thead>\n",
              "  <tbody>\n",
              "    <tr>\n",
              "      <th>0</th>\n",
              "      <td>Sports</td>\n",
              "      <td>41.49</td>\n",
              "    </tr>\n",
              "    <tr>\n",
              "      <th>1</th>\n",
              "      <td>Platform</td>\n",
              "      <td>29.08</td>\n",
              "    </tr>\n",
              "    <tr>\n",
              "      <th>2</th>\n",
              "      <td>Racing</td>\n",
              "      <td>15.85</td>\n",
              "    </tr>\n",
              "    <tr>\n",
              "      <th>3</th>\n",
              "      <td>Sports</td>\n",
              "      <td>15.75</td>\n",
              "    </tr>\n",
              "    <tr>\n",
              "      <th>4</th>\n",
              "      <td>Role-Playing</td>\n",
              "      <td>11.27</td>\n",
              "    </tr>\n",
              "  </tbody>\n",
              "</table>\n",
              "</div>"
            ],
            "text/plain": [
              "          Genre  NA_Sales\n",
              "0        Sports     41.49\n",
              "1      Platform     29.08\n",
              "2        Racing     15.85\n",
              "3        Sports     15.75\n",
              "4  Role-Playing     11.27"
            ]
          },
          "execution_count": 88,
          "metadata": {},
          "output_type": "execute_result"
        }
      ],
      "source": [
        "df_genNA = df[['Genre', 'NA_Sales']]\n",
        "df_genNA.head()"
      ]
    },
    {
      "cell_type": "code",
      "execution_count": 89,
      "metadata": {
        "colab": {
          "base_uri": "https://localhost:8080/",
          "height": 206
        },
        "id": "-dnZj63WwFls",
        "outputId": "907e41e9-311a-4726-887f-3f5cdaea9491"
      },
      "outputs": [
        {
          "data": {
            "text/html": [
              "<div>\n",
              "<style scoped>\n",
              "    .dataframe tbody tr th:only-of-type {\n",
              "        vertical-align: middle;\n",
              "    }\n",
              "\n",
              "    .dataframe tbody tr th {\n",
              "        vertical-align: top;\n",
              "    }\n",
              "\n",
              "    .dataframe thead th {\n",
              "        text-align: right;\n",
              "    }\n",
              "</style>\n",
              "<table border=\"1\" class=\"dataframe\">\n",
              "  <thead>\n",
              "    <tr style=\"text-align: right;\">\n",
              "      <th></th>\n",
              "      <th>Genre</th>\n",
              "      <th>NA_Sales</th>\n",
              "    </tr>\n",
              "  </thead>\n",
              "  <tbody>\n",
              "    <tr>\n",
              "      <th>0</th>\n",
              "      <td>Action</td>\n",
              "      <td>877.83</td>\n",
              "    </tr>\n",
              "    <tr>\n",
              "      <th>10</th>\n",
              "      <td>Sports</td>\n",
              "      <td>683.35</td>\n",
              "    </tr>\n",
              "    <tr>\n",
              "      <th>8</th>\n",
              "      <td>Shooter</td>\n",
              "      <td>582.60</td>\n",
              "    </tr>\n",
              "    <tr>\n",
              "      <th>4</th>\n",
              "      <td>Platform</td>\n",
              "      <td>447.05</td>\n",
              "    </tr>\n",
              "    <tr>\n",
              "      <th>3</th>\n",
              "      <td>Misc</td>\n",
              "      <td>410.24</td>\n",
              "    </tr>\n",
              "  </tbody>\n",
              "</table>\n",
              "</div>"
            ],
            "text/plain": [
              "       Genre  NA_Sales\n",
              "0     Action    877.83\n",
              "10    Sports    683.35\n",
              "8    Shooter    582.60\n",
              "4   Platform    447.05\n",
              "3       Misc    410.24"
            ]
          },
          "execution_count": 89,
          "metadata": {},
          "output_type": "execute_result"
        }
      ],
      "source": [
        "df_genNA = df_genNA.groupby('Genre')['NA_Sales'].sum().reset_index()\n",
        "df_genNA = df_genNA.sort_values(by='NA_Sales', ascending=False).head()\n",
        "df_genNA.head()"
      ]
    },
    {
      "cell_type": "markdown",
      "metadata": {
        "id": "1U-iIaxDxM8S"
      },
      "source": [
        "- Gêneros mais Comprados no Japão"
      ]
    },
    {
      "cell_type": "code",
      "execution_count": 90,
      "metadata": {
        "colab": {
          "base_uri": "https://localhost:8080/",
          "height": 206
        },
        "id": "w7QVM6gPwqrT",
        "outputId": "fe84f99e-c9b7-4e2e-e615-b4e8876d7be4"
      },
      "outputs": [
        {
          "data": {
            "text/html": [
              "<div>\n",
              "<style scoped>\n",
              "    .dataframe tbody tr th:only-of-type {\n",
              "        vertical-align: middle;\n",
              "    }\n",
              "\n",
              "    .dataframe tbody tr th {\n",
              "        vertical-align: top;\n",
              "    }\n",
              "\n",
              "    .dataframe thead th {\n",
              "        text-align: right;\n",
              "    }\n",
              "</style>\n",
              "<table border=\"1\" class=\"dataframe\">\n",
              "  <thead>\n",
              "    <tr style=\"text-align: right;\">\n",
              "      <th></th>\n",
              "      <th>Genre</th>\n",
              "      <th>JP_Sales</th>\n",
              "    </tr>\n",
              "  </thead>\n",
              "  <tbody>\n",
              "    <tr>\n",
              "      <th>0</th>\n",
              "      <td>Sports</td>\n",
              "      <td>3.77</td>\n",
              "    </tr>\n",
              "    <tr>\n",
              "      <th>1</th>\n",
              "      <td>Platform</td>\n",
              "      <td>6.81</td>\n",
              "    </tr>\n",
              "    <tr>\n",
              "      <th>2</th>\n",
              "      <td>Racing</td>\n",
              "      <td>3.79</td>\n",
              "    </tr>\n",
              "    <tr>\n",
              "      <th>3</th>\n",
              "      <td>Sports</td>\n",
              "      <td>3.28</td>\n",
              "    </tr>\n",
              "    <tr>\n",
              "      <th>4</th>\n",
              "      <td>Role-Playing</td>\n",
              "      <td>10.22</td>\n",
              "    </tr>\n",
              "  </tbody>\n",
              "</table>\n",
              "</div>"
            ],
            "text/plain": [
              "          Genre  JP_Sales\n",
              "0        Sports      3.77\n",
              "1      Platform      6.81\n",
              "2        Racing      3.79\n",
              "3        Sports      3.28\n",
              "4  Role-Playing     10.22"
            ]
          },
          "execution_count": 90,
          "metadata": {},
          "output_type": "execute_result"
        }
      ],
      "source": [
        "df_genJP = df[['Genre', 'JP_Sales']]\n",
        "df_genJP.head()"
      ]
    },
    {
      "cell_type": "code",
      "execution_count": 91,
      "metadata": {
        "colab": {
          "base_uri": "https://localhost:8080/",
          "height": 206
        },
        "id": "_kKReKcixTHp",
        "outputId": "b8903442-5e0d-4f1e-e9d1-557335aae0fe"
      },
      "outputs": [
        {
          "data": {
            "text/html": [
              "<div>\n",
              "<style scoped>\n",
              "    .dataframe tbody tr th:only-of-type {\n",
              "        vertical-align: middle;\n",
              "    }\n",
              "\n",
              "    .dataframe tbody tr th {\n",
              "        vertical-align: top;\n",
              "    }\n",
              "\n",
              "    .dataframe thead th {\n",
              "        text-align: right;\n",
              "    }\n",
              "</style>\n",
              "<table border=\"1\" class=\"dataframe\">\n",
              "  <thead>\n",
              "    <tr style=\"text-align: right;\">\n",
              "      <th></th>\n",
              "      <th>Genre</th>\n",
              "      <th>JP_Sales</th>\n",
              "    </tr>\n",
              "  </thead>\n",
              "  <tbody>\n",
              "    <tr>\n",
              "      <th>7</th>\n",
              "      <td>Role-Playing</td>\n",
              "      <td>352.31</td>\n",
              "    </tr>\n",
              "    <tr>\n",
              "      <th>0</th>\n",
              "      <td>Action</td>\n",
              "      <td>159.95</td>\n",
              "    </tr>\n",
              "    <tr>\n",
              "      <th>10</th>\n",
              "      <td>Sports</td>\n",
              "      <td>135.37</td>\n",
              "    </tr>\n",
              "    <tr>\n",
              "      <th>4</th>\n",
              "      <td>Platform</td>\n",
              "      <td>130.77</td>\n",
              "    </tr>\n",
              "    <tr>\n",
              "      <th>3</th>\n",
              "      <td>Misc</td>\n",
              "      <td>107.76</td>\n",
              "    </tr>\n",
              "  </tbody>\n",
              "</table>\n",
              "</div>"
            ],
            "text/plain": [
              "           Genre  JP_Sales\n",
              "7   Role-Playing    352.31\n",
              "0         Action    159.95\n",
              "10        Sports    135.37\n",
              "4       Platform    130.77\n",
              "3           Misc    107.76"
            ]
          },
          "execution_count": 91,
          "metadata": {},
          "output_type": "execute_result"
        }
      ],
      "source": [
        "df_genJP = df_genJP.groupby('Genre')['JP_Sales'].sum().reset_index()\n",
        "df_genJP = df_genJP.sort_values(by='JP_Sales', ascending=False).head()\n",
        "df_genJP.head()"
      ]
    },
    {
      "cell_type": "markdown",
      "metadata": {
        "id": "al8VNtbHxsJ5"
      },
      "source": [
        "- Gêneros mais Comprados no resto do Mundo"
      ]
    },
    {
      "cell_type": "code",
      "execution_count": 92,
      "metadata": {
        "colab": {
          "base_uri": "https://localhost:8080/",
          "height": 206
        },
        "id": "8tyug6h2xj4o",
        "outputId": "4c6d2993-2d9a-4bdc-c786-f57b7cb38c12"
      },
      "outputs": [
        {
          "data": {
            "text/html": [
              "<div>\n",
              "<style scoped>\n",
              "    .dataframe tbody tr th:only-of-type {\n",
              "        vertical-align: middle;\n",
              "    }\n",
              "\n",
              "    .dataframe tbody tr th {\n",
              "        vertical-align: top;\n",
              "    }\n",
              "\n",
              "    .dataframe thead th {\n",
              "        text-align: right;\n",
              "    }\n",
              "</style>\n",
              "<table border=\"1\" class=\"dataframe\">\n",
              "  <thead>\n",
              "    <tr style=\"text-align: right;\">\n",
              "      <th></th>\n",
              "      <th>Genre</th>\n",
              "      <th>Other_Sales</th>\n",
              "    </tr>\n",
              "  </thead>\n",
              "  <tbody>\n",
              "    <tr>\n",
              "      <th>0</th>\n",
              "      <td>Sports</td>\n",
              "      <td>8.46</td>\n",
              "    </tr>\n",
              "    <tr>\n",
              "      <th>1</th>\n",
              "      <td>Platform</td>\n",
              "      <td>0.77</td>\n",
              "    </tr>\n",
              "    <tr>\n",
              "      <th>2</th>\n",
              "      <td>Racing</td>\n",
              "      <td>3.31</td>\n",
              "    </tr>\n",
              "    <tr>\n",
              "      <th>3</th>\n",
              "      <td>Sports</td>\n",
              "      <td>2.96</td>\n",
              "    </tr>\n",
              "    <tr>\n",
              "      <th>4</th>\n",
              "      <td>Role-Playing</td>\n",
              "      <td>1.00</td>\n",
              "    </tr>\n",
              "  </tbody>\n",
              "</table>\n",
              "</div>"
            ],
            "text/plain": [
              "          Genre  Other_Sales\n",
              "0        Sports         8.46\n",
              "1      Platform         0.77\n",
              "2        Racing         3.31\n",
              "3        Sports         2.96\n",
              "4  Role-Playing         1.00"
            ]
          },
          "execution_count": 92,
          "metadata": {},
          "output_type": "execute_result"
        }
      ],
      "source": [
        "df_genOther = df[['Genre', 'Other_Sales']]\n",
        "df_genOther.head()"
      ]
    },
    {
      "cell_type": "code",
      "execution_count": 93,
      "metadata": {
        "colab": {
          "base_uri": "https://localhost:8080/",
          "height": 206
        },
        "id": "f1WonMzsxy04",
        "outputId": "22b4cc27-ae7b-4f59-aeb1-cc26473cfb9a"
      },
      "outputs": [
        {
          "data": {
            "text/html": [
              "<div>\n",
              "<style scoped>\n",
              "    .dataframe tbody tr th:only-of-type {\n",
              "        vertical-align: middle;\n",
              "    }\n",
              "\n",
              "    .dataframe tbody tr th {\n",
              "        vertical-align: top;\n",
              "    }\n",
              "\n",
              "    .dataframe thead th {\n",
              "        text-align: right;\n",
              "    }\n",
              "</style>\n",
              "<table border=\"1\" class=\"dataframe\">\n",
              "  <thead>\n",
              "    <tr style=\"text-align: right;\">\n",
              "      <th></th>\n",
              "      <th>Genre</th>\n",
              "      <th>Other_Sales</th>\n",
              "    </tr>\n",
              "  </thead>\n",
              "  <tbody>\n",
              "    <tr>\n",
              "      <th>0</th>\n",
              "      <td>Action</td>\n",
              "      <td>187.38</td>\n",
              "    </tr>\n",
              "    <tr>\n",
              "      <th>10</th>\n",
              "      <td>Sports</td>\n",
              "      <td>134.97</td>\n",
              "    </tr>\n",
              "    <tr>\n",
              "      <th>8</th>\n",
              "      <td>Shooter</td>\n",
              "      <td>102.69</td>\n",
              "    </tr>\n",
              "    <tr>\n",
              "      <th>6</th>\n",
              "      <td>Racing</td>\n",
              "      <td>77.27</td>\n",
              "    </tr>\n",
              "    <tr>\n",
              "      <th>3</th>\n",
              "      <td>Misc</td>\n",
              "      <td>75.32</td>\n",
              "    </tr>\n",
              "  </tbody>\n",
              "</table>\n",
              "</div>"
            ],
            "text/plain": [
              "      Genre  Other_Sales\n",
              "0    Action       187.38\n",
              "10   Sports       134.97\n",
              "8   Shooter       102.69\n",
              "6    Racing        77.27\n",
              "3      Misc        75.32"
            ]
          },
          "execution_count": 93,
          "metadata": {},
          "output_type": "execute_result"
        }
      ],
      "source": [
        "df_genOther = df_genOther.groupby('Genre')['Other_Sales'].sum().reset_index()\n",
        "df_genOther = df_genOther.sort_values(by='Other_Sales', ascending=False).head()\n",
        "df_genOther\n",
        "\n"
      ]
    },
    {
      "cell_type": "markdown",
      "metadata": {
        "id": "9sg8PuO-4N-R"
      },
      "source": [
        "- Plot"
      ]
    },
    {
      "cell_type": "code",
      "execution_count": 94,
      "metadata": {
        "colab": {
          "base_uri": "https://localhost:8080/",
          "height": 492
        },
        "id": "ldyHmp-eyQ5f",
        "outputId": "e7cec388-2664-4ef0-cea7-2fdd498df6f5"
      },
      "outputs": [
        {
          "data": {
            "image/png": "[encoded data removed]",
            "text/plain": [
              "<Figure size 640x480 with 4 Axes>"
            ]
          },
          "metadata": {},
          "output_type": "display_data"
        }
      ],
      "source": [
        "color = (0.2,\n",
        "         0.4,\n",
        "         0.2,\n",
        "         0.6\n",
        "         )\n",
        "\n",
        "# Cria uma figura e uma matriz de 2x2 subplots (2 linhas, 2 colunas)\n",
        "fig, axs = plt.subplots(2, 2)\n",
        "fig.suptitle('Gêneros mais comprados por Continente')\n",
        "\n",
        "# Acessa e plota no primeiro subplot (0,0)\n",
        "axs[0, 0].bar(df_genEU['Genre'], df_genEU['EU_Sales'], color = color)\n",
        "axs[0, 0].set_title('Europa')\n",
        "axs[0, 0].tick_params(axis='x', labelrotation=45)\n",
        "\n",
        "# Acessa e plota no segundo subplot (0,1)\n",
        "axs[0, 1].bar(df_genNA['Genre'], df_genNA['NA_Sales'], color = color)\n",
        "axs[0, 1].set_title('América do Norte')\n",
        "axs[0, 1].tick_params(axis='x', labelrotation=45)\n",
        "\n",
        "# Acessa e plota no segundo subplot (0,1)\n",
        "axs[1, 0].bar(df_genJP['Genre'], df_genJP['JP_Sales'], color = color)\n",
        "axs[1, 0].set_title('Japão')\n",
        "axs[1, 0].tick_params(axis='x', labelrotation=45)\n",
        "\n",
        "axs[1, 1].bar(df_genOther['Genre'], df_genOther['Other_Sales'], color = color)\n",
        "axs[1, 1].set_title('Outros')\n",
        "axs[1, 1].tick_params(axis='x', labelrotation=45)\n",
        "\n",
        "\n",
        "\n",
        "fig_GenEU = px.bar(df_genEU, x='Genre', y='EU_Sales', title='Europa')\n",
        "pio.write_json(fig_GenEU, \"Figuras/fig_GenEU.json\")\n",
        "\n",
        "fig_GenNA = px.bar(df_genNA, x='Genre', y='NA_Sales', title='América do Norte')\n",
        "pio.write_json(fig_GenNA, \"Figuras/fig_GenNA.json\")\n",
        "\n",
        "fig_GenJP = px.bar(df_genJP, x='Genre', y='JP_Sales', title='Japão')\n",
        "pio.write_json(fig_GenJP, \"Figuras/fig_GenJP.json\")\n",
        "\n",
        "fig_GenOthers = px.bar(df_genOther, x='Genre', y='Other_Sales', title='Outros')\n",
        "pio.write_json(fig_GenOthers, \"Figuras/fig_GenOthers.json\")\n",
        "\n",
        "\n",
        "\n",
        "plt.tight_layout()\n",
        "plt.show()"
      ]
    },
    {
      "cell_type": "markdown",
      "metadata": {
        "id": "pDCbP2lHB-Yn"
      },
      "source": [
        "# Impacto do tempo nas plataformas"
      ]
    },
    {
      "cell_type": "markdown",
      "metadata": {
        "id": "6QkGQyJ7aF6_"
      },
      "source": [
        "- Plataformas mais Vendidas Mundialmente Antes dos Anos 2000"
      ]
    },
    {
      "cell_type": "code",
      "execution_count": 95,
      "metadata": {
        "colab": {
          "base_uri": "https://localhost:8080/",
          "height": 206
        },
        "id": "4bjix0vTCYRt",
        "outputId": "b245f4e0-cbc6-4343-b473-3a7321d4170a"
      },
      "outputs": [
        {
          "data": {
            "text/html": [
              "<div>\n",
              "<style scoped>\n",
              "    .dataframe tbody tr th:only-of-type {\n",
              "        vertical-align: middle;\n",
              "    }\n",
              "\n",
              "    .dataframe tbody tr th {\n",
              "        vertical-align: top;\n",
              "    }\n",
              "\n",
              "    .dataframe thead th {\n",
              "        text-align: right;\n",
              "    }\n",
              "</style>\n",
              "<table border=\"1\" class=\"dataframe\">\n",
              "  <thead>\n",
              "    <tr style=\"text-align: right;\">\n",
              "      <th></th>\n",
              "      <th>Platform</th>\n",
              "      <th>Year</th>\n",
              "      <th>Global_Sales</th>\n",
              "    </tr>\n",
              "  </thead>\n",
              "  <tbody>\n",
              "    <tr>\n",
              "      <th>0</th>\n",
              "      <td>Wii</td>\n",
              "      <td>2006.0</td>\n",
              "      <td>82.74</td>\n",
              "    </tr>\n",
              "    <tr>\n",
              "      <th>1</th>\n",
              "      <td>NES</td>\n",
              "      <td>1985.0</td>\n",
              "      <td>40.24</td>\n",
              "    </tr>\n",
              "    <tr>\n",
              "      <th>2</th>\n",
              "      <td>Wii</td>\n",
              "      <td>2008.0</td>\n",
              "      <td>35.82</td>\n",
              "    </tr>\n",
              "    <tr>\n",
              "      <th>3</th>\n",
              "      <td>Wii</td>\n",
              "      <td>2009.0</td>\n",
              "      <td>33.00</td>\n",
              "    </tr>\n",
              "    <tr>\n",
              "      <th>4</th>\n",
              "      <td>GB</td>\n",
              "      <td>1996.0</td>\n",
              "      <td>31.37</td>\n",
              "    </tr>\n",
              "  </tbody>\n",
              "</table>\n",
              "</div>"
            ],
            "text/plain": [
              "  Platform    Year  Global_Sales\n",
              "0      Wii  2006.0         82.74\n",
              "1      NES  1985.0         40.24\n",
              "2      Wii  2008.0         35.82\n",
              "3      Wii  2009.0         33.00\n",
              "4       GB  1996.0         31.37"
            ]
          },
          "execution_count": 95,
          "metadata": {},
          "output_type": "execute_result"
        }
      ],
      "source": [
        "dfPlat = df[['Platform', 'Year', 'Global_Sales']]\n",
        "dfPlat.head()"
      ]
    },
    {
      "cell_type": "code",
      "execution_count": 96,
      "metadata": {
        "colab": {
          "base_uri": "https://localhost:8080/",
          "height": 206
        },
        "id": "ffm1stlrT4Wp",
        "outputId": "b56b1ca9-7742-4a63-bfe7-8b957ac558b3"
      },
      "outputs": [
        {
          "data": {
            "text/html": [
              "<div>\n",
              "<style scoped>\n",
              "    .dataframe tbody tr th:only-of-type {\n",
              "        vertical-align: middle;\n",
              "    }\n",
              "\n",
              "    .dataframe tbody tr th {\n",
              "        vertical-align: top;\n",
              "    }\n",
              "\n",
              "    .dataframe thead th {\n",
              "        text-align: right;\n",
              "    }\n",
              "</style>\n",
              "<table border=\"1\" class=\"dataframe\">\n",
              "  <thead>\n",
              "    <tr style=\"text-align: right;\">\n",
              "      <th></th>\n",
              "      <th>Platform</th>\n",
              "      <th>Year</th>\n",
              "      <th>Global_Sales</th>\n",
              "    </tr>\n",
              "  </thead>\n",
              "  <tbody>\n",
              "    <tr>\n",
              "      <th>1</th>\n",
              "      <td>NES</td>\n",
              "      <td>1985.0</td>\n",
              "      <td>40.24</td>\n",
              "    </tr>\n",
              "    <tr>\n",
              "      <th>4</th>\n",
              "      <td>GB</td>\n",
              "      <td>1996.0</td>\n",
              "      <td>31.37</td>\n",
              "    </tr>\n",
              "    <tr>\n",
              "      <th>5</th>\n",
              "      <td>GB</td>\n",
              "      <td>1989.0</td>\n",
              "      <td>30.26</td>\n",
              "    </tr>\n",
              "    <tr>\n",
              "      <th>9</th>\n",
              "      <td>NES</td>\n",
              "      <td>1984.0</td>\n",
              "      <td>28.31</td>\n",
              "    </tr>\n",
              "    <tr>\n",
              "      <th>12</th>\n",
              "      <td>GB</td>\n",
              "      <td>1999.0</td>\n",
              "      <td>23.10</td>\n",
              "    </tr>\n",
              "  </tbody>\n",
              "</table>\n",
              "</div>"
            ],
            "text/plain": [
              "   Platform    Year  Global_Sales\n",
              "1       NES  1985.0         40.24\n",
              "4        GB  1996.0         31.37\n",
              "5        GB  1989.0         30.26\n",
              "9       NES  1984.0         28.31\n",
              "12       GB  1999.0         23.10"
            ]
          },
          "execution_count": 96,
          "metadata": {},
          "output_type": "execute_result"
        }
      ],
      "source": [
        "dfPlatMillenial = dfPlat.where(dfPlat['Year'] < 2000)\n",
        "dfPlatMillenial.dropna(inplace = True)\n",
        "dfPlatMillenial.head()"
      ]
    },
    {
      "cell_type": "code",
      "execution_count": 97,
      "metadata": {
        "colab": {
          "base_uri": "https://localhost:8080/",
          "height": 206
        },
        "id": "m2efSSDxDaUk",
        "outputId": "7e7e6228-2912-4ea0-e106-503520f398c1"
      },
      "outputs": [
        {
          "data": {
            "text/html": [
              "<div>\n",
              "<style scoped>\n",
              "    .dataframe tbody tr th:only-of-type {\n",
              "        vertical-align: middle;\n",
              "    }\n",
              "\n",
              "    .dataframe tbody tr th {\n",
              "        vertical-align: top;\n",
              "    }\n",
              "\n",
              "    .dataframe thead th {\n",
              "        text-align: right;\n",
              "    }\n",
              "</style>\n",
              "<table border=\"1\" class=\"dataframe\">\n",
              "  <thead>\n",
              "    <tr style=\"text-align: right;\">\n",
              "      <th></th>\n",
              "      <th>Platform</th>\n",
              "      <th>Global_Sales</th>\n",
              "    </tr>\n",
              "  </thead>\n",
              "  <tbody>\n",
              "    <tr>\n",
              "      <th>12</th>\n",
              "      <td>PS</td>\n",
              "      <td>586.85</td>\n",
              "    </tr>\n",
              "    <tr>\n",
              "      <th>8</th>\n",
              "      <td>NES</td>\n",
              "      <td>251.07</td>\n",
              "    </tr>\n",
              "    <tr>\n",
              "      <th>4</th>\n",
              "      <td>GB</td>\n",
              "      <td>225.42</td>\n",
              "    </tr>\n",
              "    <tr>\n",
              "      <th>15</th>\n",
              "      <td>SNES</td>\n",
              "      <td>200.05</td>\n",
              "    </tr>\n",
              "    <tr>\n",
              "      <th>7</th>\n",
              "      <td>N64</td>\n",
              "      <td>180.86</td>\n",
              "    </tr>\n",
              "  </tbody>\n",
              "</table>\n",
              "</div>"
            ],
            "text/plain": [
              "   Platform  Global_Sales\n",
              "12       PS        586.85\n",
              "8       NES        251.07\n",
              "4        GB        225.42\n",
              "15     SNES        200.05\n",
              "7       N64        180.86"
            ]
          },
          "execution_count": 97,
          "metadata": {},
          "output_type": "execute_result"
        }
      ],
      "source": [
        "dfPlatMillenial = dfPlatMillenial.groupby('Platform')['Global_Sales'].sum().reset_index()\n",
        "dfPlatMillenial = dfPlatMillenial.sort_values(by='Global_Sales', ascending=False).head()\n",
        "dfPlatMillenial.head()"
      ]
    },
    {
      "cell_type": "markdown",
      "metadata": {
        "id": "BuEqSypbacIm"
      },
      "source": [
        "- Plataformas mais Vendidas Mundialmente Depois dos Anos 2000"
      ]
    },
    {
      "cell_type": "code",
      "execution_count": 98,
      "metadata": {
        "colab": {
          "base_uri": "https://localhost:8080/",
          "height": 206
        },
        "id": "yE3DwMAsYylA",
        "outputId": "a5bdf8c2-2acf-4019-9e36-2246e5e105a5"
      },
      "outputs": [
        {
          "data": {
            "text/html": [
              "<div>\n",
              "<style scoped>\n",
              "    .dataframe tbody tr th:only-of-type {\n",
              "        vertical-align: middle;\n",
              "    }\n",
              "\n",
              "    .dataframe tbody tr th {\n",
              "        vertical-align: top;\n",
              "    }\n",
              "\n",
              "    .dataframe thead th {\n",
              "        text-align: right;\n",
              "    }\n",
              "</style>\n",
              "<table border=\"1\" class=\"dataframe\">\n",
              "  <thead>\n",
              "    <tr style=\"text-align: right;\">\n",
              "      <th></th>\n",
              "      <th>Platform</th>\n",
              "      <th>Year</th>\n",
              "      <th>Global_Sales</th>\n",
              "    </tr>\n",
              "  </thead>\n",
              "  <tbody>\n",
              "    <tr>\n",
              "      <th>0</th>\n",
              "      <td>Wii</td>\n",
              "      <td>2006.0</td>\n",
              "      <td>82.74</td>\n",
              "    </tr>\n",
              "    <tr>\n",
              "      <th>2</th>\n",
              "      <td>Wii</td>\n",
              "      <td>2008.0</td>\n",
              "      <td>35.82</td>\n",
              "    </tr>\n",
              "    <tr>\n",
              "      <th>3</th>\n",
              "      <td>Wii</td>\n",
              "      <td>2009.0</td>\n",
              "      <td>33.00</td>\n",
              "    </tr>\n",
              "    <tr>\n",
              "      <th>6</th>\n",
              "      <td>DS</td>\n",
              "      <td>2006.0</td>\n",
              "      <td>30.01</td>\n",
              "    </tr>\n",
              "    <tr>\n",
              "      <th>7</th>\n",
              "      <td>Wii</td>\n",
              "      <td>2006.0</td>\n",
              "      <td>29.02</td>\n",
              "    </tr>\n",
              "  </tbody>\n",
              "</table>\n",
              "</div>"
            ],
            "text/plain": [
              "  Platform    Year  Global_Sales\n",
              "0      Wii  2006.0         82.74\n",
              "2      Wii  2008.0         35.82\n",
              "3      Wii  2009.0         33.00\n",
              "6       DS  2006.0         30.01\n",
              "7      Wii  2006.0         29.02"
            ]
          },
          "execution_count": 98,
          "metadata": {},
          "output_type": "execute_result"
        }
      ],
      "source": [
        "dfPlatZ = dfPlat.where(dfPlat['Year'] > 2000)\n",
        "dfPlatZ.dropna(inplace = True)\n",
        "dfPlatZ.head()"
      ]
    },
    {
      "cell_type": "code",
      "execution_count": 99,
      "metadata": {
        "colab": {
          "base_uri": "https://localhost:8080/",
          "height": 206
        },
        "id": "2PCp5HZcaonW",
        "outputId": "f214e9b9-4236-4dad-d8c8-f5af6f8729b1"
      },
      "outputs": [
        {
          "data": {
            "text/html": [
              "<div>\n",
              "<style scoped>\n",
              "    .dataframe tbody tr th:only-of-type {\n",
              "        vertical-align: middle;\n",
              "    }\n",
              "\n",
              "    .dataframe tbody tr th {\n",
              "        vertical-align: top;\n",
              "    }\n",
              "\n",
              "    .dataframe thead th {\n",
              "        text-align: right;\n",
              "    }\n",
              "</style>\n",
              "<table border=\"1\" class=\"dataframe\">\n",
              "  <thead>\n",
              "    <tr style=\"text-align: right;\">\n",
              "      <th></th>\n",
              "      <th>Platform</th>\n",
              "      <th>Global_Sales</th>\n",
              "    </tr>\n",
              "  </thead>\n",
              "  <tbody>\n",
              "    <tr>\n",
              "      <th>10</th>\n",
              "      <td>PS2</td>\n",
              "      <td>1216.53</td>\n",
              "    </tr>\n",
              "    <tr>\n",
              "      <th>18</th>\n",
              "      <td>X360</td>\n",
              "      <td>979.96</td>\n",
              "    </tr>\n",
              "    <tr>\n",
              "      <th>11</th>\n",
              "      <td>PS3</td>\n",
              "      <td>957.84</td>\n",
              "    </tr>\n",
              "    <tr>\n",
              "      <th>16</th>\n",
              "      <td>Wii</td>\n",
              "      <td>926.71</td>\n",
              "    </tr>\n",
              "    <tr>\n",
              "      <th>3</th>\n",
              "      <td>DS</td>\n",
              "      <td>822.47</td>\n",
              "    </tr>\n",
              "  </tbody>\n",
              "</table>\n",
              "</div>"
            ],
            "text/plain": [
              "   Platform  Global_Sales\n",
              "10      PS2       1216.53\n",
              "18     X360        979.96\n",
              "11      PS3        957.84\n",
              "16      Wii        926.71\n",
              "3        DS        822.47"
            ]
          },
          "execution_count": 99,
          "metadata": {},
          "output_type": "execute_result"
        }
      ],
      "source": [
        "dfPlatZ = dfPlatZ.groupby('Platform')['Global_Sales'].sum().reset_index()\n",
        "dfPlatZ = dfPlatZ.sort_values(by='Global_Sales', ascending=False).head()\n",
        "dfPlatZ.head()"
      ]
    },
    {
      "cell_type": "code",
      "execution_count": 100,
      "metadata": {
        "colab": {
          "base_uri": "https://localhost:8080/",
          "height": 492
        },
        "id": "KO-W2zjdbYVt",
        "outputId": "dd317687-0ce9-4005-bbed-22273c67f162"
      },
      "outputs": [
        {
          "data": {
            "image/png": "[encoded data removed]",
            "text/plain": [
              "<Figure size 640x480 with 2 Axes>"
            ]
          },
          "metadata": {},
          "output_type": "display_data"
        }
      ],
      "source": [
        "fig, axs = plt.subplots(1, 2)\n",
        "fig.suptitle('Plataformas mais Vendidas Mundialmente Antes e Depois dos Anos 2000')\n",
        "\n",
        "# Acessa e plota no primeiro subplot (0,0)\n",
        "axs[0].bar(dfPlatMillenial['Platform'], dfPlatMillenial['Global_Sales'], color = color)\n",
        "axs[0].set_title('Antes dos Anos 2000')\n",
        "axs[0].tick_params(axis='x', labelrotation=45)\n",
        "\n",
        "# Acessa e plota no segundo subplot (0,1)\n",
        "axs[1].bar(dfPlatZ['Platform'], dfPlatZ['Global_Sales'], color = color)\n",
        "axs[1].set_title('Depois dos Anos 2000')\n",
        "axs[1].tick_params(axis='x', labelrotation=45)\n",
        "\n",
        "fig_PlatMillennial = px.bar(dfPlatMillenial, x='Platform', y='Global_Sales', title='ANTES dos anos 2000')\n",
        "pio.write_json(fig_PlatMillennial, \"Figuras/fig_PlatMillennial.json\")\n",
        "\n",
        "fig_PlatZ = px.bar(dfPlatZ, x='Platform', y='Global_Sales', title='DEPOIS dos anos 2000')\n",
        "pio.write_json(fig_PlatZ, \"Figuras/fig_PlatZ.json\")\n",
        "\n",
        "plt.tight_layout()\n",
        "plt.show()"
      ]
    },
    {
      "cell_type": "markdown",
      "metadata": {
        "id": "DZ7LJsG6eO5y"
      },
      "source": [
        "# Vendas dos Continentes em Relação as Vendas Globais"
      ]
    },
    {
      "cell_type": "code",
      "execution_count": 101,
      "metadata": {
        "colab": {
          "base_uri": "https://localhost:8080/",
          "height": 424
        },
        "id": "rffJPOMsbTO9",
        "outputId": "f502806b-40fc-4e2b-bc7a-b8fee70fd485"
      },
      "outputs": [
        {
          "data": {
            "text/html": [
              "<div>\n",
              "<style scoped>\n",
              "    .dataframe tbody tr th:only-of-type {\n",
              "        vertical-align: middle;\n",
              "    }\n",
              "\n",
              "    .dataframe tbody tr th {\n",
              "        vertical-align: top;\n",
              "    }\n",
              "\n",
              "    .dataframe thead th {\n",
              "        text-align: right;\n",
              "    }\n",
              "</style>\n",
              "<table border=\"1\" class=\"dataframe\">\n",
              "  <thead>\n",
              "    <tr style=\"text-align: right;\">\n",
              "      <th></th>\n",
              "      <th>NA_Sales</th>\n",
              "      <th>EU_Sales</th>\n",
              "      <th>JP_Sales</th>\n",
              "      <th>Other_Sales</th>\n",
              "      <th>Global_Sales</th>\n",
              "    </tr>\n",
              "  </thead>\n",
              "  <tbody>\n",
              "    <tr>\n",
              "      <th>0</th>\n",
              "      <td>41.49</td>\n",
              "      <td>29.02</td>\n",
              "      <td>3.77</td>\n",
              "      <td>8.46</td>\n",
              "      <td>82.74</td>\n",
              "    </tr>\n",
              "    <tr>\n",
              "      <th>1</th>\n",
              "      <td>29.08</td>\n",
              "      <td>3.58</td>\n",
              "      <td>6.81</td>\n",
              "      <td>0.77</td>\n",
              "      <td>40.24</td>\n",
              "    </tr>\n",
              "    <tr>\n",
              "      <th>2</th>\n",
              "      <td>15.85</td>\n",
              "      <td>12.88</td>\n",
              "      <td>3.79</td>\n",
              "      <td>3.31</td>\n",
              "      <td>35.82</td>\n",
              "    </tr>\n",
              "    <tr>\n",
              "      <th>3</th>\n",
              "      <td>15.75</td>\n",
              "      <td>11.01</td>\n",
              "      <td>3.28</td>\n",
              "      <td>2.96</td>\n",
              "      <td>33.00</td>\n",
              "    </tr>\n",
              "    <tr>\n",
              "      <th>4</th>\n",
              "      <td>11.27</td>\n",
              "      <td>8.89</td>\n",
              "      <td>10.22</td>\n",
              "      <td>1.00</td>\n",
              "      <td>31.37</td>\n",
              "    </tr>\n",
              "    <tr>\n",
              "      <th>...</th>\n",
              "      <td>...</td>\n",
              "      <td>...</td>\n",
              "      <td>...</td>\n",
              "      <td>...</td>\n",
              "      <td>...</td>\n",
              "    </tr>\n",
              "    <tr>\n",
              "      <th>16593</th>\n",
              "      <td>0.01</td>\n",
              "      <td>0.00</td>\n",
              "      <td>0.00</td>\n",
              "      <td>0.00</td>\n",
              "      <td>0.01</td>\n",
              "    </tr>\n",
              "    <tr>\n",
              "      <th>16594</th>\n",
              "      <td>0.01</td>\n",
              "      <td>0.00</td>\n",
              "      <td>0.00</td>\n",
              "      <td>0.00</td>\n",
              "      <td>0.01</td>\n",
              "    </tr>\n",
              "    <tr>\n",
              "      <th>16595</th>\n",
              "      <td>0.00</td>\n",
              "      <td>0.00</td>\n",
              "      <td>0.00</td>\n",
              "      <td>0.00</td>\n",
              "      <td>0.01</td>\n",
              "    </tr>\n",
              "    <tr>\n",
              "      <th>16596</th>\n",
              "      <td>0.00</td>\n",
              "      <td>0.01</td>\n",
              "      <td>0.00</td>\n",
              "      <td>0.00</td>\n",
              "      <td>0.01</td>\n",
              "    </tr>\n",
              "    <tr>\n",
              "      <th>16597</th>\n",
              "      <td>0.01</td>\n",
              "      <td>0.00</td>\n",
              "      <td>0.00</td>\n",
              "      <td>0.00</td>\n",
              "      <td>0.01</td>\n",
              "    </tr>\n",
              "  </tbody>\n",
              "</table>\n",
              "<p>16598 rows × 5 columns</p>\n",
              "</div>"
            ],
            "text/plain": [
              "       NA_Sales  EU_Sales  JP_Sales  Other_Sales  Global_Sales\n",
              "0         41.49     29.02      3.77         8.46         82.74\n",
              "1         29.08      3.58      6.81         0.77         40.24\n",
              "2         15.85     12.88      3.79         3.31         35.82\n",
              "3         15.75     11.01      3.28         2.96         33.00\n",
              "4         11.27      8.89     10.22         1.00         31.37\n",
              "...         ...       ...       ...          ...           ...\n",
              "16593      0.01      0.00      0.00         0.00          0.01\n",
              "16594      0.01      0.00      0.00         0.00          0.01\n",
              "16595      0.00      0.00      0.00         0.00          0.01\n",
              "16596      0.00      0.01      0.00         0.00          0.01\n",
              "16597      0.01      0.00      0.00         0.00          0.01\n",
              "\n",
              "[16598 rows x 5 columns]"
            ]
          },
          "execution_count": 101,
          "metadata": {},
          "output_type": "execute_result"
        }
      ],
      "source": [
        "dfRelacao = df[['NA_Sales', 'EU_Sales', 'JP_Sales', 'Other_Sales', 'Global_Sales']]\n",
        "dfRelacao"
      ]
    },
    {
      "cell_type": "code",
      "execution_count": 102,
      "metadata": {
        "colab": {
          "base_uri": "https://localhost:8080/"
        },
        "id": "qbK2fm8caJfl",
        "outputId": "57b229d1-03d7-4258-9bc3-03456a7d2c6e"
      },
      "outputs": [
        {
          "name": "stdout",
          "output_type": "stream",
          "text": [
            "0.9410473571255512\n"
          ]
        }
      ],
      "source": [
        "coef_pearsonNA, p_valor = pearsonr(dfRelacao['NA_Sales'], dfRelacao['Global_Sales'])\n",
        "print(coef_pearsonNA) ## vendas da américa do norte são altamente representativas em relação as vendas globais"
      ]
    },
    {
      "cell_type": "code",
      "execution_count": 103,
      "metadata": {
        "colab": {
          "base_uri": "https://localhost:8080/"
        },
        "id": "vIPkDbnGcz9Q",
        "outputId": "c86c5945-9af8-4f5e-bd06-f1eeee8cded6"
      },
      "outputs": [
        {
          "name": "stdout",
          "output_type": "stream",
          "text": [
            "0.9028358134817431\n"
          ]
        }
      ],
      "source": [
        "coef_pearsonEU, p_valor = pearsonr(dfRelacao['EU_Sales'], dfRelacao['Global_Sales'])\n",
        "print(coef_pearsonEU) ## vendas da europa são altamente representativas em relação as vendas globais"
      ]
    },
    {
      "cell_type": "code",
      "execution_count": 104,
      "metadata": {
        "colab": {
          "base_uri": "https://localhost:8080/"
        },
        "id": "PZC-pFwVdqCP",
        "outputId": "5234e21e-e625-443f-ac58-00dff67e5922"
      },
      "outputs": [
        {
          "name": "stdout",
          "output_type": "stream",
          "text": [
            "0.6118155181564975\n"
          ]
        }
      ],
      "source": [
        "coef_pearsonJP, p_valor = pearsonr(dfRelacao['JP_Sales'], dfRelacao['Global_Sales'])\n",
        "print(coef_pearsonJP)"
      ]
    },
    {
      "cell_type": "code",
      "execution_count": 105,
      "metadata": {
        "colab": {
          "base_uri": "https://localhost:8080/"
        },
        "id": "BOTwznbad1V3",
        "outputId": "962c83a2-cb17-44af-aca4-441bc54cea77"
      },
      "outputs": [
        {
          "name": "stdout",
          "output_type": "stream",
          "text": [
            "0.7483308464077953\n"
          ]
        }
      ],
      "source": [
        "coef_pearsonOther, p_valor = pearsonr(dfRelacao['Other_Sales'], dfRelacao['Global_Sales'])\n",
        "print(coef_pearsonOther)"
      ]
    },
    {
      "cell_type": "code",
      "execution_count": 106,
      "metadata": {
        "colab": {
          "base_uri": "https://localhost:8080/",
          "height": 805
        },
        "id": "_caAsevhd32m",
        "outputId": "82cee827-ccae-44ca-b505-775e0ef6521f"
      },
      "outputs": [
        {
          "data": {
            "image/png": "[encoded data removed]",
            "text/plain": [
              "<Figure size 1000x800 with 4 Axes>"
            ]
          },
          "metadata": {},
          "output_type": "display_data"
        }
      ],
      "source": [
        "# Cria uma figura e uma matriz de 2x2 subplots (2 linhas, 2 colunas)\n",
        "fig, axs = plt.subplots(2, 2, figsize=(10, 8))\n",
        "fig.suptitle('Relação de Vendas entre Cada Continente e as Vendas Globais', fontsize=14)\n",
        "\n",
        "# América do Norte\n",
        "sns.regplot(ax=axs[0, 0], x='NA_Sales', y='Global_Sales', data=dfRelacao, scatter_kws={\"alpha\":0.6})\n",
        "axs[0, 0].set_title(f\"{'América do Norte'} (Pearson = {coef_pearsonNA:.2f})\")\n",
        "axs[0, 0].tick_params(axis='x', labelrotation=45)\n",
        "\n",
        "# Europa\n",
        "sns.regplot(ax=axs[0, 1], x='EU_Sales', y='Global_Sales', data=dfRelacao, scatter_kws={\"alpha\":0.6})\n",
        "axs[0, 1].set_title(f\"{'Europa'} (Pearson = {coef_pearsonEU:.2f})\")\n",
        "axs[0, 1].tick_params(axis='x', labelrotation=45)\n",
        "\n",
        "# Japão\n",
        "sns.regplot(ax=axs[1, 0], x='JP_Sales', y='Global_Sales', data=dfRelacao, scatter_kws={\"alpha\":0.6})\n",
        "axs[1, 0].set_title(f\"{'Japão'} (Pearson = {coef_pearsonJP:.2f})\")\n",
        "axs[1, 0].tick_params(axis='x', labelrotation=45)\n",
        "\n",
        "# Outros\n",
        "sns.regplot(ax=axs[1, 1], x='Other_Sales', y='Global_Sales', data=dfRelacao, scatter_kws={\"alpha\":0.6})\n",
        "axs[1, 1].set_title(f\"{'Outros'} (Pearson = {coef_pearsonOther:.2f})\")\n",
        "axs[1, 1].tick_params(axis='x', labelrotation=45)\n",
        "\n",
        "# Ajusta espaçamento\n",
        "plt.tight_layout(rect=[0, 0, 1, 0.96])\n",
        "plt.show()\n"
      ]
    },
    {
      "cell_type": "code",
      "execution_count": 107,
      "metadata": {},
      "outputs": [],
      "source": [
        "fig_RelacaoNA = px.scatter(\n",
        "    dfRelacao,\n",
        "    x='NA_Sales',\n",
        "    y='Global_Sales',\n",
        "    trendline='ols',  # cria a linha de regressão\n",
        "    title=f\"América do Norte (Pearson = {coef_pearsonNA:.2f})\",\n",
        "    opacity=0.6\n",
        ")\n",
        "\n",
        "# Europa\n",
        "fig_RelacaoEU = px.scatter(\n",
        "    dfRelacao,\n",
        "    x='EU_Sales',\n",
        "    y='Global_Sales',\n",
        "    trendline='ols',\n",
        "    title=f\"Europa (Pearson = {coef_pearsonEU:.2f})\",\n",
        "    opacity=0.6\n",
        ")\n",
        "\n",
        "# Japão\n",
        "fig_RelacaoJP = px.scatter(\n",
        "    dfRelacao,\n",
        "    x='JP_Sales',\n",
        "    y='Global_Sales',\n",
        "    trendline='ols',\n",
        "    title=f\"Japão (Pearson = {coef_pearsonJP:.2f})\",\n",
        "    opacity=0.6\n",
        ")\n",
        "\n",
        "# Outros\n",
        "fig_RelacaoOther = px.scatter(\n",
        "    dfRelacao,\n",
        "    x='Other_Sales',\n",
        "    y='Global_Sales',\n",
        "    trendline='ols',\n",
        "    title=f\"Outros (Pearson = {coef_pearsonOther:.2f})\",\n",
        "    opacity=0.6\n",
        ")\n",
        "\n",
        "pio.write_json(fig_RelacaoNA, \"Figuras/fig_RelacaoNA.json\")\n",
        "pio.write_json(fig_RelacaoEU, \"Figuras/fig_RelacaoEU.json\")\n",
        "pio.write_json(fig_RelacaoJP, \"Figuras/fig_RelacaoJP.json\")\n",
        "pio.write_json(fig_RelacaoOther, \"Figuras/fig_RelacaoOther.json\")"
      ]
    },
    {
      "cell_type": "markdown",
      "metadata": {},
      "source": [
        "# Plataformas mais compradas por continente\n"
      ]
    },
    {
      "cell_type": "code",
      "execution_count": 108,
      "metadata": {},
      "outputs": [
        {
          "data": {
            "text/html": [
              "<div>\n",
              "<style scoped>\n",
              "    .dataframe tbody tr th:only-of-type {\n",
              "        vertical-align: middle;\n",
              "    }\n",
              "\n",
              "    .dataframe tbody tr th {\n",
              "        vertical-align: top;\n",
              "    }\n",
              "\n",
              "    .dataframe thead th {\n",
              "        text-align: right;\n",
              "    }\n",
              "</style>\n",
              "<table border=\"1\" class=\"dataframe\">\n",
              "  <thead>\n",
              "    <tr style=\"text-align: right;\">\n",
              "      <th></th>\n",
              "      <th>Platform</th>\n",
              "      <th>EU_Sales</th>\n",
              "    </tr>\n",
              "  </thead>\n",
              "  <tbody>\n",
              "    <tr>\n",
              "      <th>17</th>\n",
              "      <td>PS3</td>\n",
              "      <td>343.71</td>\n",
              "    </tr>\n",
              "    <tr>\n",
              "      <th>16</th>\n",
              "      <td>PS2</td>\n",
              "      <td>339.29</td>\n",
              "    </tr>\n",
              "    <tr>\n",
              "      <th>28</th>\n",
              "      <td>X360</td>\n",
              "      <td>280.58</td>\n",
              "    </tr>\n",
              "    <tr>\n",
              "      <th>26</th>\n",
              "      <td>Wii</td>\n",
              "      <td>268.38</td>\n",
              "    </tr>\n",
              "    <tr>\n",
              "      <th>15</th>\n",
              "      <td>PS</td>\n",
              "      <td>213.60</td>\n",
              "    </tr>\n",
              "  </tbody>\n",
              "</table>\n",
              "</div>"
            ],
            "text/plain": [
              "   Platform  EU_Sales\n",
              "17      PS3    343.71\n",
              "16      PS2    339.29\n",
              "28     X360    280.58\n",
              "26      Wii    268.38\n",
              "15       PS    213.60"
            ]
          },
          "execution_count": 108,
          "metadata": {},
          "output_type": "execute_result"
        }
      ],
      "source": [
        "df_platEU = df[['Platform', 'EU_Sales']]\n",
        "df_platEU = df_platEU.groupby('Platform')['EU_Sales'].sum().reset_index()\n",
        "df_platEU = df_platEU.sort_values(by='EU_Sales', ascending=False).head(5)\n",
        "df_platEU.head()"
      ]
    },
    {
      "cell_type": "code",
      "execution_count": 109,
      "metadata": {},
      "outputs": [
        {
          "data": {
            "text/html": [
              "<div>\n",
              "<style scoped>\n",
              "    .dataframe tbody tr th:only-of-type {\n",
              "        vertical-align: middle;\n",
              "    }\n",
              "\n",
              "    .dataframe tbody tr th {\n",
              "        vertical-align: top;\n",
              "    }\n",
              "\n",
              "    .dataframe thead th {\n",
              "        text-align: right;\n",
              "    }\n",
              "</style>\n",
              "<table border=\"1\" class=\"dataframe\">\n",
              "  <thead>\n",
              "    <tr style=\"text-align: right;\">\n",
              "      <th></th>\n",
              "      <th>Platform</th>\n",
              "      <th>NA_Sales</th>\n",
              "    </tr>\n",
              "  </thead>\n",
              "  <tbody>\n",
              "    <tr>\n",
              "      <th>28</th>\n",
              "      <td>X360</td>\n",
              "      <td>601.05</td>\n",
              "    </tr>\n",
              "    <tr>\n",
              "      <th>16</th>\n",
              "      <td>PS2</td>\n",
              "      <td>583.84</td>\n",
              "    </tr>\n",
              "    <tr>\n",
              "      <th>26</th>\n",
              "      <td>Wii</td>\n",
              "      <td>507.71</td>\n",
              "    </tr>\n",
              "    <tr>\n",
              "      <th>17</th>\n",
              "      <td>PS3</td>\n",
              "      <td>392.26</td>\n",
              "    </tr>\n",
              "    <tr>\n",
              "      <th>4</th>\n",
              "      <td>DS</td>\n",
              "      <td>390.71</td>\n",
              "    </tr>\n",
              "  </tbody>\n",
              "</table>\n",
              "</div>"
            ],
            "text/plain": [
              "   Platform  NA_Sales\n",
              "28     X360    601.05\n",
              "16      PS2    583.84\n",
              "26      Wii    507.71\n",
              "17      PS3    392.26\n",
              "4        DS    390.71"
            ]
          },
          "execution_count": 109,
          "metadata": {},
          "output_type": "execute_result"
        }
      ],
      "source": [
        "df_platNA = df[['Platform', 'NA_Sales']]\n",
        "df_platNA = df_platNA.groupby('Platform')['NA_Sales'].sum().reset_index()\n",
        "df_platNA = df_platNA.sort_values(by='NA_Sales', ascending=False).head(5)\n",
        "df_platNA.head()"
      ]
    },
    {
      "cell_type": "code",
      "execution_count": 110,
      "metadata": {},
      "outputs": [
        {
          "data": {
            "text/html": [
              "<div>\n",
              "<style scoped>\n",
              "    .dataframe tbody tr th:only-of-type {\n",
              "        vertical-align: middle;\n",
              "    }\n",
              "\n",
              "    .dataframe tbody tr th {\n",
              "        vertical-align: top;\n",
              "    }\n",
              "\n",
              "    .dataframe thead th {\n",
              "        text-align: right;\n",
              "    }\n",
              "</style>\n",
              "<table border=\"1\" class=\"dataframe\">\n",
              "  <thead>\n",
              "    <tr style=\"text-align: right;\">\n",
              "      <th></th>\n",
              "      <th>Platform</th>\n",
              "      <th>JP_Sales</th>\n",
              "    </tr>\n",
              "  </thead>\n",
              "  <tbody>\n",
              "    <tr>\n",
              "      <th>4</th>\n",
              "      <td>DS</td>\n",
              "      <td>175.57</td>\n",
              "    </tr>\n",
              "    <tr>\n",
              "      <th>15</th>\n",
              "      <td>PS</td>\n",
              "      <td>139.82</td>\n",
              "    </tr>\n",
              "    <tr>\n",
              "      <th>16</th>\n",
              "      <td>PS2</td>\n",
              "      <td>139.20</td>\n",
              "    </tr>\n",
              "    <tr>\n",
              "      <th>23</th>\n",
              "      <td>SNES</td>\n",
              "      <td>116.55</td>\n",
              "    </tr>\n",
              "    <tr>\n",
              "      <th>11</th>\n",
              "      <td>NES</td>\n",
              "      <td>98.65</td>\n",
              "    </tr>\n",
              "  </tbody>\n",
              "</table>\n",
              "</div>"
            ],
            "text/plain": [
              "   Platform  JP_Sales\n",
              "4        DS    175.57\n",
              "15       PS    139.82\n",
              "16      PS2    139.20\n",
              "23     SNES    116.55\n",
              "11      NES     98.65"
            ]
          },
          "execution_count": 110,
          "metadata": {},
          "output_type": "execute_result"
        }
      ],
      "source": [
        "df_platJP = df[['Platform', 'JP_Sales']]\n",
        "df_platJP = df_platJP.groupby('Platform')['JP_Sales'].sum().reset_index()\n",
        "df_platJP = df_platJP.sort_values(by='JP_Sales', ascending=False).head(5)\n",
        "df_platJP.head()"
      ]
    },
    {
      "cell_type": "code",
      "execution_count": 111,
      "metadata": {},
      "outputs": [
        {
          "data": {
            "text/html": [
              "<div>\n",
              "<style scoped>\n",
              "    .dataframe tbody tr th:only-of-type {\n",
              "        vertical-align: middle;\n",
              "    }\n",
              "\n",
              "    .dataframe tbody tr th {\n",
              "        vertical-align: top;\n",
              "    }\n",
              "\n",
              "    .dataframe thead th {\n",
              "        text-align: right;\n",
              "    }\n",
              "</style>\n",
              "<table border=\"1\" class=\"dataframe\">\n",
              "  <thead>\n",
              "    <tr style=\"text-align: right;\">\n",
              "      <th></th>\n",
              "      <th>Platform</th>\n",
              "      <th>Other_Sales</th>\n",
              "    </tr>\n",
              "  </thead>\n",
              "  <tbody>\n",
              "    <tr>\n",
              "      <th>16</th>\n",
              "      <td>PS2</td>\n",
              "      <td>193.44</td>\n",
              "    </tr>\n",
              "    <tr>\n",
              "      <th>17</th>\n",
              "      <td>PS3</td>\n",
              "      <td>141.93</td>\n",
              "    </tr>\n",
              "    <tr>\n",
              "      <th>28</th>\n",
              "      <td>X360</td>\n",
              "      <td>85.54</td>\n",
              "    </tr>\n",
              "    <tr>\n",
              "      <th>26</th>\n",
              "      <td>Wii</td>\n",
              "      <td>80.61</td>\n",
              "    </tr>\n",
              "    <tr>\n",
              "      <th>4</th>\n",
              "      <td>DS</td>\n",
              "      <td>60.53</td>\n",
              "    </tr>\n",
              "  </tbody>\n",
              "</table>\n",
              "</div>"
            ],
            "text/plain": [
              "   Platform  Other_Sales\n",
              "16      PS2       193.44\n",
              "17      PS3       141.93\n",
              "28     X360        85.54\n",
              "26      Wii        80.61\n",
              "4        DS        60.53"
            ]
          },
          "execution_count": 111,
          "metadata": {},
          "output_type": "execute_result"
        }
      ],
      "source": [
        "df_platOther = df[['Platform', 'Other_Sales']]\n",
        "df_platOther = df_platOther.groupby('Platform')['Other_Sales'].sum().reset_index()\n",
        "df_platOther = df_platOther.sort_values(by='Other_Sales', ascending=False).head(5)\n",
        "df_platOther.head()"
      ]
    },
    {
      "cell_type": "code",
      "execution_count": 112,
      "metadata": {},
      "outputs": [
        {
          "data": {
            "text/html": [
              "<div>\n",
              "<style scoped>\n",
              "    .dataframe tbody tr th:only-of-type {\n",
              "        vertical-align: middle;\n",
              "    }\n",
              "\n",
              "    .dataframe tbody tr th {\n",
              "        vertical-align: top;\n",
              "    }\n",
              "\n",
              "    .dataframe thead th {\n",
              "        text-align: right;\n",
              "    }\n",
              "</style>\n",
              "<table border=\"1\" class=\"dataframe\">\n",
              "  <thead>\n",
              "    <tr style=\"text-align: right;\">\n",
              "      <th></th>\n",
              "      <th>Platform</th>\n",
              "      <th>Global_Sales</th>\n",
              "    </tr>\n",
              "  </thead>\n",
              "  <tbody>\n",
              "    <tr>\n",
              "      <th>16</th>\n",
              "      <td>PS2</td>\n",
              "      <td>1255.64</td>\n",
              "    </tr>\n",
              "    <tr>\n",
              "      <th>28</th>\n",
              "      <td>X360</td>\n",
              "      <td>979.96</td>\n",
              "    </tr>\n",
              "    <tr>\n",
              "      <th>17</th>\n",
              "      <td>PS3</td>\n",
              "      <td>957.84</td>\n",
              "    </tr>\n",
              "    <tr>\n",
              "      <th>26</th>\n",
              "      <td>Wii</td>\n",
              "      <td>926.71</td>\n",
              "    </tr>\n",
              "    <tr>\n",
              "      <th>4</th>\n",
              "      <td>DS</td>\n",
              "      <td>822.49</td>\n",
              "    </tr>\n",
              "  </tbody>\n",
              "</table>\n",
              "</div>"
            ],
            "text/plain": [
              "   Platform  Global_Sales\n",
              "16      PS2       1255.64\n",
              "28     X360        979.96\n",
              "17      PS3        957.84\n",
              "26      Wii        926.71\n",
              "4        DS        822.49"
            ]
          },
          "execution_count": 112,
          "metadata": {},
          "output_type": "execute_result"
        }
      ],
      "source": [
        "df_platGlobal = df[['Platform', 'Global_Sales']]\n",
        "df_platGlobal = df_platGlobal.groupby('Platform')['Global_Sales'].sum().reset_index()\n",
        "df_platGlobal = df_platGlobal.sort_values(by='Global_Sales', ascending=False).head(5)\n",
        "df_platGlobal.head()"
      ]
    },
    {
      "cell_type": "code",
      "execution_count": 113,
      "metadata": {},
      "outputs": [
        {
          "data": {
            "image/png": "[encoded data removed]",
            "text/plain": [
              "<Figure size 640x480 with 6 Axes>"
            ]
          },
          "metadata": {},
          "output_type": "display_data"
        }
      ],
      "source": [
        "color = (0.2,\n",
        "         0.4,\n",
        "         0.2,\n",
        "         0.6\n",
        "         )\n",
        "\n",
        "# Cria uma figura e uma matriz de 2x2 subplots (3 linhas, 2 colunas)\n",
        "fig, axs = plt.subplots(3, 2)\n",
        "fig.suptitle('Platforma mais comprados por Continente')\n",
        "\n",
        "# Acessa e plota no primeiro subplot (0,0)\n",
        "axs[0, 0].bar(df_platEU['Platform'], df_platEU['EU_Sales'], color = color)\n",
        "axs[0, 0].set_title('Europa')\n",
        "axs[0, 0].tick_params(axis='x', labelrotation=45)\n",
        "\n",
        "# Acessa e plota no segundo subplot (0,1)\n",
        "axs[0, 1].bar(df_platNA['Platform'], df_platNA['NA_Sales'], color = color)\n",
        "axs[0, 1].set_title('América do Norte')\n",
        "axs[0, 1].tick_params(axis='x', labelrotation=45)\n",
        "\n",
        "# Acessa e plota no segundo subplot (0,1)\n",
        "axs[1, 0].bar(df_platJP['Platform'], df_platJP['JP_Sales'], color = color)\n",
        "axs[1, 0].set_title('Japão')\n",
        "axs[1, 0].tick_params(axis='x', labelrotation=45)\n",
        "\n",
        "axs[1, 1].bar(df_platOther['Platform'], df_platOther['Other_Sales'], color = color)\n",
        "axs[1, 1].set_title('Outros')\n",
        "axs[1, 1].tick_params(axis='x', labelrotation=45)\n",
        "\n",
        "axs[2, 0].bar(df_platGlobal['Platform'], df_platGlobal['Global_Sales'], color = color)\n",
        "axs[2, 0].set_title('Global')\n",
        "axs[2, 0].tick_params(axis='x', labelrotation=45)\n",
        "\n",
        "\n",
        "fig_platEU = px.bar(df_platEU, x='Platform', y='EU_Sales', title='Plataforma - Europa')\n",
        "pio.write_json(fig_platEU, \"Figuras/fig_platEU.json\")\n",
        "\n",
        "fig_PlatNA = px.bar(df_platNA, x='Platform', y='NA_Sales', title='Plataforma - América do Norte')\n",
        "pio.write_json(fig_PlatNA, \"Figuras/fig_platNA.json\")\n",
        "\n",
        "fig_platJP = px.bar(df_platJP, x='Platform', y='JP_Sales', title='Plataforma - Japão')\n",
        "pio.write_json(fig_platJP, \"Figuras/fig_platJP.json\")\n",
        "\n",
        "fig_PlatOther = px.bar(df_platOther, x='Platform', y='Other_Sales', title='Plataforma - Outros')\n",
        "pio.write_json(fig_PlatOther, \"Figuras/fig_platOther.json\")\n",
        "\n",
        "fig_platGlobal = px.bar(df_platGlobal, x='Platform', y='Global_Sales', title='Plataforma - Global')\n",
        "pio.write_json(fig_platGlobal, \"Figuras/fig_platGlobal.json\")\n",
        "\n",
        "\n",
        "\n",
        "plt.tight_layout()\n",
        "plt.show()"
      ]
    },
    {
      "cell_type": "markdown",
      "metadata": {},
      "source": [
        "# Jogos mais vendidos em cada decada"
      ]
    },
    {
      "cell_type": "code",
      "execution_count": 114,
      "metadata": {},
      "outputs": [
        {
          "data": {
            "text/html": [
              "<div>\n",
              "<style scoped>\n",
              "    .dataframe tbody tr th:only-of-type {\n",
              "        vertical-align: middle;\n",
              "    }\n",
              "\n",
              "    .dataframe tbody tr th {\n",
              "        vertical-align: top;\n",
              "    }\n",
              "\n",
              "    .dataframe thead th {\n",
              "        text-align: right;\n",
              "    }\n",
              "</style>\n",
              "<table border=\"1\" class=\"dataframe\">\n",
              "  <thead>\n",
              "    <tr style=\"text-align: right;\">\n",
              "      <th></th>\n",
              "      <th>Name</th>\n",
              "      <th>Year</th>\n",
              "      <th>NA_Sales</th>\n",
              "      <th>EU_Sales</th>\n",
              "      <th>JP_Sales</th>\n",
              "      <th>Other_Sales</th>\n",
              "      <th>Global_Sales</th>\n",
              "    </tr>\n",
              "  </thead>\n",
              "  <tbody>\n",
              "    <tr>\n",
              "      <th>0</th>\n",
              "      <td>Wii Sports</td>\n",
              "      <td>2006.0</td>\n",
              "      <td>41.49</td>\n",
              "      <td>29.02</td>\n",
              "      <td>3.77</td>\n",
              "      <td>8.46</td>\n",
              "      <td>82.74</td>\n",
              "    </tr>\n",
              "    <tr>\n",
              "      <th>1</th>\n",
              "      <td>Super Mario Bros.</td>\n",
              "      <td>1985.0</td>\n",
              "      <td>29.08</td>\n",
              "      <td>3.58</td>\n",
              "      <td>6.81</td>\n",
              "      <td>0.77</td>\n",
              "      <td>40.24</td>\n",
              "    </tr>\n",
              "    <tr>\n",
              "      <th>2</th>\n",
              "      <td>Mario Kart Wii</td>\n",
              "      <td>2008.0</td>\n",
              "      <td>15.85</td>\n",
              "      <td>12.88</td>\n",
              "      <td>3.79</td>\n",
              "      <td>3.31</td>\n",
              "      <td>35.82</td>\n",
              "    </tr>\n",
              "    <tr>\n",
              "      <th>3</th>\n",
              "      <td>Wii Sports Resort</td>\n",
              "      <td>2009.0</td>\n",
              "      <td>15.75</td>\n",
              "      <td>11.01</td>\n",
              "      <td>3.28</td>\n",
              "      <td>2.96</td>\n",
              "      <td>33.00</td>\n",
              "    </tr>\n",
              "    <tr>\n",
              "      <th>4</th>\n",
              "      <td>Pokemon Red/Pokemon Blue</td>\n",
              "      <td>1996.0</td>\n",
              "      <td>11.27</td>\n",
              "      <td>8.89</td>\n",
              "      <td>10.22</td>\n",
              "      <td>1.00</td>\n",
              "      <td>31.37</td>\n",
              "    </tr>\n",
              "  </tbody>\n",
              "</table>\n",
              "</div>"
            ],
            "text/plain": [
              "                       Name    Year  NA_Sales  EU_Sales  JP_Sales  \\\n",
              "0                Wii Sports  2006.0     41.49     29.02      3.77   \n",
              "1         Super Mario Bros.  1985.0     29.08      3.58      6.81   \n",
              "2            Mario Kart Wii  2008.0     15.85     12.88      3.79   \n",
              "3         Wii Sports Resort  2009.0     15.75     11.01      3.28   \n",
              "4  Pokemon Red/Pokemon Blue  1996.0     11.27      8.89     10.22   \n",
              "\n",
              "   Other_Sales  Global_Sales  \n",
              "0         8.46         82.74  \n",
              "1         0.77         40.24  \n",
              "2         3.31         35.82  \n",
              "3         2.96         33.00  \n",
              "4         1.00         31.37  "
            ]
          },
          "execution_count": 114,
          "metadata": {},
          "output_type": "execute_result"
        }
      ],
      "source": [
        "df_Games = df[['Name','Year','NA_Sales','EU_Sales','JP_Sales','Other_Sales','Global_Sales']]\n",
        "df_Games.head()\n"
      ]
    },
    {
      "cell_type": "code",
      "execution_count": 115,
      "metadata": {},
      "outputs": [
        {
          "name": "stderr",
          "output_type": "stream",
          "text": [
            "C:\\Users\\--\\AppData\\Local\\Temp\\ipykernel_10624\\2702279356.py:1: SettingWithCopyWarning:\n",
            "\n",
            "\n",
            "A value is trying to be set on a copy of a slice from a DataFrame.\n",
            "Try using .loc[row_indexer,col_indexer] = value instead\n",
            "\n",
            "See the caveats in the documentation: https://pandas.pydata.org/pandas-docs/stable/user_guide/indexing.html#returning-a-view-versus-a-copy\n",
            "\n"
          ]
        }
      ],
      "source": [
        "df_Games['Total_Sales'] = df_Games[['NA_Sales','EU_Sales','JP_Sales','Other_Sales','Global_Sales']].sum(axis=1)\n",
        "df_Games = df_Games.drop(['NA_Sales','EU_Sales','JP_Sales','Other_Sales','Global_Sales'], axis=1)"
      ]
    },
    {
      "cell_type": "code",
      "execution_count": 116,
      "metadata": {},
      "outputs": [
        {
          "name": "stderr",
          "output_type": "stream",
          "text": [
            "C:\\Users\\--\\AppData\\Local\\Temp\\ipykernel_10624\\3787119375.py:3: SettingWithCopyWarning:\n",
            "\n",
            "\n",
            "A value is trying to be set on a copy of a slice from a DataFrame.\n",
            "Try using .loc[row_indexer,col_indexer] = value instead\n",
            "\n",
            "See the caveats in the documentation: https://pandas.pydata.org/pandas-docs/stable/user_guide/indexing.html#returning-a-view-versus-a-copy\n",
            "\n"
          ]
        },
        {
          "data": {
            "text/html": [
              "<div>\n",
              "<style scoped>\n",
              "    .dataframe tbody tr th:only-of-type {\n",
              "        vertical-align: middle;\n",
              "    }\n",
              "\n",
              "    .dataframe tbody tr th {\n",
              "        vertical-align: top;\n",
              "    }\n",
              "\n",
              "    .dataframe thead th {\n",
              "        text-align: right;\n",
              "    }\n",
              "</style>\n",
              "<table border=\"1\" class=\"dataframe\">\n",
              "  <thead>\n",
              "    <tr style=\"text-align: right;\">\n",
              "      <th></th>\n",
              "      <th>Name</th>\n",
              "      <th>Year</th>\n",
              "      <th>Total_Sales</th>\n",
              "    </tr>\n",
              "  </thead>\n",
              "  <tbody>\n",
              "    <tr>\n",
              "      <th>1</th>\n",
              "      <td>Super Mario Bros.</td>\n",
              "      <td>1980-1989</td>\n",
              "      <td>80.48</td>\n",
              "    </tr>\n",
              "    <tr>\n",
              "      <th>5</th>\n",
              "      <td>Tetris</td>\n",
              "      <td>1980-1989</td>\n",
              "      <td>60.52</td>\n",
              "    </tr>\n",
              "    <tr>\n",
              "      <th>9</th>\n",
              "      <td>Duck Hunt</td>\n",
              "      <td>1980-1989</td>\n",
              "      <td>56.62</td>\n",
              "    </tr>\n",
              "  </tbody>\n",
              "</table>\n",
              "</div>"
            ],
            "text/plain": [
              "                Name       Year  Total_Sales\n",
              "1  Super Mario Bros.  1980-1989        80.48\n",
              "5             Tetris  1980-1989        60.52\n",
              "9          Duck Hunt  1980-1989        56.62"
            ]
          },
          "execution_count": 116,
          "metadata": {},
          "output_type": "execute_result"
        }
      ],
      "source": [
        "filteredPub80_df = df_Games[(df_Games['Year'] >= 1980) & (df_Games['Year'] <= 1989)]\n",
        "filteredPub80_df['Year'].astype(str)\n",
        "filteredPub80_df['Year'] = \"1980-1989\"\n",
        "top80_df = filteredPub80_df.sort_values(by='Total_Sales', ascending=False).head(3)\n",
        "top80_df.head()"
      ]
    },
    {
      "cell_type": "code",
      "execution_count": 117,
      "metadata": {},
      "outputs": [
        {
          "name": "stderr",
          "output_type": "stream",
          "text": [
            "C:\\Users\\--\\AppData\\Local\\Temp\\ipykernel_10624\\944283483.py:3: SettingWithCopyWarning:\n",
            "\n",
            "\n",
            "A value is trying to be set on a copy of a slice from a DataFrame.\n",
            "Try using .loc[row_indexer,col_indexer] = value instead\n",
            "\n",
            "See the caveats in the documentation: https://pandas.pydata.org/pandas-docs/stable/user_guide/indexing.html#returning-a-view-versus-a-copy\n",
            "\n"
          ]
        },
        {
          "data": {
            "text/html": [
              "<div>\n",
              "<style scoped>\n",
              "    .dataframe tbody tr th:only-of-type {\n",
              "        vertical-align: middle;\n",
              "    }\n",
              "\n",
              "    .dataframe tbody tr th {\n",
              "        vertical-align: top;\n",
              "    }\n",
              "\n",
              "    .dataframe thead th {\n",
              "        text-align: right;\n",
              "    }\n",
              "</style>\n",
              "<table border=\"1\" class=\"dataframe\">\n",
              "  <thead>\n",
              "    <tr style=\"text-align: right;\">\n",
              "      <th></th>\n",
              "      <th>Name</th>\n",
              "      <th>Year</th>\n",
              "      <th>Total_Sales</th>\n",
              "    </tr>\n",
              "  </thead>\n",
              "  <tbody>\n",
              "    <tr>\n",
              "      <th>4</th>\n",
              "      <td>Pokemon Red/Pokemon Blue</td>\n",
              "      <td>1990-1999</td>\n",
              "      <td>62.75</td>\n",
              "    </tr>\n",
              "    <tr>\n",
              "      <th>12</th>\n",
              "      <td>Pokemon Gold/Pokemon Silver</td>\n",
              "      <td>1990-1999</td>\n",
              "      <td>46.19</td>\n",
              "    </tr>\n",
              "    <tr>\n",
              "      <th>18</th>\n",
              "      <td>Super Mario World</td>\n",
              "      <td>1990-1999</td>\n",
              "      <td>41.23</td>\n",
              "    </tr>\n",
              "  </tbody>\n",
              "</table>\n",
              "</div>"
            ],
            "text/plain": [
              "                           Name       Year  Total_Sales\n",
              "4      Pokemon Red/Pokemon Blue  1990-1999        62.75\n",
              "12  Pokemon Gold/Pokemon Silver  1990-1999        46.19\n",
              "18            Super Mario World  1990-1999        41.23"
            ]
          },
          "execution_count": 117,
          "metadata": {},
          "output_type": "execute_result"
        }
      ],
      "source": [
        "filteredPub90_df = df_Games[(df_Games['Year'] >= 1990) & (df_Games['Year'] <= 1999)]\n",
        "filteredPub90_df['Year'].astype(str)\n",
        "filteredPub90_df['Year'] = \"1990-1999\"\n",
        "top90_df = filteredPub90_df.sort_values(by='Total_Sales', ascending=False).head(3)\n",
        "top90_df.head()\n"
      ]
    },
    {
      "cell_type": "code",
      "execution_count": 118,
      "metadata": {},
      "outputs": [
        {
          "name": "stderr",
          "output_type": "stream",
          "text": [
            "C:\\Users\\--\\AppData\\Local\\Temp\\ipykernel_10624\\2808081636.py:3: SettingWithCopyWarning:\n",
            "\n",
            "\n",
            "A value is trying to be set on a copy of a slice from a DataFrame.\n",
            "Try using .loc[row_indexer,col_indexer] = value instead\n",
            "\n",
            "See the caveats in the documentation: https://pandas.pydata.org/pandas-docs/stable/user_guide/indexing.html#returning-a-view-versus-a-copy\n",
            "\n"
          ]
        },
        {
          "data": {
            "text/html": [
              "<div>\n",
              "<style scoped>\n",
              "    .dataframe tbody tr th:only-of-type {\n",
              "        vertical-align: middle;\n",
              "    }\n",
              "\n",
              "    .dataframe tbody tr th {\n",
              "        vertical-align: top;\n",
              "    }\n",
              "\n",
              "    .dataframe thead th {\n",
              "        text-align: right;\n",
              "    }\n",
              "</style>\n",
              "<table border=\"1\" class=\"dataframe\">\n",
              "  <thead>\n",
              "    <tr style=\"text-align: right;\">\n",
              "      <th></th>\n",
              "      <th>Name</th>\n",
              "      <th>Year</th>\n",
              "      <th>Total_Sales</th>\n",
              "    </tr>\n",
              "  </thead>\n",
              "  <tbody>\n",
              "    <tr>\n",
              "      <th>0</th>\n",
              "      <td>Wii Sports</td>\n",
              "      <td>2000-2009</td>\n",
              "      <td>165.48</td>\n",
              "    </tr>\n",
              "    <tr>\n",
              "      <th>2</th>\n",
              "      <td>Mario Kart Wii</td>\n",
              "      <td>2000-2009</td>\n",
              "      <td>71.65</td>\n",
              "    </tr>\n",
              "    <tr>\n",
              "      <th>3</th>\n",
              "      <td>Wii Sports Resort</td>\n",
              "      <td>2000-2009</td>\n",
              "      <td>66.00</td>\n",
              "    </tr>\n",
              "  </tbody>\n",
              "</table>\n",
              "</div>"
            ],
            "text/plain": [
              "                Name       Year  Total_Sales\n",
              "0         Wii Sports  2000-2009       165.48\n",
              "2     Mario Kart Wii  2000-2009        71.65\n",
              "3  Wii Sports Resort  2000-2009        66.00"
            ]
          },
          "execution_count": 118,
          "metadata": {},
          "output_type": "execute_result"
        }
      ],
      "source": [
        "filteredPub00_df = df_Games[(df_Games['Year'] >= 2000) & (df_Games['Year'] <= 2009)]\n",
        "filteredPub00_df['Year'].astype(str)\n",
        "filteredPub00_df['Year'] = \"2000-2009\"\n",
        "top00_df = filteredPub00_df.sort_values(by='Total_Sales', ascending=False).head(3)\n",
        "top00_df.head()"
      ]
    },
    {
      "cell_type": "code",
      "execution_count": 119,
      "metadata": {},
      "outputs": [
        {
          "name": "stderr",
          "output_type": "stream",
          "text": [
            "C:\\Users\\--\\AppData\\Local\\Temp\\ipykernel_10624\\956134975.py:4: SettingWithCopyWarning:\n",
            "\n",
            "\n",
            "A value is trying to be set on a copy of a slice from a DataFrame.\n",
            "Try using .loc[row_indexer,col_indexer] = value instead\n",
            "\n",
            "See the caveats in the documentation: https://pandas.pydata.org/pandas-docs/stable/user_guide/indexing.html#returning-a-view-versus-a-copy\n",
            "\n"
          ]
        },
        {
          "data": {
            "text/html": [
              "<div>\n",
              "<style scoped>\n",
              "    .dataframe tbody tr th:only-of-type {\n",
              "        vertical-align: middle;\n",
              "    }\n",
              "\n",
              "    .dataframe tbody tr th {\n",
              "        vertical-align: top;\n",
              "    }\n",
              "\n",
              "    .dataframe thead th {\n",
              "        text-align: right;\n",
              "    }\n",
              "</style>\n",
              "<table border=\"1\" class=\"dataframe\">\n",
              "  <thead>\n",
              "    <tr style=\"text-align: right;\">\n",
              "      <th></th>\n",
              "      <th>Name</th>\n",
              "      <th>Year</th>\n",
              "      <th>Total_Sales</th>\n",
              "    </tr>\n",
              "  </thead>\n",
              "  <tbody>\n",
              "    <tr>\n",
              "      <th>16</th>\n",
              "      <td>Grand Theft Auto V</td>\n",
              "      <td>2010-2020</td>\n",
              "      <td>111.84</td>\n",
              "    </tr>\n",
              "    <tr>\n",
              "      <th>34</th>\n",
              "      <td>Call of Duty: Black Ops II</td>\n",
              "      <td>2010-2020</td>\n",
              "      <td>59.45</td>\n",
              "    </tr>\n",
              "    <tr>\n",
              "      <th>15</th>\n",
              "      <td>Kinect Adventures!</td>\n",
              "      <td>2010-2020</td>\n",
              "      <td>43.64</td>\n",
              "    </tr>\n",
              "  </tbody>\n",
              "</table>\n",
              "</div>"
            ],
            "text/plain": [
              "                          Name       Year  Total_Sales\n",
              "16          Grand Theft Auto V  2010-2020       111.84\n",
              "34  Call of Duty: Black Ops II  2010-2020        59.45\n",
              "15          Kinect Adventures!  2010-2020        43.64"
            ]
          },
          "execution_count": 119,
          "metadata": {},
          "output_type": "execute_result"
        }
      ],
      "source": [
        "filteredPub10_df = df_Games[(df_Games['Year'] >= 2010) & (df_Games['Year'] <= 2020)]\n",
        "\n",
        "filteredPub10_df['Year'].astype(str)\n",
        "filteredPub10_df['Year'] = \"2010-2020\"\n",
        "top10_df = filteredPub10_df.sort_values(by='Total_Sales', ascending=False)\n",
        "salesGTA = top10_df[top10_df['Name'] == 'Call of Duty: Black Ops II'].sum()\n",
        "top10_df.loc[top10_df['Name'] == \"Grand Theft Auto V\", 'Total_Sales'] = 111.84\n",
        "top10_df.loc[top10_df['Name'] == \"Call of Duty: Black Ops II\", 'Total_Sales'] = 59.45\n",
        "top10d_df = top10_df.drop_duplicates(subset=['Name'], keep='first')\n",
        "top10d_df = top10d_df.sort_values(by='Total_Sales', ascending=False).head(3)\n",
        "top10d_df.head()"
      ]
    },
    {
      "cell_type": "code",
      "execution_count": 120,
      "metadata": {},
      "outputs": [
        {
          "data": {
            "text/html": [
              "<div>\n",
              "<style scoped>\n",
              "    .dataframe tbody tr th:only-of-type {\n",
              "        vertical-align: middle;\n",
              "    }\n",
              "\n",
              "    .dataframe tbody tr th {\n",
              "        vertical-align: top;\n",
              "    }\n",
              "\n",
              "    .dataframe thead th {\n",
              "        text-align: right;\n",
              "    }\n",
              "</style>\n",
              "<table border=\"1\" class=\"dataframe\">\n",
              "  <thead>\n",
              "    <tr style=\"text-align: right;\">\n",
              "      <th></th>\n",
              "      <th>Name</th>\n",
              "      <th>Year</th>\n",
              "      <th>Total_Sales</th>\n",
              "    </tr>\n",
              "  </thead>\n",
              "  <tbody>\n",
              "    <tr>\n",
              "      <th>1</th>\n",
              "      <td>Super Mario Bros.</td>\n",
              "      <td>1980-1989</td>\n",
              "      <td>80.48</td>\n",
              "    </tr>\n",
              "    <tr>\n",
              "      <th>5</th>\n",
              "      <td>Tetris</td>\n",
              "      <td>1980-1989</td>\n",
              "      <td>60.52</td>\n",
              "    </tr>\n",
              "    <tr>\n",
              "      <th>9</th>\n",
              "      <td>Duck Hunt</td>\n",
              "      <td>1980-1989</td>\n",
              "      <td>56.62</td>\n",
              "    </tr>\n",
              "    <tr>\n",
              "      <th>4</th>\n",
              "      <td>Pokemon Red/Pokemon Blue</td>\n",
              "      <td>1990-1999</td>\n",
              "      <td>62.75</td>\n",
              "    </tr>\n",
              "    <tr>\n",
              "      <th>12</th>\n",
              "      <td>Pokemon Gold/Pokemon Silver</td>\n",
              "      <td>1990-1999</td>\n",
              "      <td>46.19</td>\n",
              "    </tr>\n",
              "    <tr>\n",
              "      <th>18</th>\n",
              "      <td>Super Mario World</td>\n",
              "      <td>1990-1999</td>\n",
              "      <td>41.23</td>\n",
              "    </tr>\n",
              "    <tr>\n",
              "      <th>0</th>\n",
              "      <td>Wii Sports</td>\n",
              "      <td>2000-2009</td>\n",
              "      <td>165.48</td>\n",
              "    </tr>\n",
              "    <tr>\n",
              "      <th>2</th>\n",
              "      <td>Mario Kart Wii</td>\n",
              "      <td>2000-2009</td>\n",
              "      <td>71.65</td>\n",
              "    </tr>\n",
              "    <tr>\n",
              "      <th>3</th>\n",
              "      <td>Wii Sports Resort</td>\n",
              "      <td>2000-2009</td>\n",
              "      <td>66.00</td>\n",
              "    </tr>\n",
              "    <tr>\n",
              "      <th>16</th>\n",
              "      <td>Grand Theft Auto V</td>\n",
              "      <td>2010-2020</td>\n",
              "      <td>111.84</td>\n",
              "    </tr>\n",
              "    <tr>\n",
              "      <th>34</th>\n",
              "      <td>Call of Duty: Black Ops II</td>\n",
              "      <td>2010-2020</td>\n",
              "      <td>59.45</td>\n",
              "    </tr>\n",
              "    <tr>\n",
              "      <th>15</th>\n",
              "      <td>Kinect Adventures!</td>\n",
              "      <td>2010-2020</td>\n",
              "      <td>43.64</td>\n",
              "    </tr>\n",
              "  </tbody>\n",
              "</table>\n",
              "</div>"
            ],
            "text/plain": [
              "                           Name       Year  Total_Sales\n",
              "1             Super Mario Bros.  1980-1989        80.48\n",
              "5                        Tetris  1980-1989        60.52\n",
              "9                     Duck Hunt  1980-1989        56.62\n",
              "4      Pokemon Red/Pokemon Blue  1990-1999        62.75\n",
              "12  Pokemon Gold/Pokemon Silver  1990-1999        46.19\n",
              "18            Super Mario World  1990-1999        41.23\n",
              "0                    Wii Sports  2000-2009       165.48\n",
              "2                Mario Kart Wii  2000-2009        71.65\n",
              "3             Wii Sports Resort  2000-2009        66.00\n",
              "16           Grand Theft Auto V  2010-2020       111.84\n",
              "34   Call of Duty: Black Ops II  2010-2020        59.45\n",
              "15           Kinect Adventures!  2010-2020        43.64"
            ]
          },
          "execution_count": 120,
          "metadata": {},
          "output_type": "execute_result"
        }
      ],
      "source": [
        "resultGames_df = pd.concat([top80_df, top90_df, top00_df,top10d_df])\n",
        "resultGames_df.head(20)\n"
      ]
    },
    {
      "cell_type": "code",
      "execution_count": 121,
      "metadata": {},
      "outputs": [
        {
          "data": {
            "image/png": "[encoded data removed]",
            "text/plain": [
              "<Figure size 1800x800 with 1 Axes>"
            ]
          },
          "metadata": {},
          "output_type": "display_data"
        }
      ],
      "source": [
        "fig, ax = plt.subplots(figsize=(18, 8))\n",
        "\n",
        "sns.barplot(data=resultGames_df, x=\"Year\", y=\"Total_Sales\", hue=\"Name\", ax=ax,width=1)\n",
        "ax.set_xlim(-0.5, len(resultGames_df[\"Year\"].unique()) - 0.5)\n",
        "\n",
        "fig_Games = px.bar(resultGames_df, x='Year', y='Total_Sales', title='Jogos mais vendidos - Decada')\n",
        "pio.write_json(fig_Games, \"Figuras/fig_Games.json\")\n",
        "\n",
        "plt.show()\n",
        "\n"
      ]
    },
    {
      "cell_type": "code",
      "execution_count": null,
      "metadata": {},
      "outputs": [],
      "source": []
    }
  ],
  "metadata": {
    "colab": {
      "provenance": []
    },
    "kernelspec": {
      "display_name": "Python 3",
      "name": "python3"
    },
    "language_info": {
      "codemirror_mode": {
        "name": "ipython",
        "version": 3
      },
      "file_extension": ".py",
      "mimetype": "text/x-python",
      "name": "python",
      "nbconvert_exporter": "python",
      "pygments_lexer": "ipython3",
      "version": "3.13.7"
    }
  },
  "nbformat": 4,
  "nbformat_minor": 0
}
