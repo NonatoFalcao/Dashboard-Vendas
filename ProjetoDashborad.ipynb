{
 "cells": [
  {
   "cell_type": "code",
   "metadata": {
    "colab": {
     "base_uri": "https://localhost:8080/"
    },
    "id": "Mlef-yq8g5Xw",
    "outputId": "15be05b8-ea24-41da-c3f6-90623b5a8d35",
    "ExecuteTime": {
     "end_time": "2025-10-01T12:49:40.512833Z",
     "start_time": "2025-10-01T12:49:39.644540Z"
    }
   },
   "source": [
    "pip install kagglehub[pandas-datasets]"
   ],
   "outputs": [
    {
     "name": "stdout",
     "output_type": "stream",
     "text": [
      "Requirement already satisfied: kagglehub[pandas-datasets] in c:\\users\\23070070\\pycharmprojects\\dashboard-vendas\\.venv\\lib\\site-packages (0.3.13)\n",
      "Requirement already satisfied: packaging in c:\\users\\23070070\\pycharmprojects\\dashboard-vendas\\.venv\\lib\\site-packages (from kagglehub[pandas-datasets]) (25.0)\n",
      "Requirement already satisfied: pyyaml in c:\\users\\23070070\\pycharmprojects\\dashboard-vendas\\.venv\\lib\\site-packages (from kagglehub[pandas-datasets]) (6.0.3)\n",
      "Requirement already satisfied: requests in c:\\users\\23070070\\pycharmprojects\\dashboard-vendas\\.venv\\lib\\site-packages (from kagglehub[pandas-datasets]) (2.32.5)\n",
      "Requirement already satisfied: tqdm in c:\\users\\23070070\\pycharmprojects\\dashboard-vendas\\.venv\\lib\\site-packages (from kagglehub[pandas-datasets]) (4.67.1)\n",
      "Requirement already satisfied: pandas in c:\\users\\23070070\\pycharmprojects\\dashboard-vendas\\.venv\\lib\\site-packages (from kagglehub[pandas-datasets]) (2.3.3)\n",
      "Requirement already satisfied: numpy>=1.26.0 in c:\\users\\23070070\\pycharmprojects\\dashboard-vendas\\.venv\\lib\\site-packages (from pandas->kagglehub[pandas-datasets]) (2.3.3)\n",
      "Requirement already satisfied: python-dateutil>=2.8.2 in c:\\users\\23070070\\pycharmprojects\\dashboard-vendas\\.venv\\lib\\site-packages (from pandas->kagglehub[pandas-datasets]) (2.9.0.post0)\n",
      "Requirement already satisfied: pytz>=2020.1 in c:\\users\\23070070\\pycharmprojects\\dashboard-vendas\\.venv\\lib\\site-packages (from pandas->kagglehub[pandas-datasets]) (2025.2)\n",
      "Requirement already satisfied: tzdata>=2022.7 in c:\\users\\23070070\\pycharmprojects\\dashboard-vendas\\.venv\\lib\\site-packages (from pandas->kagglehub[pandas-datasets]) (2025.2)\n",
      "Requirement already satisfied: six>=1.5 in c:\\users\\23070070\\pycharmprojects\\dashboard-vendas\\.venv\\lib\\site-packages (from python-dateutil>=2.8.2->pandas->kagglehub[pandas-datasets]) (1.17.0)\n",
      "Requirement already satisfied: charset_normalizer<4,>=2 in c:\\users\\23070070\\pycharmprojects\\dashboard-vendas\\.venv\\lib\\site-packages (from requests->kagglehub[pandas-datasets]) (3.4.3)\n",
      "Requirement already satisfied: idna<4,>=2.5 in c:\\users\\23070070\\pycharmprojects\\dashboard-vendas\\.venv\\lib\\site-packages (from requests->kagglehub[pandas-datasets]) (3.10)\n",
      "Requirement already satisfied: urllib3<3,>=1.21.1 in c:\\users\\23070070\\pycharmprojects\\dashboard-vendas\\.venv\\lib\\site-packages (from requests->kagglehub[pandas-datasets]) (2.5.0)\n",
      "Requirement already satisfied: certifi>=2017.4.17 in c:\\users\\23070070\\pycharmprojects\\dashboard-vendas\\.venv\\lib\\site-packages (from requests->kagglehub[pandas-datasets]) (2025.8.3)\n",
      "Requirement already satisfied: colorama in c:\\users\\23070070\\pycharmprojects\\dashboard-vendas\\.venv\\lib\\site-packages (from tqdm->kagglehub[pandas-datasets]) (0.4.6)\n",
      "Note: you may need to restart the kernel to use updated packages.\n"
     ]
    },
    {
     "name": "stderr",
     "output_type": "stream",
     "text": [
      "\n",
      "[notice] A new release of pip is available: 25.1.1 -> 25.2\n",
      "[notice] To update, run: python.exe -m pip install --upgrade pip\n"
     ]
    }
   ],
   "execution_count": 2
  },
  {
   "cell_type": "code",
   "metadata": {
    "ExecuteTime": {
     "end_time": "2025-10-01T12:49:41.309482Z",
     "start_time": "2025-10-01T12:49:40.531742Z"
    }
   },
   "source": [
    "pip install scipy"
   ],
   "outputs": [
    {
     "name": "stdout",
     "output_type": "stream",
     "text": [
      "Requirement already satisfied: scipy in c:\\users\\23070070\\pycharmprojects\\dashboard-vendas\\.venv\\lib\\site-packages (1.16.2)\n",
      "Requirement already satisfied: numpy<2.6,>=1.25.2 in c:\\users\\23070070\\pycharmprojects\\dashboard-vendas\\.venv\\lib\\site-packages (from scipy) (2.3.3)\n",
      "Note: you may need to restart the kernel to use updated packages.\n"
     ]
    },
    {
     "name": "stderr",
     "output_type": "stream",
     "text": [
      "\n",
      "[notice] A new release of pip is available: 25.1.1 -> 25.2\n",
      "[notice] To update, run: python.exe -m pip install --upgrade pip\n"
     ]
    }
   ],
   "execution_count": 3
  },
  {
   "cell_type": "code",
   "metadata": {
    "ExecuteTime": {
     "end_time": "2025-10-01T12:49:42.063563Z",
     "start_time": "2025-10-01T12:49:41.323682Z"
    }
   },
   "source": [
    "pip install plotly"
   ],
   "outputs": [
    {
     "name": "stdout",
     "output_type": "stream",
     "text": [
      "Requirement already satisfied: plotly in c:\\users\\23070070\\pycharmprojects\\dashboard-vendas\\.venv\\lib\\site-packages (6.3.0)\n",
      "Requirement already satisfied: narwhals>=1.15.1 in c:\\users\\23070070\\pycharmprojects\\dashboard-vendas\\.venv\\lib\\site-packages (from plotly) (2.6.0)\n",
      "Requirement already satisfied: packaging in c:\\users\\23070070\\pycharmprojects\\dashboard-vendas\\.venv\\lib\\site-packages (from plotly) (25.0)\n",
      "Note: you may need to restart the kernel to use updated packages.\n"
     ]
    },
    {
     "name": "stderr",
     "output_type": "stream",
     "text": [
      "\n",
      "[notice] A new release of pip is available: 25.1.1 -> 25.2\n",
      "[notice] To update, run: python.exe -m pip install --upgrade pip\n"
     ]
    }
   ],
   "execution_count": 4
  },
  {
   "cell_type": "code",
   "metadata": {
    "ExecuteTime": {
     "end_time": "2025-10-01T12:49:42.821298Z",
     "start_time": "2025-10-01T12:49:42.078485Z"
    }
   },
   "source": [
    "pip install statsmodels --quiet"
   ],
   "outputs": [
    {
     "name": "stdout",
     "output_type": "stream",
     "text": [
      "Note: you may need to restart the kernel to use updated packages.\n"
     ]
    },
    {
     "name": "stderr",
     "output_type": "stream",
     "text": [
      "\n",
      "[notice] A new release of pip is available: 25.1.1 -> 25.2\n",
      "[notice] To update, run: python.exe -m pip install --upgrade pip\n"
     ]
    }
   ],
   "execution_count": 5
  },
  {
   "cell_type": "code",
   "metadata": {
    "ExecuteTime": {
     "end_time": "2025-10-01T12:49:43.585333Z",
     "start_time": "2025-10-01T12:49:42.832863Z"
    }
   },
   "source": [
    "pip install seaborn"
   ],
   "outputs": [
    {
     "name": "stdout",
     "output_type": "stream",
     "text": [
      "Requirement already satisfied: seaborn in c:\\users\\23070070\\pycharmprojects\\dashboard-vendas\\.venv\\lib\\site-packages (0.13.2)\n",
      "Requirement already satisfied: numpy!=1.24.0,>=1.20 in c:\\users\\23070070\\pycharmprojects\\dashboard-vendas\\.venv\\lib\\site-packages (from seaborn) (2.3.3)\n",
      "Requirement already satisfied: pandas>=1.2 in c:\\users\\23070070\\pycharmprojects\\dashboard-vendas\\.venv\\lib\\site-packages (from seaborn) (2.3.3)\n",
      "Requirement already satisfied: matplotlib!=3.6.1,>=3.4 in c:\\users\\23070070\\pycharmprojects\\dashboard-vendas\\.venv\\lib\\site-packages (from seaborn) (3.10.6)\n",
      "Requirement already satisfied: contourpy>=1.0.1 in c:\\users\\23070070\\pycharmprojects\\dashboard-vendas\\.venv\\lib\\site-packages (from matplotlib!=3.6.1,>=3.4->seaborn) (1.3.3)\n",
      "Requirement already satisfied: cycler>=0.10 in c:\\users\\23070070\\pycharmprojects\\dashboard-vendas\\.venv\\lib\\site-packages (from matplotlib!=3.6.1,>=3.4->seaborn) (0.12.1)\n",
      "Requirement already satisfied: fonttools>=4.22.0 in c:\\users\\23070070\\pycharmprojects\\dashboard-vendas\\.venv\\lib\\site-packages (from matplotlib!=3.6.1,>=3.4->seaborn) (4.60.1)\n",
      "Requirement already satisfied: kiwisolver>=1.3.1 in c:\\users\\23070070\\pycharmprojects\\dashboard-vendas\\.venv\\lib\\site-packages (from matplotlib!=3.6.1,>=3.4->seaborn) (1.4.9)\n",
      "Requirement already satisfied: packaging>=20.0 in c:\\users\\23070070\\pycharmprojects\\dashboard-vendas\\.venv\\lib\\site-packages (from matplotlib!=3.6.1,>=3.4->seaborn) (25.0)\n",
      "Requirement already satisfied: pillow>=8 in c:\\users\\23070070\\pycharmprojects\\dashboard-vendas\\.venv\\lib\\site-packages (from matplotlib!=3.6.1,>=3.4->seaborn) (11.3.0)\n",
      "Requirement already satisfied: pyparsing>=2.3.1 in c:\\users\\23070070\\pycharmprojects\\dashboard-vendas\\.venv\\lib\\site-packages (from matplotlib!=3.6.1,>=3.4->seaborn) (3.2.5)\n",
      "Requirement already satisfied: python-dateutil>=2.7 in c:\\users\\23070070\\pycharmprojects\\dashboard-vendas\\.venv\\lib\\site-packages (from matplotlib!=3.6.1,>=3.4->seaborn) (2.9.0.post0)\n",
      "Requirement already satisfied: pytz>=2020.1 in c:\\users\\23070070\\pycharmprojects\\dashboard-vendas\\.venv\\lib\\site-packages (from pandas>=1.2->seaborn) (2025.2)\n",
      "Requirement already satisfied: tzdata>=2022.7 in c:\\users\\23070070\\pycharmprojects\\dashboard-vendas\\.venv\\lib\\site-packages (from pandas>=1.2->seaborn) (2025.2)\n",
      "Requirement already satisfied: six>=1.5 in c:\\users\\23070070\\pycharmprojects\\dashboard-vendas\\.venv\\lib\\site-packages (from python-dateutil>=2.7->matplotlib!=3.6.1,>=3.4->seaborn) (1.17.0)\n",
      "Note: you may need to restart the kernel to use updated packages.\n"
     ]
    },
    {
     "name": "stderr",
     "output_type": "stream",
     "text": [
      "\n",
      "[notice] A new release of pip is available: 25.1.1 -> 25.2\n",
      "[notice] To update, run: python.exe -m pip install --upgrade pip\n"
     ]
    }
   ],
   "execution_count": 6
  },
  {
   "cell_type": "code",
   "metadata": {
    "id": "X6YApn-Ibndy",
    "ExecuteTime": {
     "end_time": "2025-10-01T12:49:43.713831Z",
     "start_time": "2025-10-01T12:49:43.596294Z"
    }
   },
   "source": [
    "import kagglehub\n",
    "from kagglehub import KaggleDatasetAdapter\n",
    "import pandas as pd\n",
    "import seaborn as sns\n",
    "import matplotlib.pyplot as plt\n",
    "from scipy.stats import pearsonr\n",
    "import plotly.express as px\n",
    "import plotly.io as pio"
   ],
   "outputs": [
    {
     "name": "stderr",
     "output_type": "stream",
     "text": [
      "C:\\Users\\23070070\\PycharmProjects\\Dashboard-Vendas\\.venv\\Lib\\site-packages\\tqdm\\auto.py:21: TqdmWarning: IProgress not found. Please update jupyter and ipywidgets. See https://ipywidgets.readthedocs.io/en/stable/user_install.html\n",
      "  from .autonotebook import tqdm as notebook_tqdm\n"
     ]
    }
   ],
   "execution_count": 7
  },
  {
   "cell_type": "code",
   "metadata": {
    "colab": {
     "base_uri": "https://localhost:8080/"
    },
    "id": "9QJNE0gqVPJK",
    "outputId": "435ec5ca-3c32-4d84-b613-6cb9b2936959",
    "ExecuteTime": {
     "end_time": "2025-10-01T12:49:44.487377Z",
     "start_time": "2025-10-01T12:49:43.736460Z"
    }
   },
   "source": [
    "# Set the path to the file you'd like to load\n",
    "file_path = \"vgsales.csv\"\n",
    "\n",
    "# Load the latest version\n",
    "df = kagglehub.load_dataset(  KaggleDatasetAdapter.PANDAS,\n",
    "  \"anandshaw2001/video-game-sales\",\n",
    "  file_path,\n",
    "  # Provide any additional arguments like\n",
    "  # sql_query or pandas_kwargs. See the\n",
    "  # documenation for more information:\n",
    "  # https://github.com/Kaggle/kagglehub/blob/main/README.md#kaggledatasetadapterpandas\n",
    ")\n",
    "\n"
   ],
   "outputs": [
    {
     "name": "stderr",
     "output_type": "stream",
     "text": [
      "C:\\Users\\23070070\\AppData\\Local\\Temp\\ipykernel_5860\\651042041.py:5: DeprecationWarning: Use dataset_load() instead of load_dataset(). load_dataset() will be removed in a future version.\n",
      "  df = kagglehub.load_dataset(  KaggleDatasetAdapter.PANDAS,\n"
     ]
    }
   ],
   "execution_count": 8
  },
  {
   "cell_type": "markdown",
   "metadata": {
    "id": "acs7M0CTd3cI"
   },
   "source": [
    "# Análise Exploratória"
   ]
  },
  {
   "cell_type": "code",
   "metadata": {
    "colab": {
     "base_uri": "https://localhost:8080/"
    },
    "id": "6uTBh4O3iKgu",
    "outputId": "670d5925-a061-4bd5-ad16-2e0e4707dbe0",
    "ExecuteTime": {
     "end_time": "2025-10-01T12:49:44.505022Z",
     "start_time": "2025-10-01T12:49:44.502555Z"
    }
   },
   "source": [
    "print(df.shape)"
   ],
   "outputs": [
    {
     "name": "stdout",
     "output_type": "stream",
     "text": [
      "(16598, 11)\n"
     ]
    }
   ],
   "execution_count": 9
  },
  {
   "cell_type": "code",
   "metadata": {
    "colab": {
     "base_uri": "https://localhost:8080/",
     "height": 206
    },
    "id": "ogq3k8k4iLr-",
    "outputId": "be94bfd2-4ee6-4174-af6e-c3f9f61a48b4",
    "ExecuteTime": {
     "end_time": "2025-10-01T12:49:44.547550Z",
     "start_time": "2025-10-01T12:49:44.537128Z"
    }
   },
   "source": [
    "df.head()"
   ],
   "outputs": [
    {
     "data": {
      "text/plain": [
       "   Rank                      Name Platform    Year         Genre Publisher  \\\n",
       "0     1                Wii Sports      Wii  2006.0        Sports  Nintendo   \n",
       "1     2         Super Mario Bros.      NES  1985.0      Platform  Nintendo   \n",
       "2     3            Mario Kart Wii      Wii  2008.0        Racing  Nintendo   \n",
       "3     4         Wii Sports Resort      Wii  2009.0        Sports  Nintendo   \n",
       "4     5  Pokemon Red/Pokemon Blue       GB  1996.0  Role-Playing  Nintendo   \n",
       "\n",
       "   NA_Sales  EU_Sales  JP_Sales  Other_Sales  Global_Sales  \n",
       "0     41.49     29.02      3.77         8.46         82.74  \n",
       "1     29.08      3.58      6.81         0.77         40.24  \n",
       "2     15.85     12.88      3.79         3.31         35.82  \n",
       "3     15.75     11.01      3.28         2.96         33.00  \n",
       "4     11.27      8.89     10.22         1.00         31.37  "
      ],
      "text/html": [
       "<div>\n",
       "<style scoped>\n",
       "    .dataframe tbody tr th:only-of-type {\n",
       "        vertical-align: middle;\n",
       "    }\n",
       "\n",
       "    .dataframe tbody tr th {\n",
       "        vertical-align: top;\n",
       "    }\n",
       "\n",
       "    .dataframe thead th {\n",
       "        text-align: right;\n",
       "    }\n",
       "</style>\n",
       "<table border=\"1\" class=\"dataframe\">\n",
       "  <thead>\n",
       "    <tr style=\"text-align: right;\">\n",
       "      <th></th>\n",
       "      <th>Rank</th>\n",
       "      <th>Name</th>\n",
       "      <th>Platform</th>\n",
       "      <th>Year</th>\n",
       "      <th>Genre</th>\n",
       "      <th>Publisher</th>\n",
       "      <th>NA_Sales</th>\n",
       "      <th>EU_Sales</th>\n",
       "      <th>JP_Sales</th>\n",
       "      <th>Other_Sales</th>\n",
       "      <th>Global_Sales</th>\n",
       "    </tr>\n",
       "  </thead>\n",
       "  <tbody>\n",
       "    <tr>\n",
       "      <th>0</th>\n",
       "      <td>1</td>\n",
       "      <td>Wii Sports</td>\n",
       "      <td>Wii</td>\n",
       "      <td>2006.0</td>\n",
       "      <td>Sports</td>\n",
       "      <td>Nintendo</td>\n",
       "      <td>41.49</td>\n",
       "      <td>29.02</td>\n",
       "      <td>3.77</td>\n",
       "      <td>8.46</td>\n",
       "      <td>82.74</td>\n",
       "    </tr>\n",
       "    <tr>\n",
       "      <th>1</th>\n",
       "      <td>2</td>\n",
       "      <td>Super Mario Bros.</td>\n",
       "      <td>NES</td>\n",
       "      <td>1985.0</td>\n",
       "      <td>Platform</td>\n",
       "      <td>Nintendo</td>\n",
       "      <td>29.08</td>\n",
       "      <td>3.58</td>\n",
       "      <td>6.81</td>\n",
       "      <td>0.77</td>\n",
       "      <td>40.24</td>\n",
       "    </tr>\n",
       "    <tr>\n",
       "      <th>2</th>\n",
       "      <td>3</td>\n",
       "      <td>Mario Kart Wii</td>\n",
       "      <td>Wii</td>\n",
       "      <td>2008.0</td>\n",
       "      <td>Racing</td>\n",
       "      <td>Nintendo</td>\n",
       "      <td>15.85</td>\n",
       "      <td>12.88</td>\n",
       "      <td>3.79</td>\n",
       "      <td>3.31</td>\n",
       "      <td>35.82</td>\n",
       "    </tr>\n",
       "    <tr>\n",
       "      <th>3</th>\n",
       "      <td>4</td>\n",
       "      <td>Wii Sports Resort</td>\n",
       "      <td>Wii</td>\n",
       "      <td>2009.0</td>\n",
       "      <td>Sports</td>\n",
       "      <td>Nintendo</td>\n",
       "      <td>15.75</td>\n",
       "      <td>11.01</td>\n",
       "      <td>3.28</td>\n",
       "      <td>2.96</td>\n",
       "      <td>33.00</td>\n",
       "    </tr>\n",
       "    <tr>\n",
       "      <th>4</th>\n",
       "      <td>5</td>\n",
       "      <td>Pokemon Red/Pokemon Blue</td>\n",
       "      <td>GB</td>\n",
       "      <td>1996.0</td>\n",
       "      <td>Role-Playing</td>\n",
       "      <td>Nintendo</td>\n",
       "      <td>11.27</td>\n",
       "      <td>8.89</td>\n",
       "      <td>10.22</td>\n",
       "      <td>1.00</td>\n",
       "      <td>31.37</td>\n",
       "    </tr>\n",
       "  </tbody>\n",
       "</table>\n",
       "</div>"
      ]
     },
     "execution_count": 10,
     "metadata": {},
     "output_type": "execute_result"
    }
   ],
   "execution_count": 10
  },
  {
   "cell_type": "code",
   "metadata": {
    "colab": {
     "base_uri": "https://localhost:8080/"
    },
    "id": "Vj6fdMx9sAib",
    "outputId": "14baad93-f0d2-412c-a941-046ee8a1dcf6",
    "ExecuteTime": {
     "end_time": "2025-10-01T12:49:44.612183Z",
     "start_time": "2025-10-01T12:49:44.606692Z"
    }
   },
   "source": [
    "df['Publisher'].unique()"
   ],
   "outputs": [
    {
     "data": {
      "text/plain": [
       "array(['Nintendo', 'Microsoft Game Studios', 'Take-Two Interactive',\n",
       "       'Sony Computer Entertainment', 'Activision', 'Ubisoft',\n",
       "       'Bethesda Softworks', 'Electronic Arts', 'Sega', 'SquareSoft',\n",
       "       'Atari', '505 Games', 'Capcom', 'GT Interactive',\n",
       "       'Konami Digital Entertainment',\n",
       "       'Sony Computer Entertainment Europe', 'Square Enix', 'LucasArts',\n",
       "       'Virgin Interactive', 'Warner Bros. Interactive Entertainment',\n",
       "       'Universal Interactive', 'Eidos Interactive', 'RedOctane',\n",
       "       'Vivendi Games', 'Enix Corporation', 'Namco Bandai Games',\n",
       "       'Palcom', 'Hasbro Interactive', 'THQ', 'Fox Interactive',\n",
       "       'Acclaim Entertainment', 'MTV Games', 'Disney Interactive Studios',\n",
       "       nan, 'Majesco Entertainment', 'Codemasters', 'Red Orb', 'Level 5',\n",
       "       'Arena Entertainment', 'Midway Games', 'JVC', 'Deep Silver',\n",
       "       '989 Studios', 'NCSoft', 'UEP Systems', 'Parker Bros.', 'Maxis',\n",
       "       'Imagic', 'Tecmo Koei', 'Valve Software', 'ASCII Entertainment',\n",
       "       'Mindscape', 'Infogrames', 'Unknown', 'Square', 'Valve',\n",
       "       'Activision Value', 'Banpresto', 'D3Publisher',\n",
       "       'Oxygen Interactive', 'Red Storm Entertainment', 'Video System',\n",
       "       'Hello Games', 'Global Star', 'Gotham Games', 'Westwood Studios',\n",
       "       'GungHo', 'Crave Entertainment', 'Hudson Soft', 'Coleco',\n",
       "       'Rising Star Games', 'Atlus', 'TDK Mediactive', 'ASC Games',\n",
       "       'Zoo Games', 'Accolade', 'Sony Online Entertainment', '3DO', 'RTL',\n",
       "       'Natsume', 'Focus Home Interactive', 'Alchemist',\n",
       "       'Black Label Games', 'SouthPeak Games', 'Mastertronic', 'Ocean',\n",
       "       'Zoo Digital Publishing', 'Psygnosis', 'City Interactive',\n",
       "       'Empire Interactive', 'Success', 'Compile', 'Russel', 'Taito',\n",
       "       'Agetec', 'GSP', 'Microprose', 'Play It', 'Slightly Mad Studios',\n",
       "       'Tomy Corporation', 'Sammy Corporation', 'Koch Media',\n",
       "       'Game Factory', 'Titus', 'Marvelous Entertainment', 'Genki',\n",
       "       'Mojang', 'Pinnacle', 'CTO SpA', 'TalonSoft', 'Crystal Dynamics',\n",
       "       'SCi', 'Quelle', 'mixi, Inc', 'Rage Software', 'Ubisoft Annecy',\n",
       "       'Scholastic Inc.', 'Interplay', 'Mystique', 'ChunSoft',\n",
       "       'Square EA', '20th Century Fox Video Games', 'Avanquest Software',\n",
       "       'Hudson Entertainment', 'Nordic Games', 'Men-A-Vision', 'Nobilis',\n",
       "       'Big Ben Interactive', 'Touchstone', 'Spike', 'Jester Interactive',\n",
       "       'Nippon Ichi Software', 'LEGO Media', 'Quest',\n",
       "       'Illusion Softworks', 'Tigervision', 'Funbox Media',\n",
       "       'Rocket Company', 'Metro 3D', 'Mattel Interactive', 'IE Institute',\n",
       "       'Rondomedia', 'Sony Computer Entertainment America',\n",
       "       'Universal Gamex', 'Ghostlight', 'Wizard Video Games',\n",
       "       'BMG Interactive Entertainment', 'PQube', 'Trion Worlds', 'Laguna',\n",
       "       'Ignition Entertainment', 'Takara', 'Kadokawa Shoten', 'Destineer',\n",
       "       'Enterbrain', 'Xseed Games', 'Imagineer',\n",
       "       'System 3 Arcade Software', 'CPG Products', 'Aruze Corp',\n",
       "       'Gamebridge', 'Midas Interactive Entertainment', 'Jaleco',\n",
       "       'Answer Software', 'XS Games', 'Activision Blizzard',\n",
       "       'Pack In Soft', 'Rebellion', 'Xplosiv', 'Ultravision',\n",
       "       'GameMill Entertainment', 'Wanadoo', 'NovaLogic', 'Telltale Games',\n",
       "       'Epoch', 'BAM! Entertainment', 'Knowledge Adventure', 'Mastiff',\n",
       "       'Tetris Online', 'Harmonix Music Systems', 'ESP', 'TYO',\n",
       "       'Telegames', 'Mud Duck Productions', 'Screenlife', 'Pioneer LDC',\n",
       "       'Magical Company', 'Mentor Interactive', 'Kemco',\n",
       "       'Human Entertainment', 'Avanquest', 'Data Age',\n",
       "       'Electronic Arts Victor', 'Black Bean Games', 'Jack of All Games',\n",
       "       '989 Sports', 'Takara Tomy', 'Media Rings', 'Elf', 'Kalypso Media',\n",
       "       'Starfish', 'Zushi Games', 'Jorudan', 'Destination Software, Inc',\n",
       "       'New', 'Brash Entertainment', 'ITT Family Games', 'PopCap Games',\n",
       "       'Home Entertainment Suppliers', 'Ackkstudios', 'Starpath Corp.',\n",
       "       'P2 Games', 'BPS', 'Gathering of Developers', 'NewKidCo',\n",
       "       'Storm City Games', 'CokeM Interactive', 'CBS Electronics',\n",
       "       'Magix', 'Marvelous Interactive', 'Nihon Falcom Corporation',\n",
       "       'Wargaming.net', 'Angel Studios', 'Arc System Works', 'Playmates',\n",
       "       'SNK Playmore', 'Hamster Corporation', 'From Software',\n",
       "       'Nippon Columbia', 'Nichibutsu', 'Little Orbit',\n",
       "       'Conspiracy Entertainment', 'DTP Entertainment', 'Hect',\n",
       "       'Mumbo Jumbo', 'Pacific Century Cyber Works', 'Indie Games',\n",
       "       'Liquid Games', 'NEC', 'Axela', 'ArtDink', 'Sunsoft', 'Gust',\n",
       "       'SNK', 'NEC Interchannel', 'FuRyu', 'Xing Entertainment',\n",
       "       'ValuSoft', 'Victor Interactive', 'Detn8 Games',\n",
       "       'American Softworks', 'Nordcurrent', 'Bomb', 'Falcom Corporation',\n",
       "       'AQ Interactive', 'CCP', 'Milestone S.r.l.', 'Sears',\n",
       "       'JoWood Productions', 'Seta Corporation', 'On Demand', 'NCS',\n",
       "       'Aspyr', 'Gremlin Interactive Ltd', 'Agatsuma Entertainment',\n",
       "       'Compile Heart', 'Culture Brain', 'Mad Catz', 'Shogakukan',\n",
       "       'Merscom LLC', 'Rebellion Developments', 'Nippon Telenet',\n",
       "       'TDK Core', 'bitComposer Games', 'Foreign Media Games', 'Astragon',\n",
       "       'SSI', 'Kadokawa Games', 'Idea Factory',\n",
       "       'Performance Designed Products', 'Asylum Entertainment',\n",
       "       'Core Design Ltd.', 'PlayV', 'UFO Interactive',\n",
       "       'Idea Factory International', 'Playlogic Game Factory',\n",
       "       'Essential Games', 'Adeline Software', 'Funcom',\n",
       "       'Panther Software', 'Blast! Entertainment Ltd', 'Game Life',\n",
       "       'DSI Games', 'Avalon Interactive', 'Popcorn Arcade',\n",
       "       'Neko Entertainment', 'Vir2L Studios', 'Aques', 'Syscom',\n",
       "       'White Park Bay Software', 'System 3', 'Vatical Entertainment',\n",
       "       'Daedalic', 'EA Games', 'Media Factory', 'Vic Tokai',\n",
       "       'The Adventure Company', 'Game Arts', 'Broccoli', 'Acquire',\n",
       "       'General Entertainment', 'Excalibur Publishing', 'Imadio',\n",
       "       'Swing! Entertainment', 'Sony Music Entertainment', 'Aqua Plus',\n",
       "       'Paradox Interactive', 'Hip Interactive',\n",
       "       'DreamCatcher Interactive', 'Tripwire Interactive', 'Sting',\n",
       "       'Yacht Club Games', 'SCS Software', 'Bigben Interactive',\n",
       "       'Havas Interactive', 'Slitherine Software', 'Graffiti', 'Funsta',\n",
       "       'Telstar', 'U.S. Gold', 'DreamWorks Interactive',\n",
       "       'Data Design Interactive', 'MTO', 'DHM Interactive', 'FunSoft',\n",
       "       'SPS', 'Bohemia Interactive', 'Reef Entertainment',\n",
       "       'Tru Blu Entertainment', 'Moss', 'T&E Soft', 'O-Games',\n",
       "       'Aksys Games', 'NDA Productions', 'Data East',\n",
       "       'Time Warner Interactive', 'Gainax Network Systems', 'Daito',\n",
       "       'O3 Entertainment', 'Gameloft', 'Xicat Interactive',\n",
       "       'Simon & Schuster Interactive', 'Valcon Games', 'PopTop Software',\n",
       "       'TOHO', 'HMH Interactive', '5pb', 'Cave',\n",
       "       'CDV Software Entertainment', 'Microids', 'PM Studios', 'Paon',\n",
       "       'Micro Cabin', 'GameTek', 'Benesse', 'Type-Moon',\n",
       "       'Enjoy Gaming ltd.', 'Asmik Corp', 'Interplay Productions',\n",
       "       'Asmik Ace Entertainment', 'inXile Entertainment', 'Image Epoch',\n",
       "       'Phantom EFX', 'Evolved Games', 'responDESIGN',\n",
       "       'Culture Publishers', 'Griffin International', 'Hackberry',\n",
       "       'Hearty Robin', 'Nippon Amuse', 'Origin Systems', 'Seventh Chord',\n",
       "       'Mitsui', 'Milestone', 'Abylight', 'Flight-Plan', 'Glams', 'Locus',\n",
       "       'Warp', 'Daedalic Entertainment', 'Alternative Software',\n",
       "       'Myelin Media', 'Mercury Games', 'Irem Software Engineering',\n",
       "       'Sunrise Interactive', 'Elite', 'Evolution Games', 'Tivola',\n",
       "       'Global A Entertainment', 'Edia', 'Athena', 'Aria', 'Gamecock',\n",
       "       'Tommo', 'Altron', 'Happinet', 'iWin', 'Media Works', 'Fortyfive',\n",
       "       'Revolution Software', 'Imax', 'Crimson Cow', '10TACLE Studios',\n",
       "       'Groove Games', 'Pack-In-Video', 'Insomniac Games',\n",
       "       'Ascaron Entertainment GmbH', 'Asgard', 'Ecole', 'Yumedia',\n",
       "       'Phenomedia', 'HAL Laboratory', 'Grand Prix Games', 'DigiCube',\n",
       "       'Creative Core', 'Kaga Create', 'WayForward Technologies',\n",
       "       'LSP Games', 'ASCII Media Works', 'Coconuts Japan', 'Arika',\n",
       "       'Ertain', 'Marvel Entertainment', 'Prototype',\n",
       "       'TopWare Interactive', 'Phantagram', '1C Company',\n",
       "       'The Learning Company', 'TechnoSoft', 'Vap', 'Misawa', 'Tradewest',\n",
       "       'Team17 Software', 'Yeti', 'Pow', 'Navarre Corp', 'MediaQuest',\n",
       "       'Max Five', 'Comfort', 'Monte Christo Multimedia', 'Pony Canyon',\n",
       "       'Riverhillsoft', 'Summitsoft', 'Milestone S.r.l', 'Playmore',\n",
       "       'MLB.com', 'Kool Kizz', 'Flashpoint Games', '49Games',\n",
       "       'Legacy Interactive', 'Alawar Entertainment', 'CyberFront',\n",
       "       'Cloud Imperium Games Corporation', 'Societa',\n",
       "       'Virtual Play Games', 'Interchannel', 'Sonnet', 'Experience Inc.',\n",
       "       'Zenrin', 'Iceberg Interactive', 'Ivolgamus', '2D Boy',\n",
       "       'MC2 Entertainment', 'Kando Games', 'Just Flight', 'Office Create',\n",
       "       'Mamba Games', 'Fields', 'Princess Soft', 'Maximum Family Games',\n",
       "       'Berkeley', 'Fuji', 'Dusenberry Martin Racing', 'imageepoch Inc.',\n",
       "       'Big Fish Games', 'Her Interactive', 'Kamui', 'ASK',\n",
       "       'Headup Games', 'KSS', 'Cygames', 'KID', 'Quinrose', 'Sunflowers',\n",
       "       'dramatic create', 'TGL', 'Encore', 'Extreme Entertainment Group',\n",
       "       'Intergrow', 'G.Rev', 'Sweets', 'Kokopeli Digital Studios',\n",
       "       'Number None', 'Nexon', 'id Software', 'BushiRoad', 'Tryfirst',\n",
       "       'Strategy First', '7G//AMES', 'GN Software', \"Yuke's\",\n",
       "       'Easy Interactive', 'Licensed 4U', 'FuRyu Corporation',\n",
       "       'Lexicon Entertainment', 'Paon Corporation', 'Kids Station', 'GOA',\n",
       "       'Graphsim Entertainment', 'King Records', 'Introversion Software',\n",
       "       'Minato Station', 'Devolver Digital', 'Blue Byte', 'Gaga',\n",
       "       'Yamasa Entertainment', 'Plenty', 'Views', 'fonfun', 'NetRevo',\n",
       "       'Codemasters Online', 'Quintet', 'Phoenix Games', 'Dorart',\n",
       "       'Marvelous Games', 'Focus Multimedia', 'Imageworks',\n",
       "       'Karin Entertainment', 'Aerosoft', 'Technos Japan Corporation',\n",
       "       'Gakken', 'Mirai Shounen', 'Datam Polystar', 'Saurus', 'HuneX',\n",
       "       'Revolution (Japan)', 'Giza10', 'Visco', 'Alvion', 'Mycom', 'Giga',\n",
       "       'Warashi', 'System Soft', 'Sold Out', 'Lighthouse Interactive',\n",
       "       'Masque Publishing', 'RED Entertainment', 'Michaelsoft',\n",
       "       'Media Entertainment', 'New World Computing', 'Genterprise',\n",
       "       'Interworks Unlimited, Inc.', 'Boost On', 'Stainless Games',\n",
       "       'EON Digital Entertainment', 'Epic Games', 'Naxat Soft',\n",
       "       'Ascaron Entertainment', 'Piacci', 'Nitroplus',\n",
       "       'Paradox Development', 'Otomate', 'Ongakukan', 'Commseed',\n",
       "       'Inti Creates', 'Takuyo', 'Interchannel-Holon', 'Rain Games',\n",
       "       'UIG Entertainment'], dtype=object)"
      ]
     },
     "execution_count": 11,
     "metadata": {},
     "output_type": "execute_result"
    }
   ],
   "execution_count": 11
  },
  {
   "cell_type": "code",
   "metadata": {
    "colab": {
     "base_uri": "https://localhost:8080/"
    },
    "id": "iv0qysiyauMV",
    "outputId": "e7399602-33eb-4df2-9707-fda6a543d44a",
    "ExecuteTime": {
     "end_time": "2025-10-01T12:49:44.770288Z",
     "start_time": "2025-10-01T12:49:44.767843Z"
    }
   },
   "source": [
    "print(df.columns)"
   ],
   "outputs": [
    {
     "name": "stdout",
     "output_type": "stream",
     "text": [
      "Index(['Rank', 'Name', 'Platform', 'Year', 'Genre', 'Publisher', 'NA_Sales',\n",
      "       'EU_Sales', 'JP_Sales', 'Other_Sales', 'Global_Sales'],\n",
      "      dtype='object')\n"
     ]
    }
   ],
   "execution_count": 12
  },
  {
   "cell_type": "code",
   "metadata": {
    "colab": {
     "base_uri": "https://localhost:8080/"
    },
    "id": "nqq43qsmavjy",
    "outputId": "547abfdd-9e71-4267-a31f-01e1711518f3",
    "ExecuteTime": {
     "end_time": "2025-10-01T12:49:44.898048Z",
     "start_time": "2025-10-01T12:49:44.884425Z"
    }
   },
   "source": [
    "print(df.info())"
   ],
   "outputs": [
    {
     "name": "stdout",
     "output_type": "stream",
     "text": [
      "<class 'pandas.core.frame.DataFrame'>\n",
      "RangeIndex: 16598 entries, 0 to 16597\n",
      "Data columns (total 11 columns):\n",
      " #   Column        Non-Null Count  Dtype  \n",
      "---  ------        --------------  -----  \n",
      " 0   Rank          16598 non-null  int64  \n",
      " 1   Name          16598 non-null  object \n",
      " 2   Platform      16598 non-null  object \n",
      " 3   Year          16327 non-null  float64\n",
      " 4   Genre         16598 non-null  object \n",
      " 5   Publisher     16540 non-null  object \n",
      " 6   NA_Sales      16598 non-null  float64\n",
      " 7   EU_Sales      16598 non-null  float64\n",
      " 8   JP_Sales      16598 non-null  float64\n",
      " 9   Other_Sales   16598 non-null  float64\n",
      " 10  Global_Sales  16598 non-null  float64\n",
      "dtypes: float64(6), int64(1), object(4)\n",
      "memory usage: 1.4+ MB\n",
      "None\n"
     ]
    }
   ],
   "execution_count": 13
  },
  {
   "cell_type": "code",
   "metadata": {
    "colab": {
     "base_uri": "https://localhost:8080/",
     "height": 300
    },
    "id": "Pp8a8TQ6bPXE",
    "outputId": "3f915b8b-14c5-4d3e-f362-7e471090e2e6",
    "ExecuteTime": {
     "end_time": "2025-10-01T12:49:44.939882Z",
     "start_time": "2025-10-01T12:49:44.923924Z"
    }
   },
   "source": [
    "df.describe()"
   ],
   "outputs": [
    {
     "data": {
      "text/plain": [
       "               Rank          Year      NA_Sales      EU_Sales      JP_Sales  \\\n",
       "count  16598.000000  16327.000000  16598.000000  16598.000000  16598.000000   \n",
       "mean    8300.605254   2006.406443      0.264667      0.146652      0.077782   \n",
       "std     4791.853933      5.828981      0.816683      0.505351      0.309291   \n",
       "min        1.000000   1980.000000      0.000000      0.000000      0.000000   \n",
       "25%     4151.250000   2003.000000      0.000000      0.000000      0.000000   \n",
       "50%     8300.500000   2007.000000      0.080000      0.020000      0.000000   \n",
       "75%    12449.750000   2010.000000      0.240000      0.110000      0.040000   \n",
       "max    16600.000000   2020.000000     41.490000     29.020000     10.220000   \n",
       "\n",
       "        Other_Sales  Global_Sales  \n",
       "count  16598.000000  16598.000000  \n",
       "mean       0.048063      0.537441  \n",
       "std        0.188588      1.555028  \n",
       "min        0.000000      0.010000  \n",
       "25%        0.000000      0.060000  \n",
       "50%        0.010000      0.170000  \n",
       "75%        0.040000      0.470000  \n",
       "max       10.570000     82.740000  "
      ],
      "text/html": [
       "<div>\n",
       "<style scoped>\n",
       "    .dataframe tbody tr th:only-of-type {\n",
       "        vertical-align: middle;\n",
       "    }\n",
       "\n",
       "    .dataframe tbody tr th {\n",
       "        vertical-align: top;\n",
       "    }\n",
       "\n",
       "    .dataframe thead th {\n",
       "        text-align: right;\n",
       "    }\n",
       "</style>\n",
       "<table border=\"1\" class=\"dataframe\">\n",
       "  <thead>\n",
       "    <tr style=\"text-align: right;\">\n",
       "      <th></th>\n",
       "      <th>Rank</th>\n",
       "      <th>Year</th>\n",
       "      <th>NA_Sales</th>\n",
       "      <th>EU_Sales</th>\n",
       "      <th>JP_Sales</th>\n",
       "      <th>Other_Sales</th>\n",
       "      <th>Global_Sales</th>\n",
       "    </tr>\n",
       "  </thead>\n",
       "  <tbody>\n",
       "    <tr>\n",
       "      <th>count</th>\n",
       "      <td>16598.000000</td>\n",
       "      <td>16327.000000</td>\n",
       "      <td>16598.000000</td>\n",
       "      <td>16598.000000</td>\n",
       "      <td>16598.000000</td>\n",
       "      <td>16598.000000</td>\n",
       "      <td>16598.000000</td>\n",
       "    </tr>\n",
       "    <tr>\n",
       "      <th>mean</th>\n",
       "      <td>8300.605254</td>\n",
       "      <td>2006.406443</td>\n",
       "      <td>0.264667</td>\n",
       "      <td>0.146652</td>\n",
       "      <td>0.077782</td>\n",
       "      <td>0.048063</td>\n",
       "      <td>0.537441</td>\n",
       "    </tr>\n",
       "    <tr>\n",
       "      <th>std</th>\n",
       "      <td>4791.853933</td>\n",
       "      <td>5.828981</td>\n",
       "      <td>0.816683</td>\n",
       "      <td>0.505351</td>\n",
       "      <td>0.309291</td>\n",
       "      <td>0.188588</td>\n",
       "      <td>1.555028</td>\n",
       "    </tr>\n",
       "    <tr>\n",
       "      <th>min</th>\n",
       "      <td>1.000000</td>\n",
       "      <td>1980.000000</td>\n",
       "      <td>0.000000</td>\n",
       "      <td>0.000000</td>\n",
       "      <td>0.000000</td>\n",
       "      <td>0.000000</td>\n",
       "      <td>0.010000</td>\n",
       "    </tr>\n",
       "    <tr>\n",
       "      <th>25%</th>\n",
       "      <td>4151.250000</td>\n",
       "      <td>2003.000000</td>\n",
       "      <td>0.000000</td>\n",
       "      <td>0.000000</td>\n",
       "      <td>0.000000</td>\n",
       "      <td>0.000000</td>\n",
       "      <td>0.060000</td>\n",
       "    </tr>\n",
       "    <tr>\n",
       "      <th>50%</th>\n",
       "      <td>8300.500000</td>\n",
       "      <td>2007.000000</td>\n",
       "      <td>0.080000</td>\n",
       "      <td>0.020000</td>\n",
       "      <td>0.000000</td>\n",
       "      <td>0.010000</td>\n",
       "      <td>0.170000</td>\n",
       "    </tr>\n",
       "    <tr>\n",
       "      <th>75%</th>\n",
       "      <td>12449.750000</td>\n",
       "      <td>2010.000000</td>\n",
       "      <td>0.240000</td>\n",
       "      <td>0.110000</td>\n",
       "      <td>0.040000</td>\n",
       "      <td>0.040000</td>\n",
       "      <td>0.470000</td>\n",
       "    </tr>\n",
       "    <tr>\n",
       "      <th>max</th>\n",
       "      <td>16600.000000</td>\n",
       "      <td>2020.000000</td>\n",
       "      <td>41.490000</td>\n",
       "      <td>29.020000</td>\n",
       "      <td>10.220000</td>\n",
       "      <td>10.570000</td>\n",
       "      <td>82.740000</td>\n",
       "    </tr>\n",
       "  </tbody>\n",
       "</table>\n",
       "</div>"
      ]
     },
     "execution_count": 14,
     "metadata": {},
     "output_type": "execute_result"
    }
   ],
   "execution_count": 14
  },
  {
   "cell_type": "markdown",
   "metadata": {
    "id": "q1TAWCl-eF8j"
   },
   "source": [
    "--------------------------------------------------------------------------------"
   ]
  },
  {
   "cell_type": "code",
   "metadata": {
    "ExecuteTime": {
     "end_time": "2025-10-01T12:49:44.993828Z",
     "start_time": "2025-10-01T12:49:44.987542Z"
    }
   },
   "source": [
    "df.isna().sum()"
   ],
   "outputs": [
    {
     "data": {
      "text/plain": [
       "Rank              0\n",
       "Name              0\n",
       "Platform          0\n",
       "Year            271\n",
       "Genre             0\n",
       "Publisher        58\n",
       "NA_Sales          0\n",
       "EU_Sales          0\n",
       "JP_Sales          0\n",
       "Other_Sales       0\n",
       "Global_Sales      0\n",
       "dtype: int64"
      ]
     },
     "execution_count": 15,
     "metadata": {},
     "output_type": "execute_result"
    }
   ],
   "execution_count": 15
  },
  {
   "cell_type": "code",
   "metadata": {
    "ExecuteTime": {
     "end_time": "2025-10-01T12:49:45.140129Z",
     "start_time": "2025-10-01T12:49:45.135316Z"
    }
   },
   "source": [
    "df['Year'].value_counts().head()"
   ],
   "outputs": [
    {
     "data": {
      "text/plain": [
       "Year\n",
       "2009.0    1431\n",
       "2008.0    1428\n",
       "2010.0    1259\n",
       "2007.0    1202\n",
       "2011.0    1139\n",
       "Name: count, dtype: int64"
      ]
     },
     "execution_count": 16,
     "metadata": {},
     "output_type": "execute_result"
    }
   ],
   "execution_count": 16
  },
  {
   "cell_type": "code",
   "metadata": {
    "ExecuteTime": {
     "end_time": "2025-10-01T12:49:45.296527Z",
     "start_time": "2025-10-01T12:49:45.292644Z"
    }
   },
   "source": [
    "df['Year'].mode()[0]"
   ],
   "outputs": [
    {
     "data": {
      "text/plain": [
       "np.float64(2009.0)"
      ]
     },
     "execution_count": 17,
     "metadata": {},
     "output_type": "execute_result"
    }
   ],
   "execution_count": 17
  },
  {
   "cell_type": "code",
   "metadata": {
    "ExecuteTime": {
     "end_time": "2025-10-01T12:49:45.427529Z",
     "start_time": "2025-10-01T12:49:45.423219Z"
    }
   },
   "source": [
    "df['Publisher'].value_counts().head()"
   ],
   "outputs": [
    {
     "data": {
      "text/plain": [
       "Publisher\n",
       "Electronic Arts                 1351\n",
       "Activision                       975\n",
       "Namco Bandai Games               932\n",
       "Ubisoft                          921\n",
       "Konami Digital Entertainment     832\n",
       "Name: count, dtype: int64"
      ]
     },
     "execution_count": 18,
     "metadata": {},
     "output_type": "execute_result"
    }
   ],
   "execution_count": 18
  },
  {
   "cell_type": "markdown",
   "metadata": {
    "id": "NYtkNAuOeX7d"
   },
   "source": [
    "# Tratamento"
   ]
  },
  {
   "cell_type": "code",
   "metadata": {
    "id": "zcV-Gn-WeZxy",
    "ExecuteTime": {
     "end_time": "2025-10-01T12:49:45.522878Z",
     "start_time": "2025-10-01T12:49:45.518492Z"
    }
   },
   "source": [
    "df['Year'] = df['Year'].fillna(df['Year'].mode()[0])"
   ],
   "outputs": [],
   "execution_count": 19
  },
  {
   "cell_type": "code",
   "metadata": {
    "colab": {
     "base_uri": "https://localhost:8080/"
    },
    "id": "UPtUwAcxesC-",
    "outputId": "fb4dff36-14ec-47e3-f8d6-21226ae14888",
    "ExecuteTime": {
     "end_time": "2025-10-01T12:49:45.613377Z",
     "start_time": "2025-10-01T12:49:45.609637Z"
    }
   },
   "source": [
    "df['Publisher'] = df['Publisher'].fillna(df['Publisher'].mode()[0])"
   ],
   "outputs": [],
   "execution_count": 20
  },
  {
   "cell_type": "markdown",
   "metadata": {
    "id": "ttUsM9c1eJ0h"
   },
   "source": [
    "# Insights"
   ]
  },
  {
   "cell_type": "markdown",
   "metadata": {
    "id": "uq4UCkjfeO31"
   },
   "source": [
    "## Evolução das Vendas Globais por Ano"
   ]
  },
  {
   "cell_type": "code",
   "metadata": {
    "colab": {
     "base_uri": "https://localhost:8080/",
     "height": 206
    },
    "id": "C4HUDjQ6bYY0",
    "outputId": "2ceecad5-29c2-4e34-90ef-ee937990f703",
    "ExecuteTime": {
     "end_time": "2025-10-01T12:49:45.729007Z",
     "start_time": "2025-10-01T12:49:45.720994Z"
    }
   },
   "source": [
    "df_ano = df.groupby('Year')['Global_Sales'].sum().reset_index()\n",
    "df_ano.head()"
   ],
   "outputs": [
    {
     "data": {
      "text/plain": [
       "     Year  Global_Sales\n",
       "0  1980.0         11.38\n",
       "1  1981.0         35.77\n",
       "2  1982.0         28.86\n",
       "3  1983.0         16.79\n",
       "4  1984.0         50.36"
      ],
      "text/html": [
       "<div>\n",
       "<style scoped>\n",
       "    .dataframe tbody tr th:only-of-type {\n",
       "        vertical-align: middle;\n",
       "    }\n",
       "\n",
       "    .dataframe tbody tr th {\n",
       "        vertical-align: top;\n",
       "    }\n",
       "\n",
       "    .dataframe thead th {\n",
       "        text-align: right;\n",
       "    }\n",
       "</style>\n",
       "<table border=\"1\" class=\"dataframe\">\n",
       "  <thead>\n",
       "    <tr style=\"text-align: right;\">\n",
       "      <th></th>\n",
       "      <th>Year</th>\n",
       "      <th>Global_Sales</th>\n",
       "    </tr>\n",
       "  </thead>\n",
       "  <tbody>\n",
       "    <tr>\n",
       "      <th>0</th>\n",
       "      <td>1980.0</td>\n",
       "      <td>11.38</td>\n",
       "    </tr>\n",
       "    <tr>\n",
       "      <th>1</th>\n",
       "      <td>1981.0</td>\n",
       "      <td>35.77</td>\n",
       "    </tr>\n",
       "    <tr>\n",
       "      <th>2</th>\n",
       "      <td>1982.0</td>\n",
       "      <td>28.86</td>\n",
       "    </tr>\n",
       "    <tr>\n",
       "      <th>3</th>\n",
       "      <td>1983.0</td>\n",
       "      <td>16.79</td>\n",
       "    </tr>\n",
       "    <tr>\n",
       "      <th>4</th>\n",
       "      <td>1984.0</td>\n",
       "      <td>50.36</td>\n",
       "    </tr>\n",
       "  </tbody>\n",
       "</table>\n",
       "</div>"
      ]
     },
     "execution_count": 21,
     "metadata": {},
     "output_type": "execute_result"
    }
   ],
   "execution_count": 21
  },
  {
   "cell_type": "code",
   "metadata": {
    "colab": {
     "base_uri": "https://localhost:8080/",
     "height": 472
    },
    "id": "a-2hBoIxch-5",
    "outputId": "eec51037-19fa-43a7-baf2-aa63ff39f3ee",
    "ExecuteTime": {
     "end_time": "2025-10-01T12:49:45.996409Z",
     "start_time": "2025-10-01T12:49:45.876806Z"
    }
   },
   "source": [
    "plt.plot(df_ano['Year'], df_ano['Global_Sales'])\n",
    "plt.xlabel('Ano')\n",
    "plt.ylabel('Vendas Globais')\n",
    "plt.title('Evolução das Vendas Globais por Ano')\n",
    "plt.show()"
   ],
   "outputs": [
    {
     "data": {
      "text/plain": [
       "<Figure size 640x480 with 1 Axes>"
      ],
      "image/png": "[encoded data removed]"
     },
     "metadata": {},
     "output_type": "display_data"
    }
   ],
   "execution_count": 22
  },
  {
   "cell_type": "code",
   "metadata": {
    "ExecuteTime": {
     "end_time": "2025-10-01T12:49:46.096197Z",
     "start_time": "2025-10-01T12:49:46.026863Z"
    }
   },
   "source": [
    "fig_VendasAno = px.line(df_ano, x='Year', y='Global_Sales', title='Vendas Globais por Ano')\n",
    "pio.write_json(fig_VendasAno, \"Figuras/fig_VendasAno.json\")"
   ],
   "outputs": [],
   "execution_count": 23
  },
  {
   "cell_type": "code",
   "metadata": {
    "colab": {
     "base_uri": "https://localhost:8080/",
     "height": 530
    },
    "id": "GMuIusyi9oNj",
    "outputId": "0db28347-2a0a-4071-e219-f78f250c2ddf",
    "ExecuteTime": {
     "end_time": "2025-10-01T12:49:46.283985Z",
     "start_time": "2025-10-01T12:49:46.113375Z"
    }
   },
   "source": [
    "sns.pairplot(df_ano, diag_kind='kde', x_vars=['Year'])"
   ],
   "outputs": [
    {
     "data": {
      "text/plain": [
       "<seaborn.axisgrid.PairGrid at 0x130a5111be0>"
      ]
     },
     "execution_count": 24,
     "metadata": {},
     "output_type": "execute_result"
    },
    {
     "data": {
      "text/plain": [
       "<Figure size 250x500 with 3 Axes>"
      ],
      "image/png": "[encoded data removed]"
     },
     "metadata": {},
     "output_type": "display_data"
    }
   ],
   "execution_count": 24
  },
  {
   "cell_type": "markdown",
   "metadata": {
    "id": "O0a2XsqObFZP"
   },
   "source": [
    "# Gêneros mais Comprados por Continente"
   ]
  },
  {
   "cell_type": "markdown",
   "metadata": {
    "id": "9DXzffFLs8fV"
   },
   "source": [
    "- Gêneros mais comprados na Europa"
   ]
  },
  {
   "cell_type": "code",
   "metadata": {
    "colab": {
     "base_uri": "https://localhost:8080/",
     "height": 206
    },
    "id": "SH8gZX3JcOip",
    "outputId": "8789de58-bec6-48c1-f2d0-550266d9eb00",
    "ExecuteTime": {
     "end_time": "2025-10-01T12:49:46.302913Z",
     "start_time": "2025-10-01T12:49:46.297414Z"
    }
   },
   "source": [
    "df_genEU = df[['Genre', 'EU_Sales']]\n",
    "df_genEU.head()"
   ],
   "outputs": [
    {
     "data": {
      "text/plain": [
       "          Genre  EU_Sales\n",
       "0        Sports     29.02\n",
       "1      Platform      3.58\n",
       "2        Racing     12.88\n",
       "3        Sports     11.01\n",
       "4  Role-Playing      8.89"
      ],
      "text/html": [
       "<div>\n",
       "<style scoped>\n",
       "    .dataframe tbody tr th:only-of-type {\n",
       "        vertical-align: middle;\n",
       "    }\n",
       "\n",
       "    .dataframe tbody tr th {\n",
       "        vertical-align: top;\n",
       "    }\n",
       "\n",
       "    .dataframe thead th {\n",
       "        text-align: right;\n",
       "    }\n",
       "</style>\n",
       "<table border=\"1\" class=\"dataframe\">\n",
       "  <thead>\n",
       "    <tr style=\"text-align: right;\">\n",
       "      <th></th>\n",
       "      <th>Genre</th>\n",
       "      <th>EU_Sales</th>\n",
       "    </tr>\n",
       "  </thead>\n",
       "  <tbody>\n",
       "    <tr>\n",
       "      <th>0</th>\n",
       "      <td>Sports</td>\n",
       "      <td>29.02</td>\n",
       "    </tr>\n",
       "    <tr>\n",
       "      <th>1</th>\n",
       "      <td>Platform</td>\n",
       "      <td>3.58</td>\n",
       "    </tr>\n",
       "    <tr>\n",
       "      <th>2</th>\n",
       "      <td>Racing</td>\n",
       "      <td>12.88</td>\n",
       "    </tr>\n",
       "    <tr>\n",
       "      <th>3</th>\n",
       "      <td>Sports</td>\n",
       "      <td>11.01</td>\n",
       "    </tr>\n",
       "    <tr>\n",
       "      <th>4</th>\n",
       "      <td>Role-Playing</td>\n",
       "      <td>8.89</td>\n",
       "    </tr>\n",
       "  </tbody>\n",
       "</table>\n",
       "</div>"
      ]
     },
     "execution_count": 25,
     "metadata": {},
     "output_type": "execute_result"
    }
   ],
   "execution_count": 25
  },
  {
   "cell_type": "code",
   "metadata": {
    "colab": {
     "base_uri": "https://localhost:8080/",
     "height": 206
    },
    "id": "vZusw-RoiUKV",
    "outputId": "a973cb58-571a-4d53-d84f-157058ba8e54",
    "ExecuteTime": {
     "end_time": "2025-10-01T12:49:46.351223Z",
     "start_time": "2025-10-01T12:49:46.343107Z"
    }
   },
   "source": [
    "df_genEU = df_genEU.groupby('Genre')['EU_Sales'].sum().reset_index()\n",
    "df_genEU = df_genEU.sort_values(by='EU_Sales', ascending=False).head()\n",
    "df_genEU.head()"
   ],
   "outputs": [
    {
     "data": {
      "text/plain": [
       "      Genre  EU_Sales\n",
       "0    Action    525.00\n",
       "10   Sports    376.85\n",
       "8   Shooter    313.27\n",
       "6    Racing    238.39\n",
       "3      Misc    215.98"
      ],
      "text/html": [
       "<div>\n",
       "<style scoped>\n",
       "    .dataframe tbody tr th:only-of-type {\n",
       "        vertical-align: middle;\n",
       "    }\n",
       "\n",
       "    .dataframe tbody tr th {\n",
       "        vertical-align: top;\n",
       "    }\n",
       "\n",
       "    .dataframe thead th {\n",
       "        text-align: right;\n",
       "    }\n",
       "</style>\n",
       "<table border=\"1\" class=\"dataframe\">\n",
       "  <thead>\n",
       "    <tr style=\"text-align: right;\">\n",
       "      <th></th>\n",
       "      <th>Genre</th>\n",
       "      <th>EU_Sales</th>\n",
       "    </tr>\n",
       "  </thead>\n",
       "  <tbody>\n",
       "    <tr>\n",
       "      <th>0</th>\n",
       "      <td>Action</td>\n",
       "      <td>525.00</td>\n",
       "    </tr>\n",
       "    <tr>\n",
       "      <th>10</th>\n",
       "      <td>Sports</td>\n",
       "      <td>376.85</td>\n",
       "    </tr>\n",
       "    <tr>\n",
       "      <th>8</th>\n",
       "      <td>Shooter</td>\n",
       "      <td>313.27</td>\n",
       "    </tr>\n",
       "    <tr>\n",
       "      <th>6</th>\n",
       "      <td>Racing</td>\n",
       "      <td>238.39</td>\n",
       "    </tr>\n",
       "    <tr>\n",
       "      <th>3</th>\n",
       "      <td>Misc</td>\n",
       "      <td>215.98</td>\n",
       "    </tr>\n",
       "  </tbody>\n",
       "</table>\n",
       "</div>"
      ]
     },
     "execution_count": 26,
     "metadata": {},
     "output_type": "execute_result"
    }
   ],
   "execution_count": 26
  },
  {
   "cell_type": "markdown",
   "metadata": {
    "id": "Wq0jqZ_Ov78f"
   },
   "source": [
    "- Gêneros mais Comprados na América do Norte"
   ]
  },
  {
   "cell_type": "code",
   "metadata": {
    "colab": {
     "base_uri": "https://localhost:8080/",
     "height": 206
    },
    "id": "92w6Eb0NtX_T",
    "outputId": "cec82850-9de4-40eb-aa2e-935165506e9b",
    "ExecuteTime": {
     "end_time": "2025-10-01T12:49:46.465818Z",
     "start_time": "2025-10-01T12:49:46.460280Z"
    }
   },
   "source": [
    "df_genNA = df[['Genre', 'NA_Sales']]\n",
    "df_genNA.head()"
   ],
   "outputs": [
    {
     "data": {
      "text/plain": [
       "          Genre  NA_Sales\n",
       "0        Sports     41.49\n",
       "1      Platform     29.08\n",
       "2        Racing     15.85\n",
       "3        Sports     15.75\n",
       "4  Role-Playing     11.27"
      ],
      "text/html": [
       "<div>\n",
       "<style scoped>\n",
       "    .dataframe tbody tr th:only-of-type {\n",
       "        vertical-align: middle;\n",
       "    }\n",
       "\n",
       "    .dataframe tbody tr th {\n",
       "        vertical-align: top;\n",
       "    }\n",
       "\n",
       "    .dataframe thead th {\n",
       "        text-align: right;\n",
       "    }\n",
       "</style>\n",
       "<table border=\"1\" class=\"dataframe\">\n",
       "  <thead>\n",
       "    <tr style=\"text-align: right;\">\n",
       "      <th></th>\n",
       "      <th>Genre</th>\n",
       "      <th>NA_Sales</th>\n",
       "    </tr>\n",
       "  </thead>\n",
       "  <tbody>\n",
       "    <tr>\n",
       "      <th>0</th>\n",
       "      <td>Sports</td>\n",
       "      <td>41.49</td>\n",
       "    </tr>\n",
       "    <tr>\n",
       "      <th>1</th>\n",
       "      <td>Platform</td>\n",
       "      <td>29.08</td>\n",
       "    </tr>\n",
       "    <tr>\n",
       "      <th>2</th>\n",
       "      <td>Racing</td>\n",
       "      <td>15.85</td>\n",
       "    </tr>\n",
       "    <tr>\n",
       "      <th>3</th>\n",
       "      <td>Sports</td>\n",
       "      <td>15.75</td>\n",
       "    </tr>\n",
       "    <tr>\n",
       "      <th>4</th>\n",
       "      <td>Role-Playing</td>\n",
       "      <td>11.27</td>\n",
       "    </tr>\n",
       "  </tbody>\n",
       "</table>\n",
       "</div>"
      ]
     },
     "execution_count": 27,
     "metadata": {},
     "output_type": "execute_result"
    }
   ],
   "execution_count": 27
  },
  {
   "cell_type": "code",
   "metadata": {
    "colab": {
     "base_uri": "https://localhost:8080/",
     "height": 206
    },
    "id": "-dnZj63WwFls",
    "outputId": "907e41e9-311a-4726-887f-3f5cdaea9491",
    "ExecuteTime": {
     "end_time": "2025-10-01T12:49:46.611716Z",
     "start_time": "2025-10-01T12:49:46.605411Z"
    }
   },
   "source": [
    "df_genNA = df_genNA.groupby('Genre')['NA_Sales'].sum().reset_index()\n",
    "df_genNA = df_genNA.sort_values(by='NA_Sales', ascending=False).head()\n",
    "df_genNA.head()"
   ],
   "outputs": [
    {
     "data": {
      "text/plain": [
       "       Genre  NA_Sales\n",
       "0     Action    877.83\n",
       "10    Sports    683.35\n",
       "8    Shooter    582.60\n",
       "4   Platform    447.05\n",
       "3       Misc    410.24"
      ],
      "text/html": [
       "<div>\n",
       "<style scoped>\n",
       "    .dataframe tbody tr th:only-of-type {\n",
       "        vertical-align: middle;\n",
       "    }\n",
       "\n",
       "    .dataframe tbody tr th {\n",
       "        vertical-align: top;\n",
       "    }\n",
       "\n",
       "    .dataframe thead th {\n",
       "        text-align: right;\n",
       "    }\n",
       "</style>\n",
       "<table border=\"1\" class=\"dataframe\">\n",
       "  <thead>\n",
       "    <tr style=\"text-align: right;\">\n",
       "      <th></th>\n",
       "      <th>Genre</th>\n",
       "      <th>NA_Sales</th>\n",
       "    </tr>\n",
       "  </thead>\n",
       "  <tbody>\n",
       "    <tr>\n",
       "      <th>0</th>\n",
       "      <td>Action</td>\n",
       "      <td>877.83</td>\n",
       "    </tr>\n",
       "    <tr>\n",
       "      <th>10</th>\n",
       "      <td>Sports</td>\n",
       "      <td>683.35</td>\n",
       "    </tr>\n",
       "    <tr>\n",
       "      <th>8</th>\n",
       "      <td>Shooter</td>\n",
       "      <td>582.60</td>\n",
       "    </tr>\n",
       "    <tr>\n",
       "      <th>4</th>\n",
       "      <td>Platform</td>\n",
       "      <td>447.05</td>\n",
       "    </tr>\n",
       "    <tr>\n",
       "      <th>3</th>\n",
       "      <td>Misc</td>\n",
       "      <td>410.24</td>\n",
       "    </tr>\n",
       "  </tbody>\n",
       "</table>\n",
       "</div>"
      ]
     },
     "execution_count": 28,
     "metadata": {},
     "output_type": "execute_result"
    }
   ],
   "execution_count": 28
  },
  {
   "cell_type": "markdown",
   "metadata": {
    "id": "1U-iIaxDxM8S"
   },
   "source": [
    "- Gêneros mais Comprados no Japão"
   ]
  },
  {
   "cell_type": "code",
   "metadata": {
    "colab": {
     "base_uri": "https://localhost:8080/",
     "height": 206
    },
    "id": "w7QVM6gPwqrT",
    "outputId": "fe84f99e-c9b7-4e2e-e615-b4e8876d7be4",
    "ExecuteTime": {
     "end_time": "2025-10-01T12:49:46.765377Z",
     "start_time": "2025-10-01T12:49:46.759894Z"
    }
   },
   "source": [
    "df_genJP = df[['Genre', 'JP_Sales']]\n",
    "df_genJP.head()"
   ],
   "outputs": [
    {
     "data": {
      "text/plain": [
       "          Genre  JP_Sales\n",
       "0        Sports      3.77\n",
       "1      Platform      6.81\n",
       "2        Racing      3.79\n",
       "3        Sports      3.28\n",
       "4  Role-Playing     10.22"
      ],
      "text/html": [
       "<div>\n",
       "<style scoped>\n",
       "    .dataframe tbody tr th:only-of-type {\n",
       "        vertical-align: middle;\n",
       "    }\n",
       "\n",
       "    .dataframe tbody tr th {\n",
       "        vertical-align: top;\n",
       "    }\n",
       "\n",
       "    .dataframe thead th {\n",
       "        text-align: right;\n",
       "    }\n",
       "</style>\n",
       "<table border=\"1\" class=\"dataframe\">\n",
       "  <thead>\n",
       "    <tr style=\"text-align: right;\">\n",
       "      <th></th>\n",
       "      <th>Genre</th>\n",
       "      <th>JP_Sales</th>\n",
       "    </tr>\n",
       "  </thead>\n",
       "  <tbody>\n",
       "    <tr>\n",
       "      <th>0</th>\n",
       "      <td>Sports</td>\n",
       "      <td>3.77</td>\n",
       "    </tr>\n",
       "    <tr>\n",
       "      <th>1</th>\n",
       "      <td>Platform</td>\n",
       "      <td>6.81</td>\n",
       "    </tr>\n",
       "    <tr>\n",
       "      <th>2</th>\n",
       "      <td>Racing</td>\n",
       "      <td>3.79</td>\n",
       "    </tr>\n",
       "    <tr>\n",
       "      <th>3</th>\n",
       "      <td>Sports</td>\n",
       "      <td>3.28</td>\n",
       "    </tr>\n",
       "    <tr>\n",
       "      <th>4</th>\n",
       "      <td>Role-Playing</td>\n",
       "      <td>10.22</td>\n",
       "    </tr>\n",
       "  </tbody>\n",
       "</table>\n",
       "</div>"
      ]
     },
     "execution_count": 29,
     "metadata": {},
     "output_type": "execute_result"
    }
   ],
   "execution_count": 29
  },
  {
   "cell_type": "code",
   "metadata": {
    "colab": {
     "base_uri": "https://localhost:8080/",
     "height": 206
    },
    "id": "_kKReKcixTHp",
    "outputId": "b8903442-5e0d-4f1e-e9d1-557335aae0fe",
    "ExecuteTime": {
     "end_time": "2025-10-01T12:49:46.947647Z",
     "start_time": "2025-10-01T12:49:46.940906Z"
    }
   },
   "source": [
    "df_genJP = df_genJP.groupby('Genre')['JP_Sales'].sum().reset_index()\n",
    "df_genJP = df_genJP.sort_values(by='JP_Sales', ascending=False).head()\n",
    "df_genJP.head()"
   ],
   "outputs": [
    {
     "data": {
      "text/plain": [
       "           Genre  JP_Sales\n",
       "7   Role-Playing    352.31\n",
       "0         Action    159.95\n",
       "10        Sports    135.37\n",
       "4       Platform    130.77\n",
       "3           Misc    107.76"
      ],
      "text/html": [
       "<div>\n",
       "<style scoped>\n",
       "    .dataframe tbody tr th:only-of-type {\n",
       "        vertical-align: middle;\n",
       "    }\n",
       "\n",
       "    .dataframe tbody tr th {\n",
       "        vertical-align: top;\n",
       "    }\n",
       "\n",
       "    .dataframe thead th {\n",
       "        text-align: right;\n",
       "    }\n",
       "</style>\n",
       "<table border=\"1\" class=\"dataframe\">\n",
       "  <thead>\n",
       "    <tr style=\"text-align: right;\">\n",
       "      <th></th>\n",
       "      <th>Genre</th>\n",
       "      <th>JP_Sales</th>\n",
       "    </tr>\n",
       "  </thead>\n",
       "  <tbody>\n",
       "    <tr>\n",
       "      <th>7</th>\n",
       "      <td>Role-Playing</td>\n",
       "      <td>352.31</td>\n",
       "    </tr>\n",
       "    <tr>\n",
       "      <th>0</th>\n",
       "      <td>Action</td>\n",
       "      <td>159.95</td>\n",
       "    </tr>\n",
       "    <tr>\n",
       "      <th>10</th>\n",
       "      <td>Sports</td>\n",
       "      <td>135.37</td>\n",
       "    </tr>\n",
       "    <tr>\n",
       "      <th>4</th>\n",
       "      <td>Platform</td>\n",
       "      <td>130.77</td>\n",
       "    </tr>\n",
       "    <tr>\n",
       "      <th>3</th>\n",
       "      <td>Misc</td>\n",
       "      <td>107.76</td>\n",
       "    </tr>\n",
       "  </tbody>\n",
       "</table>\n",
       "</div>"
      ]
     },
     "execution_count": 30,
     "metadata": {},
     "output_type": "execute_result"
    }
   ],
   "execution_count": 30
  },
  {
   "cell_type": "markdown",
   "metadata": {
    "id": "al8VNtbHxsJ5"
   },
   "source": [
    "- Gêneros mais Comprados no resto do Mundo"
   ]
  },
  {
   "cell_type": "code",
   "metadata": {
    "colab": {
     "base_uri": "https://localhost:8080/",
     "height": 206
    },
    "id": "8tyug6h2xj4o",
    "outputId": "4c6d2993-2d9a-4bdc-c786-f57b7cb38c12",
    "ExecuteTime": {
     "end_time": "2025-10-01T12:49:47.114963Z",
     "start_time": "2025-10-01T12:49:47.109262Z"
    }
   },
   "source": [
    "df_genOther = df[['Genre', 'Other_Sales']]\n",
    "df_genOther.head()"
   ],
   "outputs": [
    {
     "data": {
      "text/plain": [
       "          Genre  Other_Sales\n",
       "0        Sports         8.46\n",
       "1      Platform         0.77\n",
       "2        Racing         3.31\n",
       "3        Sports         2.96\n",
       "4  Role-Playing         1.00"
      ],
      "text/html": [
       "<div>\n",
       "<style scoped>\n",
       "    .dataframe tbody tr th:only-of-type {\n",
       "        vertical-align: middle;\n",
       "    }\n",
       "\n",
       "    .dataframe tbody tr th {\n",
       "        vertical-align: top;\n",
       "    }\n",
       "\n",
       "    .dataframe thead th {\n",
       "        text-align: right;\n",
       "    }\n",
       "</style>\n",
       "<table border=\"1\" class=\"dataframe\">\n",
       "  <thead>\n",
       "    <tr style=\"text-align: right;\">\n",
       "      <th></th>\n",
       "      <th>Genre</th>\n",
       "      <th>Other_Sales</th>\n",
       "    </tr>\n",
       "  </thead>\n",
       "  <tbody>\n",
       "    <tr>\n",
       "      <th>0</th>\n",
       "      <td>Sports</td>\n",
       "      <td>8.46</td>\n",
       "    </tr>\n",
       "    <tr>\n",
       "      <th>1</th>\n",
       "      <td>Platform</td>\n",
       "      <td>0.77</td>\n",
       "    </tr>\n",
       "    <tr>\n",
       "      <th>2</th>\n",
       "      <td>Racing</td>\n",
       "      <td>3.31</td>\n",
       "    </tr>\n",
       "    <tr>\n",
       "      <th>3</th>\n",
       "      <td>Sports</td>\n",
       "      <td>2.96</td>\n",
       "    </tr>\n",
       "    <tr>\n",
       "      <th>4</th>\n",
       "      <td>Role-Playing</td>\n",
       "      <td>1.00</td>\n",
       "    </tr>\n",
       "  </tbody>\n",
       "</table>\n",
       "</div>"
      ]
     },
     "execution_count": 31,
     "metadata": {},
     "output_type": "execute_result"
    }
   ],
   "execution_count": 31
  },
  {
   "cell_type": "code",
   "metadata": {
    "colab": {
     "base_uri": "https://localhost:8080/",
     "height": 206
    },
    "id": "f1WonMzsxy04",
    "outputId": "22b4cc27-ae7b-4f59-aeb1-cc26473cfb9a",
    "ExecuteTime": {
     "end_time": "2025-10-01T12:49:47.359483Z",
     "start_time": "2025-10-01T12:49:47.353117Z"
    }
   },
   "source": [
    "df_genOther = df_genOther.groupby('Genre')['Other_Sales'].sum().reset_index()\n",
    "df_genOther = df_genOther.sort_values(by='Other_Sales', ascending=False).head()\n",
    "df_genOther\n",
    "\n"
   ],
   "outputs": [
    {
     "data": {
      "text/plain": [
       "      Genre  Other_Sales\n",
       "0    Action       187.38\n",
       "10   Sports       134.97\n",
       "8   Shooter       102.69\n",
       "6    Racing        77.27\n",
       "3      Misc        75.32"
      ],
      "text/html": [
       "<div>\n",
       "<style scoped>\n",
       "    .dataframe tbody tr th:only-of-type {\n",
       "        vertical-align: middle;\n",
       "    }\n",
       "\n",
       "    .dataframe tbody tr th {\n",
       "        vertical-align: top;\n",
       "    }\n",
       "\n",
       "    .dataframe thead th {\n",
       "        text-align: right;\n",
       "    }\n",
       "</style>\n",
       "<table border=\"1\" class=\"dataframe\">\n",
       "  <thead>\n",
       "    <tr style=\"text-align: right;\">\n",
       "      <th></th>\n",
       "      <th>Genre</th>\n",
       "      <th>Other_Sales</th>\n",
       "    </tr>\n",
       "  </thead>\n",
       "  <tbody>\n",
       "    <tr>\n",
       "      <th>0</th>\n",
       "      <td>Action</td>\n",
       "      <td>187.38</td>\n",
       "    </tr>\n",
       "    <tr>\n",
       "      <th>10</th>\n",
       "      <td>Sports</td>\n",
       "      <td>134.97</td>\n",
       "    </tr>\n",
       "    <tr>\n",
       "      <th>8</th>\n",
       "      <td>Shooter</td>\n",
       "      <td>102.69</td>\n",
       "    </tr>\n",
       "    <tr>\n",
       "      <th>6</th>\n",
       "      <td>Racing</td>\n",
       "      <td>77.27</td>\n",
       "    </tr>\n",
       "    <tr>\n",
       "      <th>3</th>\n",
       "      <td>Misc</td>\n",
       "      <td>75.32</td>\n",
       "    </tr>\n",
       "  </tbody>\n",
       "</table>\n",
       "</div>"
      ]
     },
     "execution_count": 32,
     "metadata": {},
     "output_type": "execute_result"
    }
   ],
   "execution_count": 32
  },
  {
   "cell_type": "markdown",
   "metadata": {
    "id": "9sg8PuO-4N-R"
   },
   "source": [
    "- Plot"
   ]
  },
  {
   "cell_type": "code",
   "metadata": {
    "colab": {
     "base_uri": "https://localhost:8080/",
     "height": 492
    },
    "id": "ldyHmp-eyQ5f",
    "outputId": "e7cec388-2664-4ef0-cea7-2fdd498df6f5",
    "ExecuteTime": {
     "end_time": "2025-10-01T12:49:47.787378Z",
     "start_time": "2025-10-01T12:49:47.496709Z"
    }
   },
   "source": [
    "color = (0.2,\n",
    "         0.4,\n",
    "         0.2,\n",
    "         0.6\n",
    "         )\n",
    "\n",
    "# Cria uma figura e uma matriz de 2x2 subplots (2 linhas, 2 colunas)\n",
    "fig, axs = plt.subplots(2, 2)\n",
    "fig.suptitle('Gêneros mais comprados por Continente')\n",
    "\n",
    "# Acessa e plota no primeiro subplot (0,0)\n",
    "axs[0, 0].bar(df_genEU['Genre'], df_genEU['EU_Sales'], color = color)\n",
    "axs[0, 0].set_title('Europa')\n",
    "axs[0, 0].tick_params(axis='x', labelrotation=45)\n",
    "\n",
    "# Acessa e plota no segundo subplot (0,1)\n",
    "axs[0, 1].bar(df_genNA['Genre'], df_genNA['NA_Sales'], color = color)\n",
    "axs[0, 1].set_title('América do Norte')\n",
    "axs[0, 1].tick_params(axis='x', labelrotation=45)\n",
    "\n",
    "# Acessa e plota no segundo subplot (0,1)\n",
    "axs[1, 0].bar(df_genJP['Genre'], df_genJP['JP_Sales'], color = color)\n",
    "axs[1, 0].set_title('Japão')\n",
    "axs[1, 0].tick_params(axis='x', labelrotation=45)\n",
    "\n",
    "axs[1, 1].bar(df_genOther['Genre'], df_genOther['Other_Sales'], color = color)\n",
    "axs[1, 1].set_title('Outros')\n",
    "axs[1, 1].tick_params(axis='x', labelrotation=45)\n",
    "\n",
    "\n",
    "\n",
    "fig_GenEU = px.bar(df_genEU, x='Genre', y='EU_Sales', title='Europa')\n",
    "pio.write_json(fig_GenEU, \"Figuras/fig_GenEU.json\")\n",
    "\n",
    "fig_GenNA = px.bar(df_genNA, x='Genre', y='NA_Sales', title='América do Norte')\n",
    "pio.write_json(fig_GenNA, \"Figuras/fig_GenNA.json\")\n",
    "\n",
    "fig_GenJP = px.bar(df_genJP, x='Genre', y='JP_Sales', title='Japão')\n",
    "pio.write_json(fig_GenJP, \"Figuras/fig_GenJP.json\")\n",
    "\n",
    "fig_GenOthers = px.bar(df_genOther, x='Genre', y='Other_Sales', title='Outros')\n",
    "pio.write_json(fig_GenOthers, \"Figuras/fig_GenOthers.json\")\n",
    "\n",
    "\n",
    "\n",
    "plt.tight_layout()\n",
    "plt.show()"
   ],
   "outputs": [
    {
     "data": {
      "text/plain": [
       "<Figure size 640x480 with 4 Axes>"
      ],
      "image/png": "[encoded data removed]"
     },
     "metadata": {},
     "output_type": "display_data"
    }
   ],
   "execution_count": 33
  },
  {
   "cell_type": "markdown",
   "metadata": {
    "id": "pDCbP2lHB-Yn"
   },
   "source": [
    "# Impacto do tempo nas plataformas"
   ]
  },
  {
   "cell_type": "markdown",
   "metadata": {
    "id": "6QkGQyJ7aF6_"
   },
   "source": [
    "- Plataformas mais Vendidas Mundialmente Antes dos Anos 2000"
   ]
  },
  {
   "cell_type": "code",
   "metadata": {
    "colab": {
     "base_uri": "https://localhost:8080/",
     "height": 206
    },
    "id": "4bjix0vTCYRt",
    "outputId": "b245f4e0-cbc6-4343-b473-3a7321d4170a",
    "ExecuteTime": {
     "end_time": "2025-10-01T12:49:47.830208Z",
     "start_time": "2025-10-01T12:49:47.824658Z"
    }
   },
   "source": [
    "dfPlat = df[['Platform', 'Year', 'Global_Sales']]\n",
    "dfPlat.head()"
   ],
   "outputs": [
    {
     "data": {
      "text/plain": [
       "  Platform    Year  Global_Sales\n",
       "0      Wii  2006.0         82.74\n",
       "1      NES  1985.0         40.24\n",
       "2      Wii  2008.0         35.82\n",
       "3      Wii  2009.0         33.00\n",
       "4       GB  1996.0         31.37"
      ],
      "text/html": [
       "<div>\n",
       "<style scoped>\n",
       "    .dataframe tbody tr th:only-of-type {\n",
       "        vertical-align: middle;\n",
       "    }\n",
       "\n",
       "    .dataframe tbody tr th {\n",
       "        vertical-align: top;\n",
       "    }\n",
       "\n",
       "    .dataframe thead th {\n",
       "        text-align: right;\n",
       "    }\n",
       "</style>\n",
       "<table border=\"1\" class=\"dataframe\">\n",
       "  <thead>\n",
       "    <tr style=\"text-align: right;\">\n",
       "      <th></th>\n",
       "      <th>Platform</th>\n",
       "      <th>Year</th>\n",
       "      <th>Global_Sales</th>\n",
       "    </tr>\n",
       "  </thead>\n",
       "  <tbody>\n",
       "    <tr>\n",
       "      <th>0</th>\n",
       "      <td>Wii</td>\n",
       "      <td>2006.0</td>\n",
       "      <td>82.74</td>\n",
       "    </tr>\n",
       "    <tr>\n",
       "      <th>1</th>\n",
       "      <td>NES</td>\n",
       "      <td>1985.0</td>\n",
       "      <td>40.24</td>\n",
       "    </tr>\n",
       "    <tr>\n",
       "      <th>2</th>\n",
       "      <td>Wii</td>\n",
       "      <td>2008.0</td>\n",
       "      <td>35.82</td>\n",
       "    </tr>\n",
       "    <tr>\n",
       "      <th>3</th>\n",
       "      <td>Wii</td>\n",
       "      <td>2009.0</td>\n",
       "      <td>33.00</td>\n",
       "    </tr>\n",
       "    <tr>\n",
       "      <th>4</th>\n",
       "      <td>GB</td>\n",
       "      <td>1996.0</td>\n",
       "      <td>31.37</td>\n",
       "    </tr>\n",
       "  </tbody>\n",
       "</table>\n",
       "</div>"
      ]
     },
     "execution_count": 34,
     "metadata": {},
     "output_type": "execute_result"
    }
   ],
   "execution_count": 34
  },
  {
   "cell_type": "code",
   "metadata": {
    "colab": {
     "base_uri": "https://localhost:8080/",
     "height": 206
    },
    "id": "ffm1stlrT4Wp",
    "outputId": "b56b1ca9-7742-4a63-bfe7-8b957ac558b3",
    "ExecuteTime": {
     "end_time": "2025-10-01T12:49:47.906058Z",
     "start_time": "2025-10-01T12:49:47.896580Z"
    }
   },
   "source": [
    "dfPlatMillenial = dfPlat.where(dfPlat['Year'] < 2000)\n",
    "dfPlatMillenial.dropna(inplace = True)\n",
    "dfPlatMillenial.head()"
   ],
   "outputs": [
    {
     "data": {
      "text/plain": [
       "   Platform    Year  Global_Sales\n",
       "1       NES  1985.0         40.24\n",
       "4        GB  1996.0         31.37\n",
       "5        GB  1989.0         30.26\n",
       "9       NES  1984.0         28.31\n",
       "12       GB  1999.0         23.10"
      ],
      "text/html": [
       "<div>\n",
       "<style scoped>\n",
       "    .dataframe tbody tr th:only-of-type {\n",
       "        vertical-align: middle;\n",
       "    }\n",
       "\n",
       "    .dataframe tbody tr th {\n",
       "        vertical-align: top;\n",
       "    }\n",
       "\n",
       "    .dataframe thead th {\n",
       "        text-align: right;\n",
       "    }\n",
       "</style>\n",
       "<table border=\"1\" class=\"dataframe\">\n",
       "  <thead>\n",
       "    <tr style=\"text-align: right;\">\n",
       "      <th></th>\n",
       "      <th>Platform</th>\n",
       "      <th>Year</th>\n",
       "      <th>Global_Sales</th>\n",
       "    </tr>\n",
       "  </thead>\n",
       "  <tbody>\n",
       "    <tr>\n",
       "      <th>1</th>\n",
       "      <td>NES</td>\n",
       "      <td>1985.0</td>\n",
       "      <td>40.24</td>\n",
       "    </tr>\n",
       "    <tr>\n",
       "      <th>4</th>\n",
       "      <td>GB</td>\n",
       "      <td>1996.0</td>\n",
       "      <td>31.37</td>\n",
       "    </tr>\n",
       "    <tr>\n",
       "      <th>5</th>\n",
       "      <td>GB</td>\n",
       "      <td>1989.0</td>\n",
       "      <td>30.26</td>\n",
       "    </tr>\n",
       "    <tr>\n",
       "      <th>9</th>\n",
       "      <td>NES</td>\n",
       "      <td>1984.0</td>\n",
       "      <td>28.31</td>\n",
       "    </tr>\n",
       "    <tr>\n",
       "      <th>12</th>\n",
       "      <td>GB</td>\n",
       "      <td>1999.0</td>\n",
       "      <td>23.10</td>\n",
       "    </tr>\n",
       "  </tbody>\n",
       "</table>\n",
       "</div>"
      ]
     },
     "execution_count": 35,
     "metadata": {},
     "output_type": "execute_result"
    }
   ],
   "execution_count": 35
  },
  {
   "cell_type": "code",
   "metadata": {
    "colab": {
     "base_uri": "https://localhost:8080/",
     "height": 206
    },
    "id": "m2efSSDxDaUk",
    "outputId": "7e7e6228-2912-4ea0-e106-503520f398c1",
    "ExecuteTime": {
     "end_time": "2025-10-01T12:49:48.074828Z",
     "start_time": "2025-10-01T12:49:48.068943Z"
    }
   },
   "source": [
    "dfPlatMillenial = dfPlatMillenial.groupby('Platform')['Global_Sales'].sum().reset_index()\n",
    "dfPlatMillenial = dfPlatMillenial.sort_values(by='Global_Sales', ascending=False).head()\n",
    "dfPlatMillenial.head()"
   ],
   "outputs": [
    {
     "data": {
      "text/plain": [
       "   Platform  Global_Sales\n",
       "12       PS        586.85\n",
       "8       NES        251.07\n",
       "4        GB        225.42\n",
       "15     SNES        200.05\n",
       "7       N64        180.86"
      ],
      "text/html": [
       "<div>\n",
       "<style scoped>\n",
       "    .dataframe tbody tr th:only-of-type {\n",
       "        vertical-align: middle;\n",
       "    }\n",
       "\n",
       "    .dataframe tbody tr th {\n",
       "        vertical-align: top;\n",
       "    }\n",
       "\n",
       "    .dataframe thead th {\n",
       "        text-align: right;\n",
       "    }\n",
       "</style>\n",
       "<table border=\"1\" class=\"dataframe\">\n",
       "  <thead>\n",
       "    <tr style=\"text-align: right;\">\n",
       "      <th></th>\n",
       "      <th>Platform</th>\n",
       "      <th>Global_Sales</th>\n",
       "    </tr>\n",
       "  </thead>\n",
       "  <tbody>\n",
       "    <tr>\n",
       "      <th>12</th>\n",
       "      <td>PS</td>\n",
       "      <td>586.85</td>\n",
       "    </tr>\n",
       "    <tr>\n",
       "      <th>8</th>\n",
       "      <td>NES</td>\n",
       "      <td>251.07</td>\n",
       "    </tr>\n",
       "    <tr>\n",
       "      <th>4</th>\n",
       "      <td>GB</td>\n",
       "      <td>225.42</td>\n",
       "    </tr>\n",
       "    <tr>\n",
       "      <th>15</th>\n",
       "      <td>SNES</td>\n",
       "      <td>200.05</td>\n",
       "    </tr>\n",
       "    <tr>\n",
       "      <th>7</th>\n",
       "      <td>N64</td>\n",
       "      <td>180.86</td>\n",
       "    </tr>\n",
       "  </tbody>\n",
       "</table>\n",
       "</div>"
      ]
     },
     "execution_count": 36,
     "metadata": {},
     "output_type": "execute_result"
    }
   ],
   "execution_count": 36
  },
  {
   "cell_type": "markdown",
   "metadata": {
    "id": "BuEqSypbacIm"
   },
   "source": [
    "- Plataformas mais Vendidas Mundialmente Depois dos Anos 2000"
   ]
  },
  {
   "cell_type": "code",
   "metadata": {
    "colab": {
     "base_uri": "https://localhost:8080/",
     "height": 206
    },
    "id": "yE3DwMAsYylA",
    "outputId": "a5bdf8c2-2acf-4019-9e36-2246e5e105a5",
    "ExecuteTime": {
     "end_time": "2025-10-01T12:49:48.205297Z",
     "start_time": "2025-10-01T12:49:48.197652Z"
    }
   },
   "source": [
    "dfPlatZ = dfPlat.where(dfPlat['Year'] > 2000)\n",
    "dfPlatZ.dropna(inplace = True)\n",
    "dfPlatZ.head()"
   ],
   "outputs": [
    {
     "data": {
      "text/plain": [
       "  Platform    Year  Global_Sales\n",
       "0      Wii  2006.0         82.74\n",
       "2      Wii  2008.0         35.82\n",
       "3      Wii  2009.0         33.00\n",
       "6       DS  2006.0         30.01\n",
       "7      Wii  2006.0         29.02"
      ],
      "text/html": [
       "<div>\n",
       "<style scoped>\n",
       "    .dataframe tbody tr th:only-of-type {\n",
       "        vertical-align: middle;\n",
       "    }\n",
       "\n",
       "    .dataframe tbody tr th {\n",
       "        vertical-align: top;\n",
       "    }\n",
       "\n",
       "    .dataframe thead th {\n",
       "        text-align: right;\n",
       "    }\n",
       "</style>\n",
       "<table border=\"1\" class=\"dataframe\">\n",
       "  <thead>\n",
       "    <tr style=\"text-align: right;\">\n",
       "      <th></th>\n",
       "      <th>Platform</th>\n",
       "      <th>Year</th>\n",
       "      <th>Global_Sales</th>\n",
       "    </tr>\n",
       "  </thead>\n",
       "  <tbody>\n",
       "    <tr>\n",
       "      <th>0</th>\n",
       "      <td>Wii</td>\n",
       "      <td>2006.0</td>\n",
       "      <td>82.74</td>\n",
       "    </tr>\n",
       "    <tr>\n",
       "      <th>2</th>\n",
       "      <td>Wii</td>\n",
       "      <td>2008.0</td>\n",
       "      <td>35.82</td>\n",
       "    </tr>\n",
       "    <tr>\n",
       "      <th>3</th>\n",
       "      <td>Wii</td>\n",
       "      <td>2009.0</td>\n",
       "      <td>33.00</td>\n",
       "    </tr>\n",
       "    <tr>\n",
       "      <th>6</th>\n",
       "      <td>DS</td>\n",
       "      <td>2006.0</td>\n",
       "      <td>30.01</td>\n",
       "    </tr>\n",
       "    <tr>\n",
       "      <th>7</th>\n",
       "      <td>Wii</td>\n",
       "      <td>2006.0</td>\n",
       "      <td>29.02</td>\n",
       "    </tr>\n",
       "  </tbody>\n",
       "</table>\n",
       "</div>"
      ]
     },
     "execution_count": 37,
     "metadata": {},
     "output_type": "execute_result"
    }
   ],
   "execution_count": 37
  },
  {
   "cell_type": "code",
   "metadata": {
    "colab": {
     "base_uri": "https://localhost:8080/",
     "height": 206
    },
    "id": "2PCp5HZcaonW",
    "outputId": "f214e9b9-4236-4dad-d8c8-f5af6f8729b1",
    "ExecuteTime": {
     "end_time": "2025-10-01T12:49:48.340106Z",
     "start_time": "2025-10-01T12:49:48.333010Z"
    }
   },
   "source": [
    "dfPlatZ = dfPlatZ.groupby('Platform')['Global_Sales'].sum().reset_index()\n",
    "dfPlatZ = dfPlatZ.sort_values(by='Global_Sales', ascending=False).head()\n",
    "dfPlatZ.head()"
   ],
   "outputs": [
    {
     "data": {
      "text/plain": [
       "   Platform  Global_Sales\n",
       "10      PS2       1216.53\n",
       "18     X360        979.96\n",
       "11      PS3        957.84\n",
       "16      Wii        926.71\n",
       "3        DS        822.47"
      ],
      "text/html": [
       "<div>\n",
       "<style scoped>\n",
       "    .dataframe tbody tr th:only-of-type {\n",
       "        vertical-align: middle;\n",
       "    }\n",
       "\n",
       "    .dataframe tbody tr th {\n",
       "        vertical-align: top;\n",
       "    }\n",
       "\n",
       "    .dataframe thead th {\n",
       "        text-align: right;\n",
       "    }\n",
       "</style>\n",
       "<table border=\"1\" class=\"dataframe\">\n",
       "  <thead>\n",
       "    <tr style=\"text-align: right;\">\n",
       "      <th></th>\n",
       "      <th>Platform</th>\n",
       "      <th>Global_Sales</th>\n",
       "    </tr>\n",
       "  </thead>\n",
       "  <tbody>\n",
       "    <tr>\n",
       "      <th>10</th>\n",
       "      <td>PS2</td>\n",
       "      <td>1216.53</td>\n",
       "    </tr>\n",
       "    <tr>\n",
       "      <th>18</th>\n",
       "      <td>X360</td>\n",
       "      <td>979.96</td>\n",
       "    </tr>\n",
       "    <tr>\n",
       "      <th>11</th>\n",
       "      <td>PS3</td>\n",
       "      <td>957.84</td>\n",
       "    </tr>\n",
       "    <tr>\n",
       "      <th>16</th>\n",
       "      <td>Wii</td>\n",
       "      <td>926.71</td>\n",
       "    </tr>\n",
       "    <tr>\n",
       "      <th>3</th>\n",
       "      <td>DS</td>\n",
       "      <td>822.47</td>\n",
       "    </tr>\n",
       "  </tbody>\n",
       "</table>\n",
       "</div>"
      ]
     },
     "execution_count": 38,
     "metadata": {},
     "output_type": "execute_result"
    }
   ],
   "execution_count": 38
  },
  {
   "cell_type": "code",
   "metadata": {
    "colab": {
     "base_uri": "https://localhost:8080/",
     "height": 492
    },
    "id": "KO-W2zjdbYVt",
    "outputId": "dd317687-0ce9-4005-bbed-22273c67f162",
    "ExecuteTime": {
     "end_time": "2025-10-01T12:49:48.670856Z",
     "start_time": "2025-10-01T12:49:48.500132Z"
    }
   },
   "source": [
    "fig, axs = plt.subplots(1, 2)\n",
    "fig.suptitle('Plataformas mais Vendidas Mundialmente Antes e Depois dos Anos 2000')\n",
    "\n",
    "# Acessa e plota no primeiro subplot (0,0)\n",
    "axs[0].bar(dfPlatMillenial['Platform'], dfPlatMillenial['Global_Sales'], color = color)\n",
    "axs[0].set_title('Antes dos Anos 2000')\n",
    "axs[0].tick_params(axis='x', labelrotation=45)\n",
    "\n",
    "# Acessa e plota no segundo subplot (0,1)\n",
    "axs[1].bar(dfPlatZ['Platform'], dfPlatZ['Global_Sales'], color = color)\n",
    "axs[1].set_title('Depois dos Anos 2000')\n",
    "axs[1].tick_params(axis='x', labelrotation=45)\n",
    "\n",
    "fig_PlatMillennial = px.bar(dfPlatMillenial, x='Platform', y='Global_Sales', title='ANTES dos anos 2000')\n",
    "pio.write_json(fig_PlatMillennial, \"Figuras/fig_PlatMillennial.json\")\n",
    "\n",
    "fig_PlatZ = px.bar(dfPlatZ, x='Platform', y='Global_Sales', title='DEPOIS dos anos 2000')\n",
    "pio.write_json(fig_PlatZ, \"Figuras/fig_PlatZ.json\")\n",
    "\n",
    "plt.tight_layout()\n",
    "plt.show()"
   ],
   "outputs": [
    {
     "data": {
      "text/plain": [
       "<Figure size 640x480 with 2 Axes>"
      ],
      "image/png": "[encoded data removed]"
     },
     "metadata": {},
     "output_type": "display_data"
    }
   ],
   "execution_count": 39
  },
  {
   "cell_type": "markdown",
   "metadata": {
    "id": "DZ7LJsG6eO5y"
   },
   "source": [
    "# Vendas dos Continentes em Relação as Vendas Globais"
   ]
  },
  {
   "cell_type": "code",
   "metadata": {
    "colab": {
     "base_uri": "https://localhost:8080/",
     "height": 424
    },
    "id": "rffJPOMsbTO9",
    "outputId": "f502806b-40fc-4e2b-bc7a-b8fee70fd485",
    "ExecuteTime": {
     "end_time": "2025-10-01T12:49:48.721757Z",
     "start_time": "2025-10-01T12:49:48.713664Z"
    }
   },
   "source": [
    "dfRelacao = df[['NA_Sales', 'EU_Sales', 'JP_Sales', 'Other_Sales', 'Global_Sales']]\n",
    "dfRelacao"
   ],
   "outputs": [
    {
     "data": {
      "text/plain": [
       "       NA_Sales  EU_Sales  JP_Sales  Other_Sales  Global_Sales\n",
       "0         41.49     29.02      3.77         8.46         82.74\n",
       "1         29.08      3.58      6.81         0.77         40.24\n",
       "2         15.85     12.88      3.79         3.31         35.82\n",
       "3         15.75     11.01      3.28         2.96         33.00\n",
       "4         11.27      8.89     10.22         1.00         31.37\n",
       "...         ...       ...       ...          ...           ...\n",
       "16593      0.01      0.00      0.00         0.00          0.01\n",
       "16594      0.01      0.00      0.00         0.00          0.01\n",
       "16595      0.00      0.00      0.00         0.00          0.01\n",
       "16596      0.00      0.01      0.00         0.00          0.01\n",
       "16597      0.01      0.00      0.00         0.00          0.01\n",
       "\n",
       "[16598 rows x 5 columns]"
      ],
      "text/html": [
       "<div>\n",
       "<style scoped>\n",
       "    .dataframe tbody tr th:only-of-type {\n",
       "        vertical-align: middle;\n",
       "    }\n",
       "\n",
       "    .dataframe tbody tr th {\n",
       "        vertical-align: top;\n",
       "    }\n",
       "\n",
       "    .dataframe thead th {\n",
       "        text-align: right;\n",
       "    }\n",
       "</style>\n",
       "<table border=\"1\" class=\"dataframe\">\n",
       "  <thead>\n",
       "    <tr style=\"text-align: right;\">\n",
       "      <th></th>\n",
       "      <th>NA_Sales</th>\n",
       "      <th>EU_Sales</th>\n",
       "      <th>JP_Sales</th>\n",
       "      <th>Other_Sales</th>\n",
       "      <th>Global_Sales</th>\n",
       "    </tr>\n",
       "  </thead>\n",
       "  <tbody>\n",
       "    <tr>\n",
       "      <th>0</th>\n",
       "      <td>41.49</td>\n",
       "      <td>29.02</td>\n",
       "      <td>3.77</td>\n",
       "      <td>8.46</td>\n",
       "      <td>82.74</td>\n",
       "    </tr>\n",
       "    <tr>\n",
       "      <th>1</th>\n",
       "      <td>29.08</td>\n",
       "      <td>3.58</td>\n",
       "      <td>6.81</td>\n",
       "      <td>0.77</td>\n",
       "      <td>40.24</td>\n",
       "    </tr>\n",
       "    <tr>\n",
       "      <th>2</th>\n",
       "      <td>15.85</td>\n",
       "      <td>12.88</td>\n",
       "      <td>3.79</td>\n",
       "      <td>3.31</td>\n",
       "      <td>35.82</td>\n",
       "    </tr>\n",
       "    <tr>\n",
       "      <th>3</th>\n",
       "      <td>15.75</td>\n",
       "      <td>11.01</td>\n",
       "      <td>3.28</td>\n",
       "      <td>2.96</td>\n",
       "      <td>33.00</td>\n",
       "    </tr>\n",
       "    <tr>\n",
       "      <th>4</th>\n",
       "      <td>11.27</td>\n",
       "      <td>8.89</td>\n",
       "      <td>10.22</td>\n",
       "      <td>1.00</td>\n",
       "      <td>31.37</td>\n",
       "    </tr>\n",
       "    <tr>\n",
       "      <th>...</th>\n",
       "      <td>...</td>\n",
       "      <td>...</td>\n",
       "      <td>...</td>\n",
       "      <td>...</td>\n",
       "      <td>...</td>\n",
       "    </tr>\n",
       "    <tr>\n",
       "      <th>16593</th>\n",
       "      <td>0.01</td>\n",
       "      <td>0.00</td>\n",
       "      <td>0.00</td>\n",
       "      <td>0.00</td>\n",
       "      <td>0.01</td>\n",
       "    </tr>\n",
       "    <tr>\n",
       "      <th>16594</th>\n",
       "      <td>0.01</td>\n",
       "      <td>0.00</td>\n",
       "      <td>0.00</td>\n",
       "      <td>0.00</td>\n",
       "      <td>0.01</td>\n",
       "    </tr>\n",
       "    <tr>\n",
       "      <th>16595</th>\n",
       "      <td>0.00</td>\n",
       "      <td>0.00</td>\n",
       "      <td>0.00</td>\n",
       "      <td>0.00</td>\n",
       "      <td>0.01</td>\n",
       "    </tr>\n",
       "    <tr>\n",
       "      <th>16596</th>\n",
       "      <td>0.00</td>\n",
       "      <td>0.01</td>\n",
       "      <td>0.00</td>\n",
       "      <td>0.00</td>\n",
       "      <td>0.01</td>\n",
       "    </tr>\n",
       "    <tr>\n",
       "      <th>16597</th>\n",
       "      <td>0.01</td>\n",
       "      <td>0.00</td>\n",
       "      <td>0.00</td>\n",
       "      <td>0.00</td>\n",
       "      <td>0.01</td>\n",
       "    </tr>\n",
       "  </tbody>\n",
       "</table>\n",
       "<p>16598 rows × 5 columns</p>\n",
       "</div>"
      ]
     },
     "execution_count": 40,
     "metadata": {},
     "output_type": "execute_result"
    }
   ],
   "execution_count": 40
  },
  {
   "cell_type": "code",
   "metadata": {
    "colab": {
     "base_uri": "https://localhost:8080/"
    },
    "id": "qbK2fm8caJfl",
    "outputId": "57b229d1-03d7-4258-9bc3-03456a7d2c6e",
    "ExecuteTime": {
     "end_time": "2025-10-01T12:49:48.798457Z",
     "start_time": "2025-10-01T12:49:48.794750Z"
    }
   },
   "source": [
    "coef_pearsonNA, p_valor = pearsonr(dfRelacao['NA_Sales'], dfRelacao['Global_Sales'])\n",
    "print(coef_pearsonNA) ## vendas da américa do norte são altamente representativas em relação as vendas globais"
   ],
   "outputs": [
    {
     "name": "stdout",
     "output_type": "stream",
     "text": [
      "0.941047357125552\n"
     ]
    }
   ],
   "execution_count": 41
  },
  {
   "cell_type": "code",
   "metadata": {
    "colab": {
     "base_uri": "https://localhost:8080/"
    },
    "id": "vIPkDbnGcz9Q",
    "outputId": "c86c5945-9af8-4f5e-bd06-f1eeee8cded6",
    "ExecuteTime": {
     "end_time": "2025-10-01T12:49:48.926424Z",
     "start_time": "2025-10-01T12:49:48.923133Z"
    }
   },
   "source": [
    "coef_pearsonEU, p_valor = pearsonr(dfRelacao['EU_Sales'], dfRelacao['Global_Sales'])\n",
    "print(coef_pearsonEU) ## vendas da europa são altamente representativas em relação as vendas globais"
   ],
   "outputs": [
    {
     "name": "stdout",
     "output_type": "stream",
     "text": [
      "0.9028358134817437\n"
     ]
    }
   ],
   "execution_count": 42
  },
  {
   "cell_type": "code",
   "metadata": {
    "colab": {
     "base_uri": "https://localhost:8080/"
    },
    "id": "PZC-pFwVdqCP",
    "outputId": "5234e21e-e625-443f-ac58-00dff67e5922",
    "ExecuteTime": {
     "end_time": "2025-10-01T12:49:49.042705Z",
     "start_time": "2025-10-01T12:49:49.039261Z"
    }
   },
   "source": [
    "coef_pearsonJP, p_valor = pearsonr(dfRelacao['JP_Sales'], dfRelacao['Global_Sales'])\n",
    "print(coef_pearsonJP)"
   ],
   "outputs": [
    {
     "name": "stdout",
     "output_type": "stream",
     "text": [
      "0.6118155181564975\n"
     ]
    }
   ],
   "execution_count": 43
  },
  {
   "cell_type": "code",
   "metadata": {
    "colab": {
     "base_uri": "https://localhost:8080/"
    },
    "id": "BOTwznbad1V3",
    "outputId": "962c83a2-cb17-44af-aca4-441bc54cea77",
    "ExecuteTime": {
     "end_time": "2025-10-01T12:49:49.100766Z",
     "start_time": "2025-10-01T12:49:49.097192Z"
    }
   },
   "source": [
    "coef_pearsonOther, p_valor = pearsonr(dfRelacao['Other_Sales'], dfRelacao['Global_Sales'])\n",
    "print(coef_pearsonOther)"
   ],
   "outputs": [
    {
     "name": "stdout",
     "output_type": "stream",
     "text": [
      "0.7483308464077953\n"
     ]
    }
   ],
   "execution_count": 44
  },
  {
   "cell_type": "code",
   "metadata": {
    "colab": {
     "base_uri": "https://localhost:8080/",
     "height": 805
    },
    "id": "_caAsevhd32m",
    "outputId": "82cee827-ccae-44ca-b505-775e0ef6521f",
    "ExecuteTime": {
     "end_time": "2025-10-01T12:49:50.824610Z",
     "start_time": "2025-10-01T12:49:49.153035Z"
    }
   },
   "source": [
    "# Cria uma figura e uma matriz de 2x2 subplots (2 linhas, 2 colunas)\n",
    "fig, axs = plt.subplots(2, 2, figsize=(10, 8))\n",
    "fig.suptitle('Relação de Vendas entre Cada Continente e as Vendas Globais', fontsize=14)\n",
    "\n",
    "# América do Norte\n",
    "sns.regplot(ax=axs[0, 0], x='NA_Sales', y='Global_Sales', data=dfRelacao, scatter_kws={\"alpha\":0.6})\n",
    "axs[0, 0].set_title(f\"{'América do Norte'} (Pearson = {coef_pearsonNA:.2f})\")\n",
    "axs[0, 0].tick_params(axis='x', labelrotation=45)\n",
    "\n",
    "# Europa\n",
    "sns.regplot(ax=axs[0, 1], x='EU_Sales', y='Global_Sales', data=dfRelacao, scatter_kws={\"alpha\":0.6})\n",
    "axs[0, 1].set_title(f\"{'Europa'} (Pearson = {coef_pearsonEU:.2f})\")\n",
    "axs[0, 1].tick_params(axis='x', labelrotation=45)\n",
    "\n",
    "# Japão\n",
    "sns.regplot(ax=axs[1, 0], x='JP_Sales', y='Global_Sales', data=dfRelacao, scatter_kws={\"alpha\":0.6})\n",
    "axs[1, 0].set_title(f\"{'Japão'} (Pearson = {coef_pearsonJP:.2f})\")\n",
    "axs[1, 0].tick_params(axis='x', labelrotation=45)\n",
    "\n",
    "# Outros\n",
    "sns.regplot(ax=axs[1, 1], x='Other_Sales', y='Global_Sales', data=dfRelacao, scatter_kws={\"alpha\":0.6})\n",
    "axs[1, 1].set_title(f\"{'Outros'} (Pearson = {coef_pearsonOther:.2f})\")\n",
    "axs[1, 1].tick_params(axis='x', labelrotation=45)\n",
    "\n",
    "# Ajusta espaçamento\n",
    "plt.tight_layout(rect=[0, 0, 1, 0.96])\n",
    "plt.show()\n"
   ],
   "outputs": [
    {
     "data": {
      "text/plain": [
       "<Figure size 1000x800 with 4 Axes>"
      ],
      "image/png": "[encoded data removed]"
     },
     "metadata": {},
     "output_type": "display_data"
    }
   ],
   "execution_count": 45
  },
  {
   "cell_type": "code",
   "metadata": {
    "ExecuteTime": {
     "end_time": "2025-10-01T12:49:51.396131Z",
     "start_time": "2025-10-01T12:49:50.852288Z"
    }
   },
   "source": [
    "fig_RelacaoNA = px.scatter(\n",
    "    dfRelacao,\n",
    "    x='NA_Sales',\n",
    "    y='Global_Sales',\n",
    "    trendline='ols',  # cria a linha de regressão\n",
    "    title=f\"América do Norte (Pearson = {coef_pearsonNA:.2f})\",\n",
    "    opacity=0.6\n",
    ")\n",
    "\n",
    "# Europa\n",
    "fig_RelacaoEU = px.scatter(\n",
    "    dfRelacao,\n",
    "    x='EU_Sales',\n",
    "    y='Global_Sales',\n",
    "    trendline='ols',\n",
    "    title=f\"Europa (Pearson = {coef_pearsonEU:.2f})\",\n",
    "    opacity=0.6\n",
    ")\n",
    "\n",
    "# Japão\n",
    "fig_RelacaoJP = px.scatter(\n",
    "    dfRelacao,\n",
    "    x='JP_Sales',\n",
    "    y='Global_Sales',\n",
    "    trendline='ols',\n",
    "    title=f\"Japão (Pearson = {coef_pearsonJP:.2f})\",\n",
    "    opacity=0.6\n",
    ")\n",
    "\n",
    "# Outros\n",
    "fig_RelacaoOther = px.scatter(\n",
    "    dfRelacao,\n",
    "    x='Other_Sales',\n",
    "    y='Global_Sales',\n",
    "    trendline='ols',\n",
    "    title=f\"Outros (Pearson = {coef_pearsonOther:.2f})\",\n",
    "    opacity=0.6\n",
    ")\n",
    "\n",
    "pio.write_json(fig_RelacaoNA, \"Figuras/fig_RelacaoNA.json\")\n",
    "pio.write_json(fig_RelacaoEU, \"Figuras/fig_RelacaoEU.json\")\n",
    "pio.write_json(fig_RelacaoJP, \"Figuras/fig_RelacaoJP.json\")\n",
    "pio.write_json(fig_RelacaoOther, \"Figuras/fig_RelacaoOther.json\")"
   ],
   "outputs": [],
   "execution_count": 46
  },
  {
   "cell_type": "code",
   "metadata": {
    "ExecuteTime": {
     "end_time": "2025-10-01T12:49:51.463493Z",
     "start_time": "2025-10-01T12:49:51.454188Z"
    }
   },
   "source": [
    "df"
   ],
   "outputs": [
    {
     "data": {
      "text/plain": [
       "        Rank                                              Name Platform  \\\n",
       "0          1                                        Wii Sports      Wii   \n",
       "1          2                                 Super Mario Bros.      NES   \n",
       "2          3                                    Mario Kart Wii      Wii   \n",
       "3          4                                 Wii Sports Resort      Wii   \n",
       "4          5                          Pokemon Red/Pokemon Blue       GB   \n",
       "...      ...                                               ...      ...   \n",
       "16593  16596                Woody Woodpecker in Crazy Castle 5      GBA   \n",
       "16594  16597                     Men in Black II: Alien Escape       GC   \n",
       "16595  16598  SCORE International Baja 1000: The Official Game      PS2   \n",
       "16596  16599                                        Know How 2       DS   \n",
       "16597  16600                                  Spirits & Spells      GBA   \n",
       "\n",
       "         Year         Genre   Publisher  NA_Sales  EU_Sales  JP_Sales  \\\n",
       "0      2006.0        Sports    Nintendo     41.49     29.02      3.77   \n",
       "1      1985.0      Platform    Nintendo     29.08      3.58      6.81   \n",
       "2      2008.0        Racing    Nintendo     15.85     12.88      3.79   \n",
       "3      2009.0        Sports    Nintendo     15.75     11.01      3.28   \n",
       "4      1996.0  Role-Playing    Nintendo     11.27      8.89     10.22   \n",
       "...       ...           ...         ...       ...       ...       ...   \n",
       "16593  2002.0      Platform       Kemco      0.01      0.00      0.00   \n",
       "16594  2003.0       Shooter  Infogrames      0.01      0.00      0.00   \n",
       "16595  2008.0        Racing  Activision      0.00      0.00      0.00   \n",
       "16596  2010.0        Puzzle    7G//AMES      0.00      0.01      0.00   \n",
       "16597  2003.0      Platform     Wanadoo      0.01      0.00      0.00   \n",
       "\n",
       "       Other_Sales  Global_Sales  \n",
       "0             8.46         82.74  \n",
       "1             0.77         40.24  \n",
       "2             3.31         35.82  \n",
       "3             2.96         33.00  \n",
       "4             1.00         31.37  \n",
       "...            ...           ...  \n",
       "16593         0.00          0.01  \n",
       "16594         0.00          0.01  \n",
       "16595         0.00          0.01  \n",
       "16596         0.00          0.01  \n",
       "16597         0.00          0.01  \n",
       "\n",
       "[16598 rows x 11 columns]"
      ],
      "text/html": [
       "<div>\n",
       "<style scoped>\n",
       "    .dataframe tbody tr th:only-of-type {\n",
       "        vertical-align: middle;\n",
       "    }\n",
       "\n",
       "    .dataframe tbody tr th {\n",
       "        vertical-align: top;\n",
       "    }\n",
       "\n",
       "    .dataframe thead th {\n",
       "        text-align: right;\n",
       "    }\n",
       "</style>\n",
       "<table border=\"1\" class=\"dataframe\">\n",
       "  <thead>\n",
       "    <tr style=\"text-align: right;\">\n",
       "      <th></th>\n",
       "      <th>Rank</th>\n",
       "      <th>Name</th>\n",
       "      <th>Platform</th>\n",
       "      <th>Year</th>\n",
       "      <th>Genre</th>\n",
       "      <th>Publisher</th>\n",
       "      <th>NA_Sales</th>\n",
       "      <th>EU_Sales</th>\n",
       "      <th>JP_Sales</th>\n",
       "      <th>Other_Sales</th>\n",
       "      <th>Global_Sales</th>\n",
       "    </tr>\n",
       "  </thead>\n",
       "  <tbody>\n",
       "    <tr>\n",
       "      <th>0</th>\n",
       "      <td>1</td>\n",
       "      <td>Wii Sports</td>\n",
       "      <td>Wii</td>\n",
       "      <td>2006.0</td>\n",
       "      <td>Sports</td>\n",
       "      <td>Nintendo</td>\n",
       "      <td>41.49</td>\n",
       "      <td>29.02</td>\n",
       "      <td>3.77</td>\n",
       "      <td>8.46</td>\n",
       "      <td>82.74</td>\n",
       "    </tr>\n",
       "    <tr>\n",
       "      <th>1</th>\n",
       "      <td>2</td>\n",
       "      <td>Super Mario Bros.</td>\n",
       "      <td>NES</td>\n",
       "      <td>1985.0</td>\n",
       "      <td>Platform</td>\n",
       "      <td>Nintendo</td>\n",
       "      <td>29.08</td>\n",
       "      <td>3.58</td>\n",
       "      <td>6.81</td>\n",
       "      <td>0.77</td>\n",
       "      <td>40.24</td>\n",
       "    </tr>\n",
       "    <tr>\n",
       "      <th>2</th>\n",
       "      <td>3</td>\n",
       "      <td>Mario Kart Wii</td>\n",
       "      <td>Wii</td>\n",
       "      <td>2008.0</td>\n",
       "      <td>Racing</td>\n",
       "      <td>Nintendo</td>\n",
       "      <td>15.85</td>\n",
       "      <td>12.88</td>\n",
       "      <td>3.79</td>\n",
       "      <td>3.31</td>\n",
       "      <td>35.82</td>\n",
       "    </tr>\n",
       "    <tr>\n",
       "      <th>3</th>\n",
       "      <td>4</td>\n",
       "      <td>Wii Sports Resort</td>\n",
       "      <td>Wii</td>\n",
       "      <td>2009.0</td>\n",
       "      <td>Sports</td>\n",
       "      <td>Nintendo</td>\n",
       "      <td>15.75</td>\n",
       "      <td>11.01</td>\n",
       "      <td>3.28</td>\n",
       "      <td>2.96</td>\n",
       "      <td>33.00</td>\n",
       "    </tr>\n",
       "    <tr>\n",
       "      <th>4</th>\n",
       "      <td>5</td>\n",
       "      <td>Pokemon Red/Pokemon Blue</td>\n",
       "      <td>GB</td>\n",
       "      <td>1996.0</td>\n",
       "      <td>Role-Playing</td>\n",
       "      <td>Nintendo</td>\n",
       "      <td>11.27</td>\n",
       "      <td>8.89</td>\n",
       "      <td>10.22</td>\n",
       "      <td>1.00</td>\n",
       "      <td>31.37</td>\n",
       "    </tr>\n",
       "    <tr>\n",
       "      <th>...</th>\n",
       "      <td>...</td>\n",
       "      <td>...</td>\n",
       "      <td>...</td>\n",
       "      <td>...</td>\n",
       "      <td>...</td>\n",
       "      <td>...</td>\n",
       "      <td>...</td>\n",
       "      <td>...</td>\n",
       "      <td>...</td>\n",
       "      <td>...</td>\n",
       "      <td>...</td>\n",
       "    </tr>\n",
       "    <tr>\n",
       "      <th>16593</th>\n",
       "      <td>16596</td>\n",
       "      <td>Woody Woodpecker in Crazy Castle 5</td>\n",
       "      <td>GBA</td>\n",
       "      <td>2002.0</td>\n",
       "      <td>Platform</td>\n",
       "      <td>Kemco</td>\n",
       "      <td>0.01</td>\n",
       "      <td>0.00</td>\n",
       "      <td>0.00</td>\n",
       "      <td>0.00</td>\n",
       "      <td>0.01</td>\n",
       "    </tr>\n",
       "    <tr>\n",
       "      <th>16594</th>\n",
       "      <td>16597</td>\n",
       "      <td>Men in Black II: Alien Escape</td>\n",
       "      <td>GC</td>\n",
       "      <td>2003.0</td>\n",
       "      <td>Shooter</td>\n",
       "      <td>Infogrames</td>\n",
       "      <td>0.01</td>\n",
       "      <td>0.00</td>\n",
       "      <td>0.00</td>\n",
       "      <td>0.00</td>\n",
       "      <td>0.01</td>\n",
       "    </tr>\n",
       "    <tr>\n",
       "      <th>16595</th>\n",
       "      <td>16598</td>\n",
       "      <td>SCORE International Baja 1000: The Official Game</td>\n",
       "      <td>PS2</td>\n",
       "      <td>2008.0</td>\n",
       "      <td>Racing</td>\n",
       "      <td>Activision</td>\n",
       "      <td>0.00</td>\n",
       "      <td>0.00</td>\n",
       "      <td>0.00</td>\n",
       "      <td>0.00</td>\n",
       "      <td>0.01</td>\n",
       "    </tr>\n",
       "    <tr>\n",
       "      <th>16596</th>\n",
       "      <td>16599</td>\n",
       "      <td>Know How 2</td>\n",
       "      <td>DS</td>\n",
       "      <td>2010.0</td>\n",
       "      <td>Puzzle</td>\n",
       "      <td>7G//AMES</td>\n",
       "      <td>0.00</td>\n",
       "      <td>0.01</td>\n",
       "      <td>0.00</td>\n",
       "      <td>0.00</td>\n",
       "      <td>0.01</td>\n",
       "    </tr>\n",
       "    <tr>\n",
       "      <th>16597</th>\n",
       "      <td>16600</td>\n",
       "      <td>Spirits &amp; Spells</td>\n",
       "      <td>GBA</td>\n",
       "      <td>2003.0</td>\n",
       "      <td>Platform</td>\n",
       "      <td>Wanadoo</td>\n",
       "      <td>0.01</td>\n",
       "      <td>0.00</td>\n",
       "      <td>0.00</td>\n",
       "      <td>0.00</td>\n",
       "      <td>0.01</td>\n",
       "    </tr>\n",
       "  </tbody>\n",
       "</table>\n",
       "<p>16598 rows × 11 columns</p>\n",
       "</div>"
      ]
     },
     "execution_count": 47,
     "metadata": {},
     "output_type": "execute_result"
    }
   ],
   "execution_count": 47
  },
  {
   "cell_type": "code",
   "metadata": {
    "ExecuteTime": {
     "end_time": "2025-10-01T12:49:51.610490Z",
     "start_time": "2025-10-01T12:49:51.584712Z"
    }
   },
   "source": [
    "df_evolucao = df.groupby(['Genre', 'Year'])['Global_Sales'].sum().reset_index()\n",
    "\n",
    "df_evolucaoAction = df_evolucao.loc[df_evolucao['Genre'] == 'Action']\n",
    "df_evolucaoAdventure = df_evolucao.loc[df_evolucao['Genre'] == 'Adventure']\n",
    "df_evolucaoFighting = df_evolucao.loc[df_evolucao['Genre'] == 'Fighting']\n",
    "df_evolucaoMisc = df_evolucao.loc[df_evolucao['Genre'] == 'Misc']\n",
    "df_evolucaoPlatform = df_evolucao.loc[df_evolucao['Genre'] == 'Platform']\n",
    "df_evolucaoPuzzle = df_evolucao.loc[df_evolucao['Genre'] == 'Puzzle']\n",
    "df_evolucaoRacing = df_evolucao.loc[df_evolucao['Genre'] == 'Racing']\n",
    "df_evolucaoRolePlaying = df_evolucao.loc[df_evolucao['Genre'] == 'Role-Playing']\n",
    "df_evolucaoShooter = df_evolucao.loc[df_evolucao['Genre'] == 'Shooter']\n",
    "df_evolucaoSimulation = df_evolucao.loc[df_evolucao['Genre'] == 'Simulation']\n",
    "df_evolucaoSports = df_evolucao.loc[df_evolucao['Genre'] == 'Sports']\n",
    "df_evolucaoStrategy = df_evolucao.loc[df_evolucao['Genre'] == 'Strategy']\n"
   ],
   "outputs": [],
   "execution_count": 48
  },
  {
   "cell_type": "code",
   "metadata": {
    "ExecuteTime": {
     "end_time": "2025-10-01T12:49:51.704713Z",
     "start_time": "2025-10-01T12:49:51.701335Z"
    }
   },
   "source": [
    "df_evolucao['Genre'].unique()"
   ],
   "outputs": [
    {
     "data": {
      "text/plain": [
       "array(['Action', 'Adventure', 'Fighting', 'Misc', 'Platform', 'Puzzle',\n",
       "       'Racing', 'Role-Playing', 'Shooter', 'Simulation', 'Sports',\n",
       "       'Strategy'], dtype=object)"
      ]
     },
     "execution_count": 49,
     "metadata": {},
     "output_type": "execute_result"
    }
   ],
   "execution_count": 49
  },
  {
   "cell_type": "code",
   "metadata": {
    "ExecuteTime": {
     "end_time": "2025-10-01T12:58:12.391332Z",
     "start_time": "2025-10-01T12:58:12.203190Z"
    }
   },
   "source": [
    "fig_EvoGenAction = px.line(df_evolucaoAction, x='Year', y='Global_Sales')\n",
    "fig_EvoGenAction.update_traces(line_color=\"#B199E9\")\n",
    "pio.write_json(fig_EvoGenAction, \"Figuras/fig_EvoGenAction.json\")\n",
    "\n",
    "fig_EvoGenAdventure = px.line(df_evolucaoAdventure, x='Year', y='Global_Sales')\n",
    "fig_EvoGenAdventure.update_traces(line_color=\"#C7DA25\")\n",
    "pio.write_json(fig_EvoGenAdventure, \"Figuras/fig_EvoGenAdventure.json\")\n",
    "\n",
    "# Fighting\n",
    "fig_EvoGenFighting = px.line(df_evolucaoFighting, x='Year', y='Global_Sales')\n",
    "fig_EvoGenFighting.update_traces(line_color=\"#3AB384\")\n",
    "pio.write_json(fig_EvoGenFighting, \"Figuras/fig_EvoGenFighting.json\")\n",
    "\n",
    "# Misc\n",
    "fig_EvoGenMisc = px.line(df_evolucaoMisc, x='Year', y='Global_Sales')\n",
    "fig_EvoGenMisc.update_traces(line_color=\"#B14248\")\n",
    "pio.write_json(fig_EvoGenMisc, \"Figuras/fig_EvoGenMisc.json\")\n",
    "\n",
    "# Platform\n",
    "fig_EvoGenPlatform = px.line(df_evolucaoPlatform, x='Year', y='Global_Sales')\n",
    "fig_EvoGenPlatform.update_traces(line_color=\"#E7A958\")\n",
    "pio.write_json(fig_EvoGenPlatform, \"Figuras/fig_EvoGenPlatform.json\")\n",
    "\n",
    "# Puzzle\n",
    "fig_EvoGenPuzzle = px.line(df_evolucaoPuzzle, x='Year', y='Global_Sales')\n",
    "fig_EvoGenPuzzle.update_traces(line_color=\"#3763B4\")\n",
    "pio.write_json(fig_EvoGenPuzzle, \"Figuras/fig_EvoGenPuzzle.json\")\n",
    "\n",
    "# Racing\n",
    "fig_EvoGenRacing = px.line(df_evolucaoRacing, x='Year', y='Global_Sales')\n",
    "fig_EvoGenRacing.update_traces(line_color=\"#BE2C9F\")\n",
    "pio.write_json(fig_EvoGenRacing, \"Figuras/fig_EvoGenRacing.json\")\n",
    "\n",
    "# Role-Playing\n",
    "fig_EvoGenRolePlaying = px.line(df_evolucaoRolePlaying, x='Year', y='Global_Sales')\n",
    "fig_EvoGenRolePlaying.update_traces(line_color=\"#21B613\")\n",
    "pio.write_json(fig_EvoGenRolePlaying, \"Figuras/fig_EvoGenRolePlaying.json\")\n",
    "\n",
    "# Shooter\n",
    "fig_EvoGenShooter = px.line(df_evolucaoShooter, x='Year', y='Global_Sales')\n",
    "fig_EvoGenShooter.update_traces(line_color=\"#E99999\")\n",
    "pio.write_json(fig_EvoGenShooter, \"Figuras/fig_EvoGenShooter.json\")\n",
    "\n",
    "# Simulation\n",
    "fig_EvoGenSimulation = px.line(df_evolucaoSimulation, x='Year', y='Global_Sales')\n",
    "fig_EvoGenSimulation.update_traces(line_color=\"#A7DF3F\")\n",
    "pio.write_json(fig_EvoGenSimulation, \"Figuras/fig_EvoGenSimulation.json\")\n",
    "\n",
    "# Sports\n",
    "fig_EvoGenSports = px.line(df_evolucaoSports, x='Year', y='Global_Sales')\n",
    "fig_EvoGenSports.update_traces(line_color=\"#E9A7A7\")\n",
    "pio.write_json(fig_EvoGenSports, \"Figuras/fig_EvoGenSports.json\")\n",
    "\n",
    "# Strategy\n",
    "fig_EvoGenStrategy = px.line(df_evolucaoStrategy, x='Year', y='Global_Sales')\n",
    "fig_EvoGenStrategy.update_traces(line_color=\"#FF00EA\")\n",
    "pio.write_json(fig_EvoGenStrategy, \"Figuras/fig_EvoGenStrategy.json\")\n",
    "\n"
   ],
   "outputs": [],
   "execution_count": 54
  },
  {
   "cell_type": "code",
   "execution_count": null,
   "metadata": {},
   "outputs": [],
   "source": []
  }
 ],
 "metadata": {
  "colab": {
   "provenance": []
  },
  "kernelspec": {
   "display_name": "Python 3",
   "name": "python3"
  },
  "language_info": {
   "codemirror_mode": {
    "name": "ipython",
    "version": 3
   },
   "file_extension": ".py",
   "mimetype": "text/x-python",
   "name": "python",
   "nbconvert_exporter": "python",
   "pygments_lexer": "ipython3",
   "version": "3.13.7"
  }
 },
 "nbformat": 4,
 "nbformat_minor": 0
}
